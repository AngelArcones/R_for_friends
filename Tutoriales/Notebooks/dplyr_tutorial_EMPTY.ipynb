{
 "cells": [
  {
   "cell_type": "markdown",
   "metadata": {},
   "source": [
    "# Manejo de tablas con `dplyr`  \n",
    "Este Notebook muestra alguna de las funciones más comunes del paquete dplyr, explicando su sintaxis y mostando algunos ejemplos de usos."
   ]
  },
  {
   "cell_type": "code",
   "execution_count": null,
   "metadata": {},
   "outputs": [],
   "source": [
    "#Instalar paquetes la primera vez:\n",
    "#install.packages(\"tidyverse\")\n",
    "install.packages(\"dslabs\")"
   ]
  },
  {
   "cell_type": "code",
   "execution_count": null,
   "metadata": {
    "scrolled": true
   },
   "outputs": [],
   "source": [
    "library(tidyverse)\n",
    "library(dslabs)"
   ]
  },
  {
   "cell_type": "markdown",
   "metadata": {},
   "source": [
    "## Tidyverse\n",
    "\n",
    "Tidyverse agrupa un conjunto de paquetes que contienen funciones para el tratamiento y visualizacion de datos en R:  \n",
    "- dplyr = manejo de tablas de datos \n",
    "- ggplot2 = creación de gráficos de alta calidad y personalizables\n",
    "- readr = lectura de archivos con tablas de datos\n",
    "- tibble = creación y manejo de tablas tipo *tibble* (una version mejorada de los data frames básicos)\n",
    "- stringr = operaciones con *strings* (texto)\n",
    "- tidyr = manupulación de tablas para hacelas _alargadas_ (agrupar las variables, pocas columnas y muchas observaciones), o _ensanchadas_ (proceso contrario)\n",
    "- forcats = operaciones para manejo de variables categóricas\n",
    "- purrr = aplicar operaciones a cada elemento de una columna o fila (entre otras cosas)\n",
    "\n",
    "Tidyverse está muy extendido como el principal entorno para manejo de tablas de datos. Todos los paquetes comparten una sintaxis y un funcionamiento similares que permiten realizar las tareas con un codigo mas limpio, entendible y sin incompatibilidades.  \n",
    "\n",
    "En este notebook se mostarán principalmente las funcionalidades de la librería **dplyr**, aunque complementando con alguna otra (p.ej. tidyr).  \n",
    "\n",
    "Un resumen de todas las opciones y funciones que ofrece dplyr puede verse en [**esta cheat sheet**](https://raw.githubusercontent.com/rstudio/cheatsheets/main/data-transformation.pdf)"
   ]
  },
  {
   "cell_type": "markdown",
   "metadata": {},
   "source": [
    "## dslabs / gapminder\n",
    "\n",
    "dslabs es un paquete que cuenta con diversos datasets a los que se puede llamar directamente usando la librería. Estos datasets están especialmente pensados para ser usados en pruebas y tutoriales, con tablas de datos ya organizados de diferentes temáticas y estructuras  \n",
    "\n",
    "En este caso los ejemplos usarán la tabla gapminder: un juego de palabras con el aviso que suena por megafonia en el metro de londres (\"mind the gap\"), y al mismo tiempo sobre las desigualdades (\"gap\") que hay entre paises en diferentes partes del mundo, y cómo han ido cambiando con el tiempo.\n",
    "\n",
    "El impulsor de estos datos es Hans Rosling, que en [esta maravillosa charla TED](https://www.youtube.com/watch?v=hVimVzgtD6w) cambió la forma no solo de ver las diferencias entre primer/tercer mundo, si no tambien de lo que todo lo pueden contar los datos y lo importante de tenerlos accesibles."
   ]
  },
  {
   "cell_type": "code",
   "execution_count": null,
   "metadata": {
    "scrolled": true
   },
   "outputs": [],
   "source": [
    "df <- gapminder\n",
    "head(df)\n",
    "tail(df)"
   ]
  },
  {
   "cell_type": "markdown",
   "metadata": {},
   "source": [
    "## El pipe ( %>% )\n",
    "\n",
    "Uno de los elementos más distintivos de tidyverse es el pipe (escrito como %>% ) \n",
    "\n",
    "Normalmente la forma de realizar varias operaciones seguidas en R es ejecutar una por línea (sobreescribiendo el objeto o creando varios), o bien anidando funciones a base de meter una funcion dentro de otra que a su vez está dentro de otra (con el riesgo de errores y confusión)  \n",
    "\n",
    "Para ello, con tidyverse suele emplearse el pipe, que permite encadenar las funciones a ejecutar en fila, de forma que el resultado saliente de una entre directamente en la siguiente, consiguiendo un código más limpio y legible."
   ]
  },
  {
   "cell_type": "code",
   "execution_count": null,
   "metadata": {},
   "outputs": [],
   "source": [
    "#Calcular la media de una columna y redondear\n",
    "#Metodo clásico\n",
    "round(mean(df$life_expectancy))"
   ]
  },
  {
   "cell_type": "code",
   "execution_count": null,
   "metadata": {},
   "outputs": [],
   "source": [
    "#Usando el pipe\n",
    "df$life_expectancy %>% mean() %>% round()"
   ]
  },
  {
   "cell_type": "markdown",
   "metadata": {},
   "source": [
    "Y por supuesto, tambien se puede guardar como objeto (da igual al principio o al final)"
   ]
  },
  {
   "cell_type": "code",
   "execution_count": null,
   "metadata": {},
   "outputs": [],
   "source": [
    "mean_life_expectancy <- df$life_expectancy %>% mean() %>% round()\n",
    "\n",
    "df$life_expectancy %>% mean() %>% round() -> mean_life_expectancy_alt "
   ]
  },
  {
   "cell_type": "markdown",
   "metadata": {},
   "source": [
    "Al comparar si son iguales:"
   ]
  },
  {
   "cell_type": "code",
   "execution_count": null,
   "metadata": {},
   "outputs": [],
   "source": [
    "mean_life_expectancy == mean_life_expectancy_alt"
   ]
  },
  {
   "cell_type": "markdown",
   "metadata": {},
   "source": [
    "## Operaciones básicas"
   ]
  },
  {
   "cell_type": "markdown",
   "metadata": {},
   "source": [
    "**Nota:** cuando estamos trabajando con funciones de tidyverse sobre un dataframe, se puede llamar a las columnas directamente, sin necesidad de usar '$'"
   ]
  },
  {
   "cell_type": "markdown",
   "metadata": {},
   "source": [
    "### Select (seleccionar columnas)"
   ]
  },
  {
   "cell_type": "markdown",
   "metadata": {},
   "source": [
    "Sintaxis básica:  \n",
    "**select**(el `dataframe` (entra con el pipe), `nombre de columna/s`  con las que quedarse)"
   ]
  },
  {
   "cell_type": "code",
   "execution_count": null,
   "metadata": {
    "scrolled": true
   },
   "outputs": [],
   "source": [
    "#viene bien recordar los nombres de las columnas\n",
    "names(df)"
   ]
  },
  {
   "cell_type": "code",
   "execution_count": null,
   "metadata": {},
   "outputs": [],
   "source": [
    "#Seleccionar solo algunas columnas\n",
    "df %>% select(country, continent, region) %>% head()"
   ]
  },
  {
   "cell_type": "code",
   "execution_count": null,
   "metadata": {},
   "outputs": [],
   "source": [
    "#Seleccionar por exclusión de otras (todas menos \"continent\" y \"region\")\n",
    "df %>% select(-continent, -region) %>% head()"
   ]
  },
  {
   "cell_type": "markdown",
   "metadata": {},
   "source": [
    "### Filter (filtrar filas)"
   ]
  },
  {
   "cell_type": "markdown",
   "metadata": {},
   "source": [
    "Una función muy util que permite quedarte solo con las filas (casos) que cumplen un determinado criterio, similar al proceso de hacer un query en otros lenguajes\n",
    "\n",
    "**Sintaxis básica:**\n",
    "\n",
    "filter(el data frame, nombre de columna == 'criterio que cumplen las filas que te interesan')\n",
    "\n",
    "El criterio puede ser cualquier comparador o que devuelva TRUE/FALSE, por ejemplo:  \n",
    "- **==** que sea igual a un valor o palabra\n",
    "- **!=** que sea diferente a un valor o palabra\n",
    "- **>** **<** que sea mayor o menor que un valor\n",
    "- **>=** **=<** que sea igual o mayor/menor a un valor\n",
    "- **is.na()** que sea NA \n",
    "- **!is.na()** que NO sea NA \n",
    "- **%in%** que aparezca en una lista de elementos\n",
    "\n",
    "Además se pueden encadenar argumentos:  \n",
    "- **&**: condición 1 **y** condicion 2\n",
    "- **|**: condición 1 **o** condicion 2"
   ]
  },
  {
   "cell_type": "code",
   "execution_count": null,
   "metadata": {},
   "outputs": [],
   "source": [
    "#Selección sencilla\n",
    "df %>% filter(country == 'France') %>% head()"
   ]
  },
  {
   "cell_type": "code",
   "execution_count": null,
   "metadata": {},
   "outputs": [],
   "source": [
    "#Selección por dos criterios\n",
    "df %>% filter(country == 'Spain' & year >= 2008)"
   ]
  },
  {
   "cell_type": "code",
   "execution_count": null,
   "metadata": {
    "scrolled": true
   },
   "outputs": [],
   "source": [
    "#Seleccionar que los NO tengan NAs en un campo (y ver solo los primeros resultados)\n",
    "df %>% filter(!is.na(gdp)) %>% head()"
   ]
  },
  {
   "cell_type": "markdown",
   "metadata": {},
   "source": [
    "###Sampling (muestreo aleatorio)\n",
    "Las funciones de sampleo permiten seleccionar aleatoriamente registros de una tabla, bien sea por cantidad con `sample_n()` o por proporción con `sample_frac()`.  \n",
    "\n",
    "**Sintaxis básica:**  \n",
    "sample_X(`dataframe`, `cantidad/proporción`, `replace = TRUE/FALSE`)  \n",
    "\n",
    "El parametro `replace` indica si un mismo registro se puede seleccionar mas de una vez (replace = True) o si se debe samplear sin repetición (replace = False)"
   ]
  },
  {
   "cell_type": "code",
   "execution_count": null,
   "metadata": {},
   "outputs": [],
   "source": [
    "# Seleccionar 10 obsevaciones al azar\n",
    "\n",
    "set.seed(123) # Aqui se fija una \"semilla\" para generar numeros random. Si la semilla es la misma, el resultado también\n",
    "df %>% sample_n(10, replace = FALSE)"
   ]
  },
  {
   "cell_type": "markdown",
   "metadata": {},
   "source": [
    "### Arrange (ordenar por una columna)"
   ]
  },
  {
   "cell_type": "markdown",
   "metadata": {},
   "source": [
    "Arrange ordena todo el dataframe en función de los valores (numéricos, alfabéticos o de orden de factor) de una columna seleccionada.  \n",
    "\n",
    "**Sintaxis básica:**  \n",
    "arrange(el `dataframe`, `columna de ordenación`) \n",
    "\n",
    "nota: Por defecto, la ordenación es ascendente (de menor a mayor). Para una ordenación descendente, se incluiría el nombre de la columna dentro de la función `desc()`, de la siguiente manera:  \n",
    "arrange(el `dataframe`, desc(`columna de ordenación`))"
   ]
  },
  {
   "cell_type": "code",
   "execution_count": null,
   "metadata": {},
   "outputs": [],
   "source": [
    "#Ver los 10 años de España con mayor esperanza de vida\n",
    "#Filtrar por pais = España, ordenar por esperanza de vida descendente, ver 10 primeros registros\n",
    "df %>% filter(country == 'Spain') %>% arrange(desc(life_expectancy)) %>% head()"
   ]
  },
  {
   "cell_type": "markdown",
   "metadata": {},
   "source": [
    "### Mutate (crear columnas)"
   ]
  },
  {
   "cell_type": "markdown",
   "metadata": {},
   "source": [
    "Mutate permite crear nuevas columnas aplicando un criterio (normalmente transformaciones de una o varias columnas ya existentes)\n",
    "\n",
    "**Sintaxis básica:**  \n",
    "mutate(el `dataframe`, `Nueva_columna` = `Operacion para generarla`)"
   ]
  },
  {
   "cell_type": "code",
   "execution_count": null,
   "metadata": {},
   "outputs": [],
   "source": [
    "#Calcular el PIB per capita a partir de dividir la columna gdp (gross domestic product) entre la de population\n",
    "#Nota: para eliminar  primero las filas que tengan ALGUN valor NA (en cualquier columna), se usa na.omit()\n",
    "df %>% mutate(gdp_per_capapita = gdp/population) %>% na.omit() %>%  head()"
   ]
  },
  {
   "cell_type": "markdown",
   "metadata": {},
   "source": [
    "### Case_when (generar valores según múltiples condiciones)"
   ]
  },
  {
   "cell_type": "markdown",
   "metadata": {},
   "source": [
    "La función case_when es muy util cuando se quiere, por ejemplo, crear una nueva variable que sea el resultado de aplicar varios argumentos condicionales. Por ejemplo, si queremos que nos añada un valor o una etiqueta dependiendo de si se cumple una u otra condición.  \n",
    "\n",
    "**Sintaxis**\n",
    "\n",
    "La sintaxis de case_when puede parecer inicialmente más complicada, pero una vez entendida resulta sencilla de usar y ampliar los casos.\n",
    "\n",
    "de forma basica, sería:\n",
    "case_when(`condición` ~ `resultado`)\n",
    "\n",
    "En la condición se incluye un conjunto de datos (p.ej. una columna de una tabla), y el resultado de la función será una lista de datos de la misma longitud, los cuales mostrarán el `resultado` en los casos en los que se cumpla la `condición` impuesta."
   ]
  },
  {
   "cell_type": "markdown",
   "metadata": {},
   "source": [
    "Ejemplo: con los datos de 2011, ver qué paises serían considerados como desarrollados ( _developed_ ) o en vías de desarrollo ( _developing_ ) en base a si el cálculo de PIB per capita es > 12000 (developed) o menor (developing)"
   ]
  },
  {
   "cell_type": "code",
   "execution_count": null,
   "metadata": {},
   "outputs": [],
   "source": [
    "# Crear tabla filtrada con datos solo de 2011\n",
    "df_2011 <- df %>% filter(year == 2011)"
   ]
  },
  {
   "cell_type": "markdown",
   "metadata": {},
   "source": [
    "Al aplicar la función case_when, el resultado es una lista de la misma longitud que el input"
   ]
  },
  {
   "cell_type": "code",
   "execution_count": null,
   "metadata": {},
   "outputs": [],
   "source": [
    "case_when((df_2011$gdp / df_2011$population) >= 12000 ~ \"DEVELOPED\",\n",
    "         (df_2011$gdp / df_2011$population) <= 12000 ~ \"Developing\")"
   ]
  },
  {
   "cell_type": "markdown",
   "metadata": {},
   "source": [
    "Este resultado tiene 2 problemas:  \n",
    "1) Una lista como tal no es útil, es mejor si se asigna a una nueva variable de la tabla.  \n",
    "2) Hay casos que se escapan a las condiciones descritas (los NAs, por ejemplo).\n",
    "\n",
    "Para ello, vamos a guardar el resultado como una nueva variable  **STATUS** en la tabla, pero esta vez definiendo como developing countries a los que tengan un resultado > 5000, y indicando dos nuevas condiciones.  \n",
    "Primero, que los resultados que sean NA los marque como \"No info\".  \n",
    "Segundo que los casos que no caigan dentro de ninguna de las condiciones se les asigne la etiqueta \"other\" (en este caso serían las economías del tercer mundo). Indicamos esos \"casos restantes sin contemplar\" utilizando como último argumento _TRUE_\n",
    "\n",
    "\n",
    "**Nota:** las condiciones en case_when se aplican en el orden escrito, es decir, si un caso cumple la primera, ya no será considerado en las siguientes."
   ]
  },
  {
   "cell_type": "code",
   "execution_count": null,
   "metadata": {},
   "outputs": [],
   "source": [
    "df_2011$STATUS <- case_when((df_2011$gdp / df_2011$population) >= 12000 ~ \"DEVELOPED\",\n",
    "                       (df_2011$gdp / df_2011$population) >= 5000 ~ \"Developing\",\n",
    "                        is.na(df_2011$gdp / df_2011$population) ~ \"No information\",\n",
    "                        TRUE ~ \"Other\")\n",
    "\n",
    "head(df_2011)\n",
    "table(df_2011$STATUS) #para ver un conteo de cuantos casos hay de cada tipo"
   ]
  },
  {
   "cell_type": "markdown",
   "metadata": {},
   "source": [
    "### Un poco de repaso...\n",
    "Teniendo las funciones principales, vamos a concatenar unas cuantas.\n",
    "\n",
    "Ejemplo: paises europeos con mayor PIB per capita en el año 2011  \n",
    "Para ello, en una sola linea continua, vamos a...\n",
    "- seleccionar solo nombre de pais, continente, PIB (GDP) y población\n",
    "- filtrar solo los que correspondan al año y la region\n",
    "- calcular la nueva columna con el valor de PIB per capita\n",
    "- sacar un ranking solo con las 10 con mayor valor de esa estadística (funcion top_n(), mezcla de sample_n() y arrange() )"
   ]
  },
  {
   "cell_type": "code",
   "execution_count": null,
   "metadata": {
    "scrolled": false
   },
   "outputs": [],
   "source": [
    "df2 <- df %>% select(c(country, year, population, gdp, continent)) %>% #seleccion de columnas\n",
    "             filter(continent == 'Europe' & year == 2011) %>% #filtrar casos\n",
    "             mutate(gdp_percap = gdp/population) %>% #crear nueva columna\n",
    "             top_n(10, gdp_percap) #top 10 ordenado por gdp_percap\n",
    "df2"
   ]
  },
  {
   "cell_type": "markdown",
   "metadata": {},
   "source": [
    "## Group by (agrupar)"
   ]
  },
  {
   "cell_type": "markdown",
   "metadata": {},
   "source": [
    "group_by permite agrupar las observaciones en funcion de una variable de interés, y calcular estadísticas en cada grupo (media, numero de casos, etc...)\n",
    "\n",
    "Para ello, el procedimiento cuenta de 2 pasos: \n",
    "\n",
    "1) generar una tabla agrupada con la funcion `group_by()`, que en apariencia será igual que la original (pero ya tiene el criterio de agrupamiento como una propiedad \"oculta\") \n",
    "\n",
    "2) extraer un resumen o tabla agrupada con la funcion `summarise()`, donde se aplica una **función de agregación** que nos devolverá una variable \"resumen\" con la información que queramos calculada para cada grupo"
   ]
  },
  {
   "cell_type": "code",
   "execution_count": null,
   "metadata": {},
   "outputs": [],
   "source": [
    "#Agrupar los datos por cada año\n",
    "#resumir la tabla al promedio de esperanza de vida en gada grupo (año)\n",
    "df %>% group_by(year) %>% \n",
    "    summarise(\"Avg life expectancy\" = mean(life_expectancy))"
   ]
  },
  {
   "cell_type": "code",
   "execution_count": null,
   "metadata": {},
   "outputs": [],
   "source": [
    "#Seleccionar solo los paises europeos\n",
    "#agrupar los datos de todo el periodo por cada pais\n",
    "#y crear una tabla resumiendo el promedio de PIB en cada pais para todos los años (sin contar NAs)\n",
    "\n",
    "df %>% filter(continent == 'Europe') %>%\n",
    "    group_by(country) %>%\n",
    "    summarise('Mean GDP' = mean(gdp, na.rm = TRUE)) %>% \n",
    "    head(10)"
   ]
  },
  {
   "cell_type": "markdown",
   "metadata": {},
   "source": [
    "#### Summarise_each"
   ]
  },
  {
   "cell_type": "markdown",
   "metadata": {},
   "source": [
    "### Joins (uniones de tablas)"
   ]
  },
  {
   "cell_type": "markdown",
   "metadata": {},
   "source": [
    "Las funciones de joins se utilizan para combinar datos de dos tablas distintas en una sola tabla, siempre y cuando ambas tablas compartan una columna con información equivalente que permita emparejar casos. Los joins son especialmente utiles en lenguajes de manejo de bases de datos (como SQL) para recopilar información que está repartida entre varias tablas distintas con algún sistema de vinculación.  \n",
    "\n",
    "Los 4 tipos de joins más comunes son:  \n",
    "\n",
    "- **Inner join:** la tabla resultante contiene información solo de los casos que aparezcan en ambas tablas.  \n",
    "- **Full join:** se combinan todos los registros de las dos tablas. Los registros de una tabla que no aparezcan en la otra tendrán NAs en las variables correspondientes a esa otra tabla.  \n",
    "- **Left/Right join:** a los registros de una de las tablas se le añade la información que tengan asociada en la otra tabla, o NAs si no aparecen.  \n",
    "\n",
    "![types of joins](https://www.educative.io/cdn-cgi/image/f=auto,fit=contain,w=600/api/page/4815761290297344/image/download/5643241383264256)"
   ]
  },
  {
   "cell_type": "markdown",
   "metadata": {},
   "source": [
    "Como segundo dataset, vamos a utilizar una tabla con datos de índice de felicidad ([World Happines Index](https://en.wikipedia.org/wiki/World_Happiness_Report)) para periodo 2010-2012 obtenidos de [este enlace](https://photius.com/rankings/happiness_country_rankings_2012.html).\n",
    "\n",
    "Nota: para abrir la tabla se puede usar la función `read.csv2()` (porque el separador es \";\") de R base, o bien como en este caso usar del paquete `readr` (tambien en Tidyverse) la función `read_delim()` indicando el delimitador "
   ]
  },
  {
   "cell_type": "code",
   "execution_count": null,
   "metadata": {},
   "outputs": [],
   "source": [
    "happiness_df <- read_delim(\"https://raw.githubusercontent.com/AngelArcones/R_for_friends/main/Tutoriales/Datasets/happiness_index.csv\",\n",
    "                 delim = \";\", col_types = cols())\n",
    "head(happiness_df, 10)"
   ]
  },
  {
   "cell_type": "markdown",
   "metadata": {},
   "source": [
    "**Pequeño bonus track**  \n",
    "Para comprobar si los paises de esta nueva tabla se puede usar la siguiente combinación (todo con comandos de R base).  \n",
    "Primero, saber cuantos paises tiene la tabla `happiness_df`.  \n",
    "Segundo, sacar con `%in%` una lista de booleanos (TRUE / FALSE) según si cada país de esta tabla aparece en la original, y obtener la suma del total de la lista."
   ]
  },
  {
   "cell_type": "code",
   "execution_count": null,
   "metadata": {},
   "outputs": [],
   "source": [
    "length(happiness_df$country)"
   ]
  },
  {
   "cell_type": "code",
   "execution_count": null,
   "metadata": {
    "scrolled": false
   },
   "outputs": [],
   "source": [
    "sum(happiness_df$country %in% df$country)"
   ]
  },
  {
   "cell_type": "markdown",
   "metadata": {},
   "source": [
    "Esto funciona porque por defecto, para R (y otros lenguajes), TRUE = 1 y FALSE = 0"
   ]
  },
  {
   "cell_type": "code",
   "execution_count": null,
   "metadata": {},
   "outputs": [],
   "source": [
    "TRUE + TRUE"
   ]
  },
  {
   "cell_type": "code",
   "execution_count": null,
   "metadata": {},
   "outputs": [],
   "source": [
    "FALSE + FALSE"
   ]
  },
  {
   "cell_type": "code",
   "execution_count": null,
   "metadata": {},
   "outputs": [],
   "source": [
    "1 + TRUE"
   ]
  },
  {
   "cell_type": "code",
   "execution_count": null,
   "metadata": {},
   "outputs": [],
   "source": [
    "sum(c(TRUE, TRUE, FALSE, TRUE, FALSE))"
   ]
  },
  {
   "cell_type": "markdown",
   "metadata": {},
   "source": [
    "Para averiguar cual es el pais que no coincide, usaré un filtro por lista de TRUE/FALSE:  \n",
    "1) partiendo de la lista de valores de columna que quiero comprobar (happiness_df\\$country)  \n",
    "2) creo una lista de TRUE o FALSE según los valores que cumplen una condición: los paises de rd que NO aparecen en df (el símbolo `!` implica negación o contrario)  \n",
    "3) al estar dentro de la selección de valores `[...]` de la lista inicial (rd\\$country), el resultado son solo los elementros que coinciden con un TRUE"
   ]
  },
  {
   "cell_type": "code",
   "execution_count": null,
   "metadata": {
    "scrolled": true
   },
   "outputs": [],
   "source": [
    "happiness_df$country[!happiness_df$country %in% df$country]"
   ]
  },
  {
   "cell_type": "markdown",
   "metadata": {},
   "source": [
    "Estos son los paises cuyos nombres en la tabla de happiness index no coinciden con la de datos mundiales. Para los ejemplos de uniones podemos continuar sin corregirlo, aunque para un caso real habría que realizar un emparejamiento mas detallado de equivalencias de nombres."
   ]
  },
  {
   "cell_type": "markdown",
   "metadata": {},
   "source": [
    "### Union interna (inner join) \n",
    "En primer lugar, vamos a probar a hacer una unión del los casos compartidos entre ambas tablas. En este caso nos referiremos a las tablas así:  \n",
    "- df (datos globales) será la tabla de partida y por lo tanto la de la \"izquierda\"  \n",
    "- rd será la segunda tabla, la de la \"derecha\"\n",
    "\n",
    "**Sintaxis:** \n",
    "inner_join(`dataframe izquierda`, `dataframe derecha`, `by` = campo/s en común para unir)  \n",
    "\n",
    "Por defecto, si no se especifica el `by`, buscará una columna con el mismo nombre en ambas tablas. Es preferible especificarselo, y es fundamental en casos donde el nombre no coincida. En ese caso, se haría por ejemplo `by = c(\"country\" = \"pais\")`"
   ]
  },
  {
   "cell_type": "code",
   "execution_count": null,
   "metadata": {
    "scrolled": true
   },
   "outputs": [],
   "source": [
    "#union por \"country\"\n",
    "inner_join(df, happiness_df, by = \"country\") %>% head(10)"
   ]
  },
  {
   "cell_type": "markdown",
   "metadata": {},
   "source": [
    "El ejemplo anterior funciona, pero le une la misma información a todas las observaciones de cada país, que corresponde solo a un periodo concreto.  \n",
    "\n",
    "Para solucionarlo, vamos a añadir a la tabla happiness_df un campo de año (2011). De esta manera, ahora se puede realizar la unión por más de un campo (país y año), y en ese caso irá haciéndolo jerárquicamente en el orden en el que se indiquen (primero queremos unión por país, y dentro de eso unión al año concreto"
   ]
  },
  {
   "cell_type": "code",
   "execution_count": null,
   "metadata": {
    "scrolled": true
   },
   "outputs": [],
   "source": [
    "#Unión usando las dos tablas originales\n",
    "#Los campos de unión se indican con un vector c(...)\n",
    "happiness_df$year <- 2011\n",
    "inner_join(df, happiness_df, by = c(\"country\", \"year\")) %>% head(10)"
   ]
  },
  {
   "cell_type": "markdown",
   "metadata": {},
   "source": [
    "### Union de múltiples tablas  \n",
    "Para mostrar un ejemplo más complejo, vamos a cargar dos tablas más:  \n",
    "- Ranking de Human Developement Index para el mismo periodo, obtenido de [aquí](https://www.nationsonline.org/oneworld/human_development_2011.htm)  \n",
    "- Lista de los paises de la [OECD](https://en.wikipedia.org/wiki/OECD)"
   ]
  },
  {
   "cell_type": "code",
   "execution_count": null,
   "metadata": {},
   "outputs": [],
   "source": [
    "hdi_df <- read_delim(\"https://raw.githubusercontent.com/AngelArcones/R_for_friends/main/Tutoriales/Datasets/HDI_index.csv\",\n",
    "                 delim = \";\", col_types = cols())\n",
    "head(hdi_df, 5)"
   ]
  },
  {
   "cell_type": "code",
   "execution_count": null,
   "metadata": {},
   "outputs": [],
   "source": [
    "oecd_df <- read_delim(\"https://raw.githubusercontent.com/AngelArcones/R_for_friends/main/Tutoriales/Datasets/OECD_countries.csv\",\n",
    "                 delim = \";\", col_types = cols())\n",
    "oecd_df"
   ]
  },
  {
   "cell_type": "markdown",
   "metadata": {},
   "source": [
    "Y con estos 4 datasets (datos globales, happiness index, HDI index y OECD) la idea va a ser obtener una tabla final con toda la información económica y de desarrollo, para los paises miembros de la OECD. Para ello, los pasos son:  \n",
    "1) Unir la información global con la de happines, coincidiendo pais y año (inner join)\n",
    "2) A esa tabla, incorporarle la información disponible de HDI index (left join)\n",
    "3) El resultado, combinarlo con la de OECD para quedarnos solo con los paises ahí incluidos (inner join)  \n",
    "\n",
    "Todo esto se puede hacer en una sola línea, concatenando joins. El resultado final se guardará en un nuevo objeto `total_df`.\n",
    "\n",
    "**NOTA**: en la tablacde HDI, la columna se llama \"Country\" con mayuscula. En ese caso se debe indicar que esa es la equivalente a \"country\""
   ]
  },
  {
   "cell_type": "code",
   "execution_count": null,
   "metadata": {},
   "outputs": [],
   "source": [
    "total_df <- inner_join(df, happiness_df, by = c(\"country\", \"year\")) %>%\n",
    "            left_join(hdi_df, by = c(\"country\" = \"Country\")) %>%\n",
    "            inner_join(oecd_df, by = \"country\") %>%\n",
    "            arrange(happiness_ranking)\n",
    "total_df"
   ]
  },
  {
   "cell_type": "markdown",
   "metadata": {},
   "source": [
    "#### Comparación R base vs dplyr joins  \n",
    "Por lo general, las funciones de dplyr no solo simplifican la sintaxis, si no que ademas tienen mejor performance. Aqui se muestra una comparación entre el tiempo que se tarda en hacer un inner join con R base (función `merge`) y con dplyr (función `inner_join`).  \n",
    "Para ello, se crean dos datasets de pega con 1 millon de filas y 6 columnas que incluyen diferentes tipos de datos (character, integer y float). Ambas comparten el campo _id_ pero con diferente orden en cada una.  \n"
   ]
  },
  {
   "cell_type": "code",
   "execution_count": null,
   "metadata": {},
   "outputs": [],
   "source": [
    "nsize = 1000000\n",
    "df_1 <- data.frame(\"id\" = seq(1,nsize),\n",
    "                  \"var_1A\" = rnorm(n = nsize, mean = 50),\n",
    "                  \"var_1B\" = sample(x = LETTERS, size = nsize, replace = T),\n",
    "                  \"var_1C\" = sample(x = c(\"Yes\", \"No\"), size = nsize, replace = T),\n",
    "                  \"var_1D\" = sample(x = c(0:100), size = nsize, replace = T),\n",
    "                  \"var_1E\" = sample(x = c(1:5), size = nsize, replace = T))\n",
    "head(df_1)\n",
    "print(nrow(df_1))"
   ]
  },
  {
   "cell_type": "code",
   "execution_count": null,
   "metadata": {},
   "outputs": [],
   "source": [
    "nsize = 1000000\n",
    "df_2 <- data.frame(\"id\" = sample(x = c(0:nsize), size = nsize, replace = F),\n",
    "                  \"var_2A\" = rnorm(n = nsize, mean = 5, sd = 2),\n",
    "                  \"var_2B\" = sample(x = letters, size = nsize, replace = T),\n",
    "                  \"var_2C\" = sample(x = c(\"Male\", \"Female\"), size = nsize, replace = T),\n",
    "                  \"var_2D\" = sample(x = c(2010:2020), size = nsize, replace = T),\n",
    "                  \"var_2E\" = sample(x = c(1:5), size = nsize, replace = T))\n",
    "head(df_2)\n",
    "print(nrow(df_2))"
   ]
  },
  {
   "cell_type": "markdown",
   "metadata": {},
   "source": [
    "Comparamos el tiempo de cada operación. El valor a tener en consideración es el de **elapsed** que indica el tiempo transcurrido."
   ]
  },
  {
   "cell_type": "code",
   "execution_count": null,
   "metadata": {
    "scrolled": true
   },
   "outputs": [],
   "source": [
    "# R Base\n",
    "system.time(merge(df_1, df_2, by = \"id\"))"
   ]
  },
  {
   "cell_type": "code",
   "execution_count": null,
   "metadata": {
    "scrolled": true
   },
   "outputs": [],
   "source": [
    "# dplyr\n",
    "system.time(inner_join(df_1, df_2, by = \"id\"))"
   ]
  },
  {
   "cell_type": "markdown",
   "metadata": {},
   "source": [
    "Sin embargo, si lo que se busca es reducir tiempos y maximizar performance (para datasets de gran tamaño) la mejor opción es usar el formato [data.table](https://cran.r-project.org/web/packages/data.table/vignettes/datatable-intro.html), que permite optimizar cálculos y operaciones aplicados a las tablas."
   ]
  },
  {
   "cell_type": "markdown",
   "metadata": {},
   "source": [
    "### Pivoting / Reshapes (cambiar la distribución de la tabla)\n",
    "\n",
    "El paquete **tidyr**, también parte de Tidyverse, permite cambiar de \"forma\" las tablas (\"pivoting\"), pasando de lo que se llama el formato _long_ (p.ej. por cada país, cada dato anual en una fila) a formato _wide_ (p.ej. por cada país, cada dato anual es una columna).  \n",
    "\n",
    "Las operaciones de reshapes suelen ser conceptualmente complejas de por sí, y requieren tener una idea clara de la transformación deseada.  \n",
    "\n",
    "Pese a lo abstracto del proceso, las funciones de **tidyr** (`pivot_wider`/`pivot_longer`) proporcionan una sintaxis mas intuitiva que las antiguas funciones que ofrecía **Tidyverse** (`gather`/`spread`), y que las del paquete **reshape2** (`melt`/`cast`)"
   ]
  },
  {
   "cell_type": "markdown",
   "metadata": {},
   "source": [
    "Para empezar, esto sería un ejemplo de tabla **long**: una tabla con los datos de Francia y España de PIB (GDP) por año"
   ]
  },
  {
   "cell_type": "code",
   "execution_count": null,
   "metadata": {
    "scrolled": true
   },
   "outputs": [],
   "source": [
    "test_long <- df %>% filter(country %in% c(\"Spain\", \"France\") &  year >= 2008 & year <= 2011) %>% \n",
    "             select(country, year, gdp)\n",
    "test_long"
   ]
  },
  {
   "cell_type": "markdown",
   "metadata": {},
   "source": [
    "Esta tabla se podría pasar a un formato **wide**, donde tengamos una fila para cada país, y una columna para cada año con el dato de GDP.  \n",
    "\n",
    "La sintaxis para ello es:  \n",
    "pivot_wider(`tabla long`,`names_from` = variable que configura las columnas, `values_from` = variable con los valores de interés)  \n",
    "\n",
    "En este caso:  \n",
    "- `names_from` = el año (una columna por año)  \n",
    "- `values_from` = GDP (valores que queremos tener)"
   ]
  },
  {
   "cell_type": "code",
   "execution_count": null,
   "metadata": {
    "scrolled": true
   },
   "outputs": [],
   "source": [
    "test_long %>% pivot_wider(names_from = year, values_from = gdp)"
   ]
  },
  {
   "cell_type": "markdown",
   "metadata": {},
   "source": [
    "Para mostrar el paso contrario (pasar de wide a long) sin recurrir a deshacer el proceso con la misma tabla, voy a crear una tabla inventada con localidades de muestreo."
   ]
  },
  {
   "cell_type": "code",
   "execution_count": null,
   "metadata": {},
   "outputs": [],
   "source": [
    "test_wide <- data.frame(\"location\" = c(\"Forest\", \"Shrubland\", \"Grassland\", \"Dehesa\"),\n",
    "                        \"val_2019\" = rnorm(n = 4, mean = 4, sd = 0.7),\n",
    "                        \"val_2020\" = rnorm(n = 4, mean = 3, sd = 1.2),\n",
    "                        \"val_2021\" = rnorm(n = 4, mean = 3.5, sd = 0.7),\n",
    "                        \"val_2022\" = rnorm(n = 4, mean = 4, sd = 0.7))\n",
    "test_wide"
   ]
  },
  {
   "cell_type": "markdown",
   "metadata": {},
   "source": [
    "Para pasarlo a formato **long**, se usara la función `pivot_longer()`. En ella indicaremos que queremos "
   ]
  },
  {
   "cell_type": "code",
   "execution_count": null,
   "metadata": {},
   "outputs": [],
   "source": [
    "test_wide %>% pivot_longer(cols = c(\"val_2019\",\"val_2020\",\"val_2021\",\"val_2022\"), names_to = \"year\")"
   ]
  },
  {
   "cell_type": "code",
   "execution_count": null,
   "metadata": {},
   "outputs": [],
   "source": [
    "#para hacerlo un poco mas limpio\n",
    "\n",
    "my_cols <- grep(\"val_\", names(test_wide), value=TRUE) #Seleccionar nombres de columnas por patrón\n",
    "\n",
    "test_wide_l <- test_wide %>% pivot_longer(cols = all_of(my_cols), names_to = \"year\") %>% #pivot a long\n",
    "                             mutate(year = as.numeric(gsub(\"val_\", \"\", year))) #eliminar el prefijo del año y hacerlo numerico\n",
    "\n",
    "\n",
    "test_wide_l"
   ]
  },
  {
   "cell_type": "markdown",
   "metadata": {},
   "source": [
    "Este paso de formato wide a long puede resultar especialmente útil cuando se quiere preparar una tabla de forma que los datos se puedan usar sencillamente en un gráfico de `ggplot` "
   ]
  },
  {
   "cell_type": "code",
   "execution_count": null,
   "metadata": {
    "scrolled": false
   },
   "outputs": [],
   "source": [
    "options(repr.plot.width=10, repr.plot.height=5) #tamaño del gráfico\n",
    "\n",
    "ggplot(test_wide_l, aes(x = year, y = value, group = location, color = location))+\n",
    "    geom_line(size = 2)+\n",
    "    geom_point(size = 4.5)+\n",
    "    scale_color_manual(values = c(\"Forest\" = \"forestgreen\",\n",
    "                                  \"Shrubland\" = \"goldenrod2\",\n",
    "                                  \"Grassland\" = \"cyan4\",\n",
    "                                  \"Dehesa\" = \"firebrick3\"))+\n",
    "    theme_minimal()"
   ]
  },
  {
   "cell_type": "code",
   "execution_count": null,
   "metadata": {},
   "outputs": [],
   "source": []
  }
 ],
 "metadata": {
  "kernelspec": {
   "display_name": "R",
   "language": "R",
   "name": "ir"
  },
  "language_info": {
   "codemirror_mode": "r",
   "file_extension": ".r",
   "mimetype": "text/x-r-source",
   "name": "R",
   "pygments_lexer": "r",
   "version": "4.0.5"
  }
 },
 "nbformat": 4,
 "nbformat_minor": 2
}
