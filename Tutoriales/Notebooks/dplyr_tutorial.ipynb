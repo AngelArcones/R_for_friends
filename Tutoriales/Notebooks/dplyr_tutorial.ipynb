{
 "cells": [
  {
   "cell_type": "markdown",
   "metadata": {},
   "source": [
    "# Manejo de tablas con `dplyr`  \n",
    "Este Notebook muestra alguna de las funciones más comunes del paquete dplyr, explicando su sintaxis y mostando algunos ejemplos de usos."
   ]
  },
  {
   "cell_type": "code",
   "execution_count": 2,
   "metadata": {},
   "outputs": [],
   "source": [
    "#Instalar paquetes la primera vez:\n",
    "#install.packages(\"tidyverse\")\n",
    "#install.packages(\"dslabs\")"
   ]
  },
  {
   "cell_type": "code",
   "execution_count": 2,
   "metadata": {
    "scrolled": true
   },
   "outputs": [],
   "source": [
    "library(tidyverse)\n",
    "library(dslabs)"
   ]
  },
  {
   "cell_type": "markdown",
   "metadata": {},
   "source": [
    "## Tidyverse\n",
    "\n",
    "Tidyverse agrupa un conjunto de paquetes que contienen funciones para el tratamiento y visualizacion de datos en R:  \n",
    "- dplyr = manejo de tablas de datos \n",
    "- ggplot2 = creación de gráficos de alta calidad y personalizables\n",
    "- readr = lectura de archivos con tablas de datos\n",
    "- tibble = creación y manejo de tablas tipo *tibble* (una version mejorada de los data frames básicos)\n",
    "- stringr = operaciones con *strings* (texto)\n",
    "- tidyr = manupulación de tablas para hacelas _alargadas_ (agrupar las variables, pocas columnas y muchas observaciones), o _ensanchadas_ (proceso contrario)\n",
    "- forcats = operaciones para manejo de variables categóricas\n",
    "- purrr = aplicar operaciones a cada elemento de una columna o fila (entre otras cosas)\n",
    "\n",
    "Tidyverse está muy extendido como el principal entorno para manejo de tablas de datos. Todos los paquetes comparten una sintaxis y un funcionamiento similares que permiten realizar las tareas con un codigo mas limpio, entendible y sin incompatibilidades.  \n",
    "\n",
    "En este notebook se mostarán principalmente las funcionalidades de la librería **dplyr**, aunque complementando con alguna otra (p.ej. tidyr).  \n",
    "\n",
    "Un resumen de todas las opciones y funciones que ofrece dplyr puede verse en [**esta cheat sheet**](https://raw.githubusercontent.com/rstudio/cheatsheets/main/data-transformation.pdf)"
   ]
  },
  {
   "cell_type": "markdown",
   "metadata": {},
   "source": [
    "## dslabs / gapminder\n",
    "\n",
    "dslabs es un paquete que cuenta con diversos datasets a los que se puede llamar directamente usando la librería. Estos datasets están especialmente pensados para ser usados en pruebas y tutoriales, con tablas de datos ya organizados de diferentes temáticas y estructuras  \n",
    "\n",
    "En este caso los ejemplos usarán la tabla gapminder: un juego de palabras con el aviso que suena por megafonia en el metro de londres (\"mind the gap\"), y al mismo tiempo sobre las desigualdades (\"gap\") que hay entre paises en diferentes partes del mundo, y cómo han ido cambiando con el tiempo.\n",
    "\n",
    "El impulsor de estos datos es Hans Rosling, que en [esta maravillosa charla TED](https://www.youtube.com/watch?v=hVimVzgtD6w) cambió la forma no solo de ver las diferencias entre primer/tercer mundo, si no tambien de lo que todo lo pueden contar los datos y lo importante de tenerlos accesibles."
   ]
  },
  {
   "cell_type": "code",
   "execution_count": 3,
   "metadata": {
    "scrolled": true
   },
   "outputs": [
    {
     "data": {
      "text/html": [
       "<table class=\"dataframe\">\n",
       "<caption>A data.frame: 6 × 9</caption>\n",
       "<thead>\n",
       "\t<tr><th></th><th scope=col>country</th><th scope=col>year</th><th scope=col>infant_mortality</th><th scope=col>life_expectancy</th><th scope=col>fertility</th><th scope=col>population</th><th scope=col>gdp</th><th scope=col>continent</th><th scope=col>region</th></tr>\n",
       "\t<tr><th></th><th scope=col>&lt;fct&gt;</th><th scope=col>&lt;int&gt;</th><th scope=col>&lt;dbl&gt;</th><th scope=col>&lt;dbl&gt;</th><th scope=col>&lt;dbl&gt;</th><th scope=col>&lt;dbl&gt;</th><th scope=col>&lt;dbl&gt;</th><th scope=col>&lt;fct&gt;</th><th scope=col>&lt;fct&gt;</th></tr>\n",
       "</thead>\n",
       "<tbody>\n",
       "\t<tr><th scope=row>1</th><td>Albania            </td><td>1960</td><td>115.40</td><td>62.87</td><td>6.19</td><td> 1636054</td><td>          NA</td><td>Europe  </td><td>Southern Europe</td></tr>\n",
       "\t<tr><th scope=row>2</th><td>Algeria            </td><td>1960</td><td>148.20</td><td>47.50</td><td>7.65</td><td>11124892</td><td> 13828152297</td><td>Africa  </td><td>Northern Africa</td></tr>\n",
       "\t<tr><th scope=row>3</th><td>Angola             </td><td>1960</td><td>208.00</td><td>35.98</td><td>7.32</td><td> 5270844</td><td>          NA</td><td>Africa  </td><td>Middle Africa  </td></tr>\n",
       "\t<tr><th scope=row>4</th><td>Antigua and Barbuda</td><td>1960</td><td>    NA</td><td>62.97</td><td>4.43</td><td>   54681</td><td>          NA</td><td>Americas</td><td>Caribbean      </td></tr>\n",
       "\t<tr><th scope=row>5</th><td>Argentina          </td><td>1960</td><td> 59.87</td><td>65.39</td><td>3.11</td><td>20619075</td><td>108322326649</td><td>Americas</td><td>South America  </td></tr>\n",
       "\t<tr><th scope=row>6</th><td>Armenia            </td><td>1960</td><td>    NA</td><td>66.86</td><td>4.55</td><td> 1867396</td><td>          NA</td><td>Asia    </td><td>Western Asia   </td></tr>\n",
       "</tbody>\n",
       "</table>\n"
      ],
      "text/latex": [
       "A data.frame: 6 × 9\n",
       "\\begin{tabular}{r|lllllllll}\n",
       "  & country & year & infant\\_mortality & life\\_expectancy & fertility & population & gdp & continent & region\\\\\n",
       "  & <fct> & <int> & <dbl> & <dbl> & <dbl> & <dbl> & <dbl> & <fct> & <fct>\\\\\n",
       "\\hline\n",
       "\t1 & Albania             & 1960 & 115.40 & 62.87 & 6.19 &  1636054 &           NA & Europe   & Southern Europe\\\\\n",
       "\t2 & Algeria             & 1960 & 148.20 & 47.50 & 7.65 & 11124892 &  13828152297 & Africa   & Northern Africa\\\\\n",
       "\t3 & Angola              & 1960 & 208.00 & 35.98 & 7.32 &  5270844 &           NA & Africa   & Middle Africa  \\\\\n",
       "\t4 & Antigua and Barbuda & 1960 &     NA & 62.97 & 4.43 &    54681 &           NA & Americas & Caribbean      \\\\\n",
       "\t5 & Argentina           & 1960 &  59.87 & 65.39 & 3.11 & 20619075 & 108322326649 & Americas & South America  \\\\\n",
       "\t6 & Armenia             & 1960 &     NA & 66.86 & 4.55 &  1867396 &           NA & Asia     & Western Asia   \\\\\n",
       "\\end{tabular}\n"
      ],
      "text/markdown": [
       "\n",
       "A data.frame: 6 × 9\n",
       "\n",
       "| <!--/--> | country &lt;fct&gt; | year &lt;int&gt; | infant_mortality &lt;dbl&gt; | life_expectancy &lt;dbl&gt; | fertility &lt;dbl&gt; | population &lt;dbl&gt; | gdp &lt;dbl&gt; | continent &lt;fct&gt; | region &lt;fct&gt; |\n",
       "|---|---|---|---|---|---|---|---|---|---|\n",
       "| 1 | Albania             | 1960 | 115.40 | 62.87 | 6.19 |  1636054 |           NA | Europe   | Southern Europe |\n",
       "| 2 | Algeria             | 1960 | 148.20 | 47.50 | 7.65 | 11124892 |  13828152297 | Africa   | Northern Africa |\n",
       "| 3 | Angola              | 1960 | 208.00 | 35.98 | 7.32 |  5270844 |           NA | Africa   | Middle Africa   |\n",
       "| 4 | Antigua and Barbuda | 1960 |     NA | 62.97 | 4.43 |    54681 |           NA | Americas | Caribbean       |\n",
       "| 5 | Argentina           | 1960 |  59.87 | 65.39 | 3.11 | 20619075 | 108322326649 | Americas | South America   |\n",
       "| 6 | Armenia             | 1960 |     NA | 66.86 | 4.55 |  1867396 |           NA | Asia     | Western Asia    |\n",
       "\n"
      ],
      "text/plain": [
       "  country             year infant_mortality life_expectancy fertility\n",
       "1 Albania             1960 115.40           62.87           6.19     \n",
       "2 Algeria             1960 148.20           47.50           7.65     \n",
       "3 Angola              1960 208.00           35.98           7.32     \n",
       "4 Antigua and Barbuda 1960     NA           62.97           4.43     \n",
       "5 Argentina           1960  59.87           65.39           3.11     \n",
       "6 Armenia             1960     NA           66.86           4.55     \n",
       "  population gdp          continent region         \n",
       "1  1636054             NA Europe    Southern Europe\n",
       "2 11124892    13828152297 Africa    Northern Africa\n",
       "3  5270844             NA Africa    Middle Africa  \n",
       "4    54681             NA Americas  Caribbean      \n",
       "5 20619075   108322326649 Americas  South America  \n",
       "6  1867396             NA Asia      Western Asia   "
      ]
     },
     "metadata": {},
     "output_type": "display_data"
    },
    {
     "data": {
      "text/html": [
       "<table class=\"dataframe\">\n",
       "<caption>A data.frame: 6 × 9</caption>\n",
       "<thead>\n",
       "\t<tr><th></th><th scope=col>country</th><th scope=col>year</th><th scope=col>infant_mortality</th><th scope=col>life_expectancy</th><th scope=col>fertility</th><th scope=col>population</th><th scope=col>gdp</th><th scope=col>continent</th><th scope=col>region</th></tr>\n",
       "\t<tr><th></th><th scope=col>&lt;fct&gt;</th><th scope=col>&lt;int&gt;</th><th scope=col>&lt;dbl&gt;</th><th scope=col>&lt;dbl&gt;</th><th scope=col>&lt;dbl&gt;</th><th scope=col>&lt;dbl&gt;</th><th scope=col>&lt;dbl&gt;</th><th scope=col>&lt;fct&gt;</th><th scope=col>&lt;fct&gt;</th></tr>\n",
       "</thead>\n",
       "<tbody>\n",
       "\t<tr><th scope=row>10540</th><td>Venezuela         </td><td>2016</td><td>NA</td><td>74.80</td><td>NA</td><td>NA</td><td>NA</td><td>Americas</td><td>South America     </td></tr>\n",
       "\t<tr><th scope=row>10541</th><td>West Bank and Gaza</td><td>2016</td><td>NA</td><td>74.70</td><td>NA</td><td>NA</td><td>NA</td><td>Asia    </td><td>Western Asia      </td></tr>\n",
       "\t<tr><th scope=row>10542</th><td>Vietnam           </td><td>2016</td><td>NA</td><td>75.60</td><td>NA</td><td>NA</td><td>NA</td><td>Asia    </td><td>South-Eastern Asia</td></tr>\n",
       "\t<tr><th scope=row>10543</th><td>Yemen             </td><td>2016</td><td>NA</td><td>64.92</td><td>NA</td><td>NA</td><td>NA</td><td>Asia    </td><td>Western Asia      </td></tr>\n",
       "\t<tr><th scope=row>10544</th><td>Zambia            </td><td>2016</td><td>NA</td><td>57.10</td><td>NA</td><td>NA</td><td>NA</td><td>Africa  </td><td>Eastern Africa    </td></tr>\n",
       "\t<tr><th scope=row>10545</th><td>Zimbabwe          </td><td>2016</td><td>NA</td><td>61.69</td><td>NA</td><td>NA</td><td>NA</td><td>Africa  </td><td>Eastern Africa    </td></tr>\n",
       "</tbody>\n",
       "</table>\n"
      ],
      "text/latex": [
       "A data.frame: 6 × 9\n",
       "\\begin{tabular}{r|lllllllll}\n",
       "  & country & year & infant\\_mortality & life\\_expectancy & fertility & population & gdp & continent & region\\\\\n",
       "  & <fct> & <int> & <dbl> & <dbl> & <dbl> & <dbl> & <dbl> & <fct> & <fct>\\\\\n",
       "\\hline\n",
       "\t10540 & Venezuela          & 2016 & NA & 74.80 & NA & NA & NA & Americas & South America     \\\\\n",
       "\t10541 & West Bank and Gaza & 2016 & NA & 74.70 & NA & NA & NA & Asia     & Western Asia      \\\\\n",
       "\t10542 & Vietnam            & 2016 & NA & 75.60 & NA & NA & NA & Asia     & South-Eastern Asia\\\\\n",
       "\t10543 & Yemen              & 2016 & NA & 64.92 & NA & NA & NA & Asia     & Western Asia      \\\\\n",
       "\t10544 & Zambia             & 2016 & NA & 57.10 & NA & NA & NA & Africa   & Eastern Africa    \\\\\n",
       "\t10545 & Zimbabwe           & 2016 & NA & 61.69 & NA & NA & NA & Africa   & Eastern Africa    \\\\\n",
       "\\end{tabular}\n"
      ],
      "text/markdown": [
       "\n",
       "A data.frame: 6 × 9\n",
       "\n",
       "| <!--/--> | country &lt;fct&gt; | year &lt;int&gt; | infant_mortality &lt;dbl&gt; | life_expectancy &lt;dbl&gt; | fertility &lt;dbl&gt; | population &lt;dbl&gt; | gdp &lt;dbl&gt; | continent &lt;fct&gt; | region &lt;fct&gt; |\n",
       "|---|---|---|---|---|---|---|---|---|---|\n",
       "| 10540 | Venezuela          | 2016 | NA | 74.80 | NA | NA | NA | Americas | South America      |\n",
       "| 10541 | West Bank and Gaza | 2016 | NA | 74.70 | NA | NA | NA | Asia     | Western Asia       |\n",
       "| 10542 | Vietnam            | 2016 | NA | 75.60 | NA | NA | NA | Asia     | South-Eastern Asia |\n",
       "| 10543 | Yemen              | 2016 | NA | 64.92 | NA | NA | NA | Asia     | Western Asia       |\n",
       "| 10544 | Zambia             | 2016 | NA | 57.10 | NA | NA | NA | Africa   | Eastern Africa     |\n",
       "| 10545 | Zimbabwe           | 2016 | NA | 61.69 | NA | NA | NA | Africa   | Eastern Africa     |\n",
       "\n"
      ],
      "text/plain": [
       "      country            year infant_mortality life_expectancy fertility\n",
       "10540 Venezuela          2016 NA               74.80           NA       \n",
       "10541 West Bank and Gaza 2016 NA               74.70           NA       \n",
       "10542 Vietnam            2016 NA               75.60           NA       \n",
       "10543 Yemen              2016 NA               64.92           NA       \n",
       "10544 Zambia             2016 NA               57.10           NA       \n",
       "10545 Zimbabwe           2016 NA               61.69           NA       \n",
       "      population gdp continent region            \n",
       "10540 NA         NA  Americas  South America     \n",
       "10541 NA         NA  Asia      Western Asia      \n",
       "10542 NA         NA  Asia      South-Eastern Asia\n",
       "10543 NA         NA  Asia      Western Asia      \n",
       "10544 NA         NA  Africa    Eastern Africa    \n",
       "10545 NA         NA  Africa    Eastern Africa    "
      ]
     },
     "metadata": {},
     "output_type": "display_data"
    }
   ],
   "source": [
    "df <- gapminder\n",
    "head(df)\n",
    "tail(df)"
   ]
  },
  {
   "cell_type": "markdown",
   "metadata": {},
   "source": [
    "## El pipe ( %>% )\n",
    "\n",
    "Uno de los elementos más distintivos de tidyverse es el pipe (escrito como %>% ) \n",
    "\n",
    "Normalmente la forma de realizar varias operaciones seguidas en R es ejecutar una por línea (sobreescribiendo el objeto o creando varios), o bien anidando funciones a base de meter una funcion dentro de otra que a su vez está dentro de otra (con el riesgo de errores y confusión)  \n",
    "\n",
    "Para ello, con tidyverse suele emplearse el pipe, que permite encadenar las funciones a ejecutar en fila, de forma que el resultado saliente de una entre directamente en la siguiente, consiguiendo un código más limpio y legible."
   ]
  },
  {
   "cell_type": "code",
   "execution_count": 3,
   "metadata": {},
   "outputs": [
    {
     "data": {
      "text/html": [
       "65"
      ],
      "text/latex": [
       "65"
      ],
      "text/markdown": [
       "65"
      ],
      "text/plain": [
       "[1] 65"
      ]
     },
     "metadata": {},
     "output_type": "display_data"
    }
   ],
   "source": [
    "#Calcular la media de una columna y redondear\n",
    "#Metodo clásico\n",
    "round(mean(df$life_expectancy))"
   ]
  },
  {
   "cell_type": "code",
   "execution_count": 4,
   "metadata": {},
   "outputs": [
    {
     "data": {
      "text/html": [
       "65"
      ],
      "text/latex": [
       "65"
      ],
      "text/markdown": [
       "65"
      ],
      "text/plain": [
       "[1] 65"
      ]
     },
     "metadata": {},
     "output_type": "display_data"
    }
   ],
   "source": [
    "#Usando el pipe\n",
    "df$life_expectancy %>% mean() %>% round()"
   ]
  },
  {
   "cell_type": "markdown",
   "metadata": {},
   "source": [
    "Y por supuesto, tambien se puede guardar como objeto (da igual al principio o al final)"
   ]
  },
  {
   "cell_type": "code",
   "execution_count": 6,
   "metadata": {},
   "outputs": [],
   "source": [
    "mean_life_expectancy <- df$life_expectancy %>% mean() %>% round()\n",
    "\n",
    "df$life_expectancy %>% mean() %>% round() -> mean_life_expectancy_alt "
   ]
  },
  {
   "cell_type": "markdown",
   "metadata": {},
   "source": [
    "Al comparar si son iguales:"
   ]
  },
  {
   "cell_type": "code",
   "execution_count": 7,
   "metadata": {},
   "outputs": [
    {
     "data": {
      "text/html": [
       "TRUE"
      ],
      "text/latex": [
       "TRUE"
      ],
      "text/markdown": [
       "TRUE"
      ],
      "text/plain": [
       "[1] TRUE"
      ]
     },
     "metadata": {},
     "output_type": "display_data"
    }
   ],
   "source": [
    "mean_life_expectancy == mean_life_expectancy_alt"
   ]
  },
  {
   "cell_type": "markdown",
   "metadata": {},
   "source": [
    "## Operaciones básicas"
   ]
  },
  {
   "cell_type": "markdown",
   "metadata": {},
   "source": [
    "**Nota:** cuando estamos trabajando con funciones de tidyverse sobre un dataframe, se puede llamar a las columnas directamente, sin necesidad de usar '$'"
   ]
  },
  {
   "cell_type": "markdown",
   "metadata": {},
   "source": [
    "### Select (seleccionar columnas)"
   ]
  },
  {
   "cell_type": "markdown",
   "metadata": {},
   "source": [
    "Sintaxis básica:  \n",
    "**select**(el `dataframe` (entra con el pipe), `nombre de columna/s`  con las que quedarse)"
   ]
  },
  {
   "cell_type": "code",
   "execution_count": 8,
   "metadata": {
    "scrolled": true
   },
   "outputs": [
    {
     "data": {
      "text/html": [
       "<style>\n",
       ".list-inline {list-style: none; margin:0; padding: 0}\n",
       ".list-inline>li {display: inline-block}\n",
       ".list-inline>li:not(:last-child)::after {content: \"\\00b7\"; padding: 0 .5ex}\n",
       "</style>\n",
       "<ol class=list-inline><li>'country'</li><li>'year'</li><li>'infant_mortality'</li><li>'life_expectancy'</li><li>'fertility'</li><li>'population'</li><li>'gdp'</li><li>'continent'</li><li>'region'</li></ol>\n"
      ],
      "text/latex": [
       "\\begin{enumerate*}\n",
       "\\item 'country'\n",
       "\\item 'year'\n",
       "\\item 'infant\\_mortality'\n",
       "\\item 'life\\_expectancy'\n",
       "\\item 'fertility'\n",
       "\\item 'population'\n",
       "\\item 'gdp'\n",
       "\\item 'continent'\n",
       "\\item 'region'\n",
       "\\end{enumerate*}\n"
      ],
      "text/markdown": [
       "1. 'country'\n",
       "2. 'year'\n",
       "3. 'infant_mortality'\n",
       "4. 'life_expectancy'\n",
       "5. 'fertility'\n",
       "6. 'population'\n",
       "7. 'gdp'\n",
       "8. 'continent'\n",
       "9. 'region'\n",
       "\n",
       "\n"
      ],
      "text/plain": [
       "[1] \"country\"          \"year\"             \"infant_mortality\" \"life_expectancy\" \n",
       "[5] \"fertility\"        \"population\"       \"gdp\"              \"continent\"       \n",
       "[9] \"region\"          "
      ]
     },
     "metadata": {},
     "output_type": "display_data"
    }
   ],
   "source": [
    "#viene bien recordar los nombres de las columnas\n",
    "names(df)"
   ]
  },
  {
   "cell_type": "code",
   "execution_count": 9,
   "metadata": {},
   "outputs": [
    {
     "data": {
      "text/html": [
       "<table class=\"dataframe\">\n",
       "<caption>A data.frame: 6 × 3</caption>\n",
       "<thead>\n",
       "\t<tr><th></th><th scope=col>country</th><th scope=col>continent</th><th scope=col>region</th></tr>\n",
       "\t<tr><th></th><th scope=col>&lt;fct&gt;</th><th scope=col>&lt;fct&gt;</th><th scope=col>&lt;fct&gt;</th></tr>\n",
       "</thead>\n",
       "<tbody>\n",
       "\t<tr><th scope=row>1</th><td>Albania            </td><td>Europe  </td><td>Southern Europe</td></tr>\n",
       "\t<tr><th scope=row>2</th><td>Algeria            </td><td>Africa  </td><td>Northern Africa</td></tr>\n",
       "\t<tr><th scope=row>3</th><td>Angola             </td><td>Africa  </td><td>Middle Africa  </td></tr>\n",
       "\t<tr><th scope=row>4</th><td>Antigua and Barbuda</td><td>Americas</td><td>Caribbean      </td></tr>\n",
       "\t<tr><th scope=row>5</th><td>Argentina          </td><td>Americas</td><td>South America  </td></tr>\n",
       "\t<tr><th scope=row>6</th><td>Armenia            </td><td>Asia    </td><td>Western Asia   </td></tr>\n",
       "</tbody>\n",
       "</table>\n"
      ],
      "text/latex": [
       "A data.frame: 6 × 3\n",
       "\\begin{tabular}{r|lll}\n",
       "  & country & continent & region\\\\\n",
       "  & <fct> & <fct> & <fct>\\\\\n",
       "\\hline\n",
       "\t1 & Albania             & Europe   & Southern Europe\\\\\n",
       "\t2 & Algeria             & Africa   & Northern Africa\\\\\n",
       "\t3 & Angola              & Africa   & Middle Africa  \\\\\n",
       "\t4 & Antigua and Barbuda & Americas & Caribbean      \\\\\n",
       "\t5 & Argentina           & Americas & South America  \\\\\n",
       "\t6 & Armenia             & Asia     & Western Asia   \\\\\n",
       "\\end{tabular}\n"
      ],
      "text/markdown": [
       "\n",
       "A data.frame: 6 × 3\n",
       "\n",
       "| <!--/--> | country &lt;fct&gt; | continent &lt;fct&gt; | region &lt;fct&gt; |\n",
       "|---|---|---|---|\n",
       "| 1 | Albania             | Europe   | Southern Europe |\n",
       "| 2 | Algeria             | Africa   | Northern Africa |\n",
       "| 3 | Angola              | Africa   | Middle Africa   |\n",
       "| 4 | Antigua and Barbuda | Americas | Caribbean       |\n",
       "| 5 | Argentina           | Americas | South America   |\n",
       "| 6 | Armenia             | Asia     | Western Asia    |\n",
       "\n"
      ],
      "text/plain": [
       "  country             continent region         \n",
       "1 Albania             Europe    Southern Europe\n",
       "2 Algeria             Africa    Northern Africa\n",
       "3 Angola              Africa    Middle Africa  \n",
       "4 Antigua and Barbuda Americas  Caribbean      \n",
       "5 Argentina           Americas  South America  \n",
       "6 Armenia             Asia      Western Asia   "
      ]
     },
     "metadata": {},
     "output_type": "display_data"
    }
   ],
   "source": [
    "#Seleccionar solo algunas columnas\n",
    "df %>% select(country, continent, region) %>% head()"
   ]
  },
  {
   "cell_type": "code",
   "execution_count": 10,
   "metadata": {},
   "outputs": [
    {
     "data": {
      "text/html": [
       "<table class=\"dataframe\">\n",
       "<caption>A data.frame: 6 × 7</caption>\n",
       "<thead>\n",
       "\t<tr><th></th><th scope=col>country</th><th scope=col>year</th><th scope=col>infant_mortality</th><th scope=col>life_expectancy</th><th scope=col>fertility</th><th scope=col>population</th><th scope=col>gdp</th></tr>\n",
       "\t<tr><th></th><th scope=col>&lt;fct&gt;</th><th scope=col>&lt;int&gt;</th><th scope=col>&lt;dbl&gt;</th><th scope=col>&lt;dbl&gt;</th><th scope=col>&lt;dbl&gt;</th><th scope=col>&lt;dbl&gt;</th><th scope=col>&lt;dbl&gt;</th></tr>\n",
       "</thead>\n",
       "<tbody>\n",
       "\t<tr><th scope=row>1</th><td>Albania            </td><td>1960</td><td>115.40</td><td>62.87</td><td>6.19</td><td> 1636054</td><td>          NA</td></tr>\n",
       "\t<tr><th scope=row>2</th><td>Algeria            </td><td>1960</td><td>148.20</td><td>47.50</td><td>7.65</td><td>11124892</td><td> 13828152297</td></tr>\n",
       "\t<tr><th scope=row>3</th><td>Angola             </td><td>1960</td><td>208.00</td><td>35.98</td><td>7.32</td><td> 5270844</td><td>          NA</td></tr>\n",
       "\t<tr><th scope=row>4</th><td>Antigua and Barbuda</td><td>1960</td><td>    NA</td><td>62.97</td><td>4.43</td><td>   54681</td><td>          NA</td></tr>\n",
       "\t<tr><th scope=row>5</th><td>Argentina          </td><td>1960</td><td> 59.87</td><td>65.39</td><td>3.11</td><td>20619075</td><td>108322326649</td></tr>\n",
       "\t<tr><th scope=row>6</th><td>Armenia            </td><td>1960</td><td>    NA</td><td>66.86</td><td>4.55</td><td> 1867396</td><td>          NA</td></tr>\n",
       "</tbody>\n",
       "</table>\n"
      ],
      "text/latex": [
       "A data.frame: 6 × 7\n",
       "\\begin{tabular}{r|lllllll}\n",
       "  & country & year & infant\\_mortality & life\\_expectancy & fertility & population & gdp\\\\\n",
       "  & <fct> & <int> & <dbl> & <dbl> & <dbl> & <dbl> & <dbl>\\\\\n",
       "\\hline\n",
       "\t1 & Albania             & 1960 & 115.40 & 62.87 & 6.19 &  1636054 &           NA\\\\\n",
       "\t2 & Algeria             & 1960 & 148.20 & 47.50 & 7.65 & 11124892 &  13828152297\\\\\n",
       "\t3 & Angola              & 1960 & 208.00 & 35.98 & 7.32 &  5270844 &           NA\\\\\n",
       "\t4 & Antigua and Barbuda & 1960 &     NA & 62.97 & 4.43 &    54681 &           NA\\\\\n",
       "\t5 & Argentina           & 1960 &  59.87 & 65.39 & 3.11 & 20619075 & 108322326649\\\\\n",
       "\t6 & Armenia             & 1960 &     NA & 66.86 & 4.55 &  1867396 &           NA\\\\\n",
       "\\end{tabular}\n"
      ],
      "text/markdown": [
       "\n",
       "A data.frame: 6 × 7\n",
       "\n",
       "| <!--/--> | country &lt;fct&gt; | year &lt;int&gt; | infant_mortality &lt;dbl&gt; | life_expectancy &lt;dbl&gt; | fertility &lt;dbl&gt; | population &lt;dbl&gt; | gdp &lt;dbl&gt; |\n",
       "|---|---|---|---|---|---|---|---|\n",
       "| 1 | Albania             | 1960 | 115.40 | 62.87 | 6.19 |  1636054 |           NA |\n",
       "| 2 | Algeria             | 1960 | 148.20 | 47.50 | 7.65 | 11124892 |  13828152297 |\n",
       "| 3 | Angola              | 1960 | 208.00 | 35.98 | 7.32 |  5270844 |           NA |\n",
       "| 4 | Antigua and Barbuda | 1960 |     NA | 62.97 | 4.43 |    54681 |           NA |\n",
       "| 5 | Argentina           | 1960 |  59.87 | 65.39 | 3.11 | 20619075 | 108322326649 |\n",
       "| 6 | Armenia             | 1960 |     NA | 66.86 | 4.55 |  1867396 |           NA |\n",
       "\n"
      ],
      "text/plain": [
       "  country             year infant_mortality life_expectancy fertility\n",
       "1 Albania             1960 115.40           62.87           6.19     \n",
       "2 Algeria             1960 148.20           47.50           7.65     \n",
       "3 Angola              1960 208.00           35.98           7.32     \n",
       "4 Antigua and Barbuda 1960     NA           62.97           4.43     \n",
       "5 Argentina           1960  59.87           65.39           3.11     \n",
       "6 Armenia             1960     NA           66.86           4.55     \n",
       "  population gdp         \n",
       "1  1636054             NA\n",
       "2 11124892    13828152297\n",
       "3  5270844             NA\n",
       "4    54681             NA\n",
       "5 20619075   108322326649\n",
       "6  1867396             NA"
      ]
     },
     "metadata": {},
     "output_type": "display_data"
    }
   ],
   "source": [
    "#Seleccionar por exclusión de otras (todas menos \"continent\" y \"region\")\n",
    "df %>% select(-continent, -region) %>% head()"
   ]
  },
  {
   "cell_type": "markdown",
   "metadata": {},
   "source": [
    "### Filter (filtrar filas)"
   ]
  },
  {
   "cell_type": "markdown",
   "metadata": {},
   "source": [
    "Una función muy util que permite quedarte solo con las filas (casos) que cumplen un determinado criterio, similar al proceso de hacer un query en otros lenguajes\n",
    "\n",
    "**Sintaxis básica:**\n",
    "\n",
    "filter(el data frame, nombre de columna == 'criterio que cumplen las filas que te interesan')\n",
    "\n",
    "El criterio puede ser cualquier comparador o que devuelva TRUE/FALSE, por ejemplo:  \n",
    "- **==** que sea igual a un valor o palabra\n",
    "- **!=** que sea diferente a un valor o palabra\n",
    "- **>** **<** que sea mayor o menor que un valor\n",
    "- **>=** **=<** que sea igual o mayor/menor a un valor\n",
    "- **is.na()** que sea NA \n",
    "- **!is.na()** que NO sea NA \n",
    "- **%in%** que aparezca en una lista de elementos\n",
    "\n",
    "Además se pueden encadenar argumentos:  \n",
    "- **&**: condición 1 **y** condicion 2\n",
    "- **|**: condición 1 **o** condicion 2"
   ]
  },
  {
   "cell_type": "code",
   "execution_count": 10,
   "metadata": {},
   "outputs": [
    {
     "data": {
      "text/html": [
       "<table>\n",
       "<caption>A data.frame: 6 × 9</caption>\n",
       "<thead>\n",
       "\t<tr><th scope=col>country</th><th scope=col>year</th><th scope=col>infant_mortality</th><th scope=col>life_expectancy</th><th scope=col>fertility</th><th scope=col>population</th><th scope=col>gdp</th><th scope=col>continent</th><th scope=col>region</th></tr>\n",
       "\t<tr><th scope=col>&lt;fct&gt;</th><th scope=col>&lt;int&gt;</th><th scope=col>&lt;dbl&gt;</th><th scope=col>&lt;dbl&gt;</th><th scope=col>&lt;dbl&gt;</th><th scope=col>&lt;dbl&gt;</th><th scope=col>&lt;dbl&gt;</th><th scope=col>&lt;fct&gt;</th><th scope=col>&lt;fct&gt;</th></tr>\n",
       "</thead>\n",
       "<tbody>\n",
       "\t<tr><td>France</td><td>1960</td><td>23.7</td><td>70.49</td><td>2.77</td><td>45865699</td><td>349778187326</td><td>Europe</td><td>Western Europe</td></tr>\n",
       "\t<tr><td>France</td><td>1961</td><td>22.4</td><td>71.07</td><td>2.80</td><td>46471083</td><td>369037927246</td><td>Europe</td><td>Western Europe</td></tr>\n",
       "\t<tr><td>France</td><td>1962</td><td>21.3</td><td>70.61</td><td>2.81</td><td>47121575</td><td>393660782189</td><td>Europe</td><td>Western Europe</td></tr>\n",
       "\t<tr><td>France</td><td>1963</td><td>20.3</td><td>70.46</td><td>2.81</td><td>47781535</td><td>414710508267</td><td>Europe</td><td>Western Europe</td></tr>\n",
       "\t<tr><td>France</td><td>1964</td><td>19.4</td><td>71.43</td><td>2.80</td><td>48402900</td><td>441742742172</td><td>Europe</td><td>Western Europe</td></tr>\n",
       "\t<tr><td>France</td><td>1965</td><td>18.5</td><td>71.26</td><td>2.77</td><td>48952283</td><td>462849365785</td><td>Europe</td><td>Western Europe</td></tr>\n",
       "</tbody>\n",
       "</table>\n"
      ],
      "text/latex": [
       "A data.frame: 6 × 9\n",
       "\\begin{tabular}{r|lllllllll}\n",
       " country & year & infant\\_mortality & life\\_expectancy & fertility & population & gdp & continent & region\\\\\n",
       " <fct> & <int> & <dbl> & <dbl> & <dbl> & <dbl> & <dbl> & <fct> & <fct>\\\\\n",
       "\\hline\n",
       "\t France & 1960 & 23.7 & 70.49 & 2.77 & 45865699 & 349778187326 & Europe & Western Europe\\\\\n",
       "\t France & 1961 & 22.4 & 71.07 & 2.80 & 46471083 & 369037927246 & Europe & Western Europe\\\\\n",
       "\t France & 1962 & 21.3 & 70.61 & 2.81 & 47121575 & 393660782189 & Europe & Western Europe\\\\\n",
       "\t France & 1963 & 20.3 & 70.46 & 2.81 & 47781535 & 414710508267 & Europe & Western Europe\\\\\n",
       "\t France & 1964 & 19.4 & 71.43 & 2.80 & 48402900 & 441742742172 & Europe & Western Europe\\\\\n",
       "\t France & 1965 & 18.5 & 71.26 & 2.77 & 48952283 & 462849365785 & Europe & Western Europe\\\\\n",
       "\\end{tabular}\n"
      ],
      "text/markdown": [
       "\n",
       "A data.frame: 6 × 9\n",
       "\n",
       "| country &lt;fct&gt; | year &lt;int&gt; | infant_mortality &lt;dbl&gt; | life_expectancy &lt;dbl&gt; | fertility &lt;dbl&gt; | population &lt;dbl&gt; | gdp &lt;dbl&gt; | continent &lt;fct&gt; | region &lt;fct&gt; |\n",
       "|---|---|---|---|---|---|---|---|---|\n",
       "| France | 1960 | 23.7 | 70.49 | 2.77 | 45865699 | 349778187326 | Europe | Western Europe |\n",
       "| France | 1961 | 22.4 | 71.07 | 2.80 | 46471083 | 369037927246 | Europe | Western Europe |\n",
       "| France | 1962 | 21.3 | 70.61 | 2.81 | 47121575 | 393660782189 | Europe | Western Europe |\n",
       "| France | 1963 | 20.3 | 70.46 | 2.81 | 47781535 | 414710508267 | Europe | Western Europe |\n",
       "| France | 1964 | 19.4 | 71.43 | 2.80 | 48402900 | 441742742172 | Europe | Western Europe |\n",
       "| France | 1965 | 18.5 | 71.26 | 2.77 | 48952283 | 462849365785 | Europe | Western Europe |\n",
       "\n"
      ],
      "text/plain": [
       "  country year infant_mortality life_expectancy fertility population\n",
       "1 France  1960 23.7             70.49           2.77      45865699  \n",
       "2 France  1961 22.4             71.07           2.80      46471083  \n",
       "3 France  1962 21.3             70.61           2.81      47121575  \n",
       "4 France  1963 20.3             70.46           2.81      47781535  \n",
       "5 France  1964 19.4             71.43           2.80      48402900  \n",
       "6 France  1965 18.5             71.26           2.77      48952283  \n",
       "  gdp          continent region        \n",
       "1 349778187326 Europe    Western Europe\n",
       "2 369037927246 Europe    Western Europe\n",
       "3 393660782189 Europe    Western Europe\n",
       "4 414710508267 Europe    Western Europe\n",
       "5 441742742172 Europe    Western Europe\n",
       "6 462849365785 Europe    Western Europe"
      ]
     },
     "metadata": {},
     "output_type": "display_data"
    }
   ],
   "source": [
    "#Selección sencilla\n",
    "df %>% filter(country == 'France') %>% head()"
   ]
  },
  {
   "cell_type": "code",
   "execution_count": 24,
   "metadata": {},
   "outputs": [
    {
     "data": {
      "text/html": [
       "<table>\n",
       "<caption>A data.frame: 9 × 9</caption>\n",
       "<thead>\n",
       "\t<tr><th scope=col>country</th><th scope=col>year</th><th scope=col>infant_mortality</th><th scope=col>life_expectancy</th><th scope=col>fertility</th><th scope=col>population</th><th scope=col>gdp</th><th scope=col>continent</th><th scope=col>region</th></tr>\n",
       "\t<tr><th scope=col>&lt;fct&gt;</th><th scope=col>&lt;int&gt;</th><th scope=col>&lt;dbl&gt;</th><th scope=col>&lt;dbl&gt;</th><th scope=col>&lt;dbl&gt;</th><th scope=col>&lt;dbl&gt;</th><th scope=col>&lt;dbl&gt;</th><th scope=col>&lt;fct&gt;</th><th scope=col>&lt;fct&gt;</th></tr>\n",
       "</thead>\n",
       "<tbody>\n",
       "\t<tr><td>Spain</td><td>2008</td><td>4.2</td><td>81.1</td><td>1.42</td><td>45817016</td><td>740341770865</td><td>Europe</td><td>Southern Europe</td></tr>\n",
       "\t<tr><td>Spain</td><td>2009</td><td>4.1</td><td>81.5</td><td>1.44</td><td>46295191</td><td>712647416141</td><td>Europe</td><td>Southern Europe</td></tr>\n",
       "\t<tr><td>Spain</td><td>2010</td><td>3.9</td><td>81.8</td><td>1.46</td><td>46601492</td><td>712152291146</td><td>Europe</td><td>Southern Europe</td></tr>\n",
       "\t<tr><td>Spain</td><td>2011</td><td>3.8</td><td>82.0</td><td>1.47</td><td>46708366</td><td>717193989759</td><td>Europe</td><td>Southern Europe</td></tr>\n",
       "\t<tr><td>Spain</td><td>2012</td><td>3.7</td><td>82.2</td><td>1.49</td><td>46637082</td><td>          NA</td><td>Europe</td><td>Southern Europe</td></tr>\n",
       "\t<tr><td>Spain</td><td>2013</td><td>3.7</td><td>82.5</td><td>1.51</td><td>46455163</td><td>          NA</td><td>Europe</td><td>Southern Europe</td></tr>\n",
       "\t<tr><td>Spain</td><td>2014</td><td>3.6</td><td>82.5</td><td>1.52</td><td>46259716</td><td>          NA</td><td>Europe</td><td>Southern Europe</td></tr>\n",
       "\t<tr><td>Spain</td><td>2015</td><td>3.5</td><td>82.6</td><td>1.53</td><td>46121699</td><td>          NA</td><td>Europe</td><td>Southern Europe</td></tr>\n",
       "\t<tr><td>Spain</td><td>2016</td><td> NA</td><td>82.7</td><td>  NA</td><td>      NA</td><td>          NA</td><td>Europe</td><td>Southern Europe</td></tr>\n",
       "</tbody>\n",
       "</table>\n"
      ],
      "text/latex": [
       "A data.frame: 9 × 9\n",
       "\\begin{tabular}{r|lllllllll}\n",
       " country & year & infant\\_mortality & life\\_expectancy & fertility & population & gdp & continent & region\\\\\n",
       " <fct> & <int> & <dbl> & <dbl> & <dbl> & <dbl> & <dbl> & <fct> & <fct>\\\\\n",
       "\\hline\n",
       "\t Spain & 2008 & 4.2 & 81.1 & 1.42 & 45817016 & 740341770865 & Europe & Southern Europe\\\\\n",
       "\t Spain & 2009 & 4.1 & 81.5 & 1.44 & 46295191 & 712647416141 & Europe & Southern Europe\\\\\n",
       "\t Spain & 2010 & 3.9 & 81.8 & 1.46 & 46601492 & 712152291146 & Europe & Southern Europe\\\\\n",
       "\t Spain & 2011 & 3.8 & 82.0 & 1.47 & 46708366 & 717193989759 & Europe & Southern Europe\\\\\n",
       "\t Spain & 2012 & 3.7 & 82.2 & 1.49 & 46637082 &           NA & Europe & Southern Europe\\\\\n",
       "\t Spain & 2013 & 3.7 & 82.5 & 1.51 & 46455163 &           NA & Europe & Southern Europe\\\\\n",
       "\t Spain & 2014 & 3.6 & 82.5 & 1.52 & 46259716 &           NA & Europe & Southern Europe\\\\\n",
       "\t Spain & 2015 & 3.5 & 82.6 & 1.53 & 46121699 &           NA & Europe & Southern Europe\\\\\n",
       "\t Spain & 2016 &  NA & 82.7 &   NA &       NA &           NA & Europe & Southern Europe\\\\\n",
       "\\end{tabular}\n"
      ],
      "text/markdown": [
       "\n",
       "A data.frame: 9 × 9\n",
       "\n",
       "| country &lt;fct&gt; | year &lt;int&gt; | infant_mortality &lt;dbl&gt; | life_expectancy &lt;dbl&gt; | fertility &lt;dbl&gt; | population &lt;dbl&gt; | gdp &lt;dbl&gt; | continent &lt;fct&gt; | region &lt;fct&gt; |\n",
       "|---|---|---|---|---|---|---|---|---|\n",
       "| Spain | 2008 | 4.2 | 81.1 | 1.42 | 45817016 | 740341770865 | Europe | Southern Europe |\n",
       "| Spain | 2009 | 4.1 | 81.5 | 1.44 | 46295191 | 712647416141 | Europe | Southern Europe |\n",
       "| Spain | 2010 | 3.9 | 81.8 | 1.46 | 46601492 | 712152291146 | Europe | Southern Europe |\n",
       "| Spain | 2011 | 3.8 | 82.0 | 1.47 | 46708366 | 717193989759 | Europe | Southern Europe |\n",
       "| Spain | 2012 | 3.7 | 82.2 | 1.49 | 46637082 |           NA | Europe | Southern Europe |\n",
       "| Spain | 2013 | 3.7 | 82.5 | 1.51 | 46455163 |           NA | Europe | Southern Europe |\n",
       "| Spain | 2014 | 3.6 | 82.5 | 1.52 | 46259716 |           NA | Europe | Southern Europe |\n",
       "| Spain | 2015 | 3.5 | 82.6 | 1.53 | 46121699 |           NA | Europe | Southern Europe |\n",
       "| Spain | 2016 |  NA | 82.7 |   NA |       NA |           NA | Europe | Southern Europe |\n",
       "\n"
      ],
      "text/plain": [
       "  country year infant_mortality life_expectancy fertility population\n",
       "1 Spain   2008 4.2              81.1            1.42      45817016  \n",
       "2 Spain   2009 4.1              81.5            1.44      46295191  \n",
       "3 Spain   2010 3.9              81.8            1.46      46601492  \n",
       "4 Spain   2011 3.8              82.0            1.47      46708366  \n",
       "5 Spain   2012 3.7              82.2            1.49      46637082  \n",
       "6 Spain   2013 3.7              82.5            1.51      46455163  \n",
       "7 Spain   2014 3.6              82.5            1.52      46259716  \n",
       "8 Spain   2015 3.5              82.6            1.53      46121699  \n",
       "9 Spain   2016  NA              82.7              NA            NA  \n",
       "  gdp          continent region         \n",
       "1 740341770865 Europe    Southern Europe\n",
       "2 712647416141 Europe    Southern Europe\n",
       "3 712152291146 Europe    Southern Europe\n",
       "4 717193989759 Europe    Southern Europe\n",
       "5           NA Europe    Southern Europe\n",
       "6           NA Europe    Southern Europe\n",
       "7           NA Europe    Southern Europe\n",
       "8           NA Europe    Southern Europe\n",
       "9           NA Europe    Southern Europe"
      ]
     },
     "metadata": {},
     "output_type": "display_data"
    }
   ],
   "source": [
    "#Selección por dos criterios\n",
    "df %>% filter(country == 'Spain' & year >= 2008)"
   ]
  },
  {
   "cell_type": "code",
   "execution_count": 11,
   "metadata": {
    "scrolled": true
   },
   "outputs": [
    {
     "data": {
      "text/html": [
       "<table class=\"dataframe\">\n",
       "<caption>A data.frame: 6 × 9</caption>\n",
       "<thead>\n",
       "\t<tr><th></th><th scope=col>country</th><th scope=col>year</th><th scope=col>infant_mortality</th><th scope=col>life_expectancy</th><th scope=col>fertility</th><th scope=col>population</th><th scope=col>gdp</th><th scope=col>continent</th><th scope=col>region</th></tr>\n",
       "\t<tr><th></th><th scope=col>&lt;fct&gt;</th><th scope=col>&lt;int&gt;</th><th scope=col>&lt;dbl&gt;</th><th scope=col>&lt;dbl&gt;</th><th scope=col>&lt;dbl&gt;</th><th scope=col>&lt;dbl&gt;</th><th scope=col>&lt;dbl&gt;</th><th scope=col>&lt;fct&gt;</th><th scope=col>&lt;fct&gt;</th></tr>\n",
       "</thead>\n",
       "<tbody>\n",
       "\t<tr><th scope=row>1</th><td>Algeria   </td><td>1960</td><td>148.20</td><td>47.50</td><td>7.65</td><td>11124892</td><td> 13828152297</td><td>Africa  </td><td>Northern Africa          </td></tr>\n",
       "\t<tr><th scope=row>2</th><td>Argentina </td><td>1960</td><td> 59.87</td><td>65.39</td><td>3.11</td><td>20619075</td><td>108322326649</td><td>Americas</td><td>South America            </td></tr>\n",
       "\t<tr><th scope=row>3</th><td>Australia </td><td>1960</td><td> 20.30</td><td>70.87</td><td>3.45</td><td>10292328</td><td> 96677859364</td><td>Oceania </td><td>Australia and New Zealand</td></tr>\n",
       "\t<tr><th scope=row>4</th><td>Austria   </td><td>1960</td><td> 37.30</td><td>68.75</td><td>2.70</td><td> 7065525</td><td> 52392699681</td><td>Europe  </td><td>Western Europe           </td></tr>\n",
       "\t<tr><th scope=row>5</th><td>Bahamas   </td><td>1960</td><td> 51.00</td><td>62.00</td><td>4.50</td><td>  109526</td><td>  1306269490</td><td>Americas</td><td>Caribbean                </td></tr>\n",
       "\t<tr><th scope=row>6</th><td>Bangladesh</td><td>1960</td><td>176.30</td><td>46.20</td><td>6.73</td><td>48200702</td><td> 12767231590</td><td>Asia    </td><td>Southern Asia            </td></tr>\n",
       "</tbody>\n",
       "</table>\n"
      ],
      "text/latex": [
       "A data.frame: 6 × 9\n",
       "\\begin{tabular}{r|lllllllll}\n",
       "  & country & year & infant\\_mortality & life\\_expectancy & fertility & population & gdp & continent & region\\\\\n",
       "  & <fct> & <int> & <dbl> & <dbl> & <dbl> & <dbl> & <dbl> & <fct> & <fct>\\\\\n",
       "\\hline\n",
       "\t1 & Algeria    & 1960 & 148.20 & 47.50 & 7.65 & 11124892 &  13828152297 & Africa   & Northern Africa          \\\\\n",
       "\t2 & Argentina  & 1960 &  59.87 & 65.39 & 3.11 & 20619075 & 108322326649 & Americas & South America            \\\\\n",
       "\t3 & Australia  & 1960 &  20.30 & 70.87 & 3.45 & 10292328 &  96677859364 & Oceania  & Australia and New Zealand\\\\\n",
       "\t4 & Austria    & 1960 &  37.30 & 68.75 & 2.70 &  7065525 &  52392699681 & Europe   & Western Europe           \\\\\n",
       "\t5 & Bahamas    & 1960 &  51.00 & 62.00 & 4.50 &   109526 &   1306269490 & Americas & Caribbean                \\\\\n",
       "\t6 & Bangladesh & 1960 & 176.30 & 46.20 & 6.73 & 48200702 &  12767231590 & Asia     & Southern Asia            \\\\\n",
       "\\end{tabular}\n"
      ],
      "text/markdown": [
       "\n",
       "A data.frame: 6 × 9\n",
       "\n",
       "| <!--/--> | country &lt;fct&gt; | year &lt;int&gt; | infant_mortality &lt;dbl&gt; | life_expectancy &lt;dbl&gt; | fertility &lt;dbl&gt; | population &lt;dbl&gt; | gdp &lt;dbl&gt; | continent &lt;fct&gt; | region &lt;fct&gt; |\n",
       "|---|---|---|---|---|---|---|---|---|---|\n",
       "| 1 | Algeria    | 1960 | 148.20 | 47.50 | 7.65 | 11124892 |  13828152297 | Africa   | Northern Africa           |\n",
       "| 2 | Argentina  | 1960 |  59.87 | 65.39 | 3.11 | 20619075 | 108322326649 | Americas | South America             |\n",
       "| 3 | Australia  | 1960 |  20.30 | 70.87 | 3.45 | 10292328 |  96677859364 | Oceania  | Australia and New Zealand |\n",
       "| 4 | Austria    | 1960 |  37.30 | 68.75 | 2.70 |  7065525 |  52392699681 | Europe   | Western Europe            |\n",
       "| 5 | Bahamas    | 1960 |  51.00 | 62.00 | 4.50 |   109526 |   1306269490 | Americas | Caribbean                 |\n",
       "| 6 | Bangladesh | 1960 | 176.30 | 46.20 | 6.73 | 48200702 |  12767231590 | Asia     | Southern Asia             |\n",
       "\n"
      ],
      "text/plain": [
       "  country    year infant_mortality life_expectancy fertility population\n",
       "1 Algeria    1960 148.20           47.50           7.65      11124892  \n",
       "2 Argentina  1960  59.87           65.39           3.11      20619075  \n",
       "3 Australia  1960  20.30           70.87           3.45      10292328  \n",
       "4 Austria    1960  37.30           68.75           2.70       7065525  \n",
       "5 Bahamas    1960  51.00           62.00           4.50        109526  \n",
       "6 Bangladesh 1960 176.30           46.20           6.73      48200702  \n",
       "  gdp          continent region                   \n",
       "1  13828152297 Africa    Northern Africa          \n",
       "2 108322326649 Americas  South America            \n",
       "3  96677859364 Oceania   Australia and New Zealand\n",
       "4  52392699681 Europe    Western Europe           \n",
       "5   1306269490 Americas  Caribbean                \n",
       "6  12767231590 Asia      Southern Asia            "
      ]
     },
     "metadata": {},
     "output_type": "display_data"
    }
   ],
   "source": [
    "#Seleccionar que los NO tengan NAs en un campo (y ver solo los primeros resultados)\n",
    "df %>% filter(!is.na(gdp)) %>% head()"
   ]
  },
  {
   "cell_type": "markdown",
   "metadata": {},
   "source": [
    "###Sampling (muestreo aleatorio)\n",
    "Las funciones de sampleo permiten seleccionar aleatoriamente registros de una tabla, bien sea por cantidad con `sample_n()` o por proporción con `sample_frac()`.  \n",
    "\n",
    "**Sintaxis básica:**  \n",
    "sample_X(`dataframe`, `cantidad/proporción`, `replace = TRUE/FALSE`)  \n",
    "\n",
    "El parametro `replace` indica si un mismo registro se puede seleccionar mas de una vez (replace = True) o si se debe samplear sin repetición (replace = False)"
   ]
  },
  {
   "cell_type": "code",
   "execution_count": 10,
   "metadata": {},
   "outputs": [
    {
     "data": {
      "text/html": [
       "<table class=\"dataframe\">\n",
       "<caption>A data.frame: 10 × 9</caption>\n",
       "<thead>\n",
       "\t<tr><th scope=col>country</th><th scope=col>year</th><th scope=col>infant_mortality</th><th scope=col>life_expectancy</th><th scope=col>fertility</th><th scope=col>population</th><th scope=col>gdp</th><th scope=col>continent</th><th scope=col>region</th></tr>\n",
       "\t<tr><th scope=col>&lt;fct&gt;</th><th scope=col>&lt;int&gt;</th><th scope=col>&lt;dbl&gt;</th><th scope=col>&lt;dbl&gt;</th><th scope=col>&lt;dbl&gt;</th><th scope=col>&lt;dbl&gt;</th><th scope=col>&lt;dbl&gt;</th><th scope=col>&lt;fct&gt;</th><th scope=col>&lt;fct&gt;</th></tr>\n",
       "</thead>\n",
       "<tbody>\n",
       "\t<tr><td>France          </td><td>1973</td><td> 13.1</td><td>72.69</td><td>2.24</td><td> 52214014</td><td>705840360681</td><td>Europe  </td><td>Western Europe</td></tr>\n",
       "\t<tr><td>Maldives        </td><td>1973</td><td>152.0</td><td>49.98</td><td>7.10</td><td>   127717</td><td>          NA</td><td>Asia    </td><td>Southern Asia </td></tr>\n",
       "\t<tr><td>French Polynesia</td><td>2016</td><td>   NA</td><td>76.91</td><td>  NA</td><td>       NA</td><td>          NA</td><td>Oceania </td><td>Polynesia     </td></tr>\n",
       "\t<tr><td>Brazil          </td><td>2007</td><td> 17.1</td><td>73.00</td><td>1.94</td><td>192784521</td><td>815703390474</td><td>Americas</td><td>South America </td></tr>\n",
       "\t<tr><td>Burkina Faso    </td><td>1976</td><td>131.9</td><td>43.74</td><td>6.92</td><td>  6274037</td><td>  1003222368</td><td>Africa  </td><td>Western Africa</td></tr>\n",
       "\t<tr><td>Uruguay         </td><td>1969</td><td> 49.6</td><td>68.84</td><td>2.87</td><td>  2795044</td><td> 11891487796</td><td>Americas</td><td>South America </td></tr>\n",
       "\t<tr><td>Jamaica         </td><td>2010</td><td> 15.5</td><td>74.80</td><td>2.33</td><td>  2741253</td><td>  9799664035</td><td>Americas</td><td>Caribbean     </td></tr>\n",
       "\t<tr><td>Cote d'Ivoire   </td><td>1978</td><td>120.2</td><td>51.70</td><td>7.77</td><td>  7569558</td><td>  8475427578</td><td>Africa  </td><td>Western Africa</td></tr>\n",
       "\t<tr><td>Puerto Rico     </td><td>1985</td><td>   NA</td><td>74.00</td><td>2.34</td><td>  3369714</td><td> 31189568233</td><td>Americas</td><td>Caribbean     </td></tr>\n",
       "\t<tr><td>Jordan          </td><td>1996</td><td> 25.5</td><td>72.60</td><td>4.53</td><td>  4448113</td><td>  7379252157</td><td>Asia    </td><td>Western Asia  </td></tr>\n",
       "</tbody>\n",
       "</table>\n"
      ],
      "text/latex": [
       "A data.frame: 10 × 9\n",
       "\\begin{tabular}{lllllllll}\n",
       " country & year & infant\\_mortality & life\\_expectancy & fertility & population & gdp & continent & region\\\\\n",
       " <fct> & <int> & <dbl> & <dbl> & <dbl> & <dbl> & <dbl> & <fct> & <fct>\\\\\n",
       "\\hline\n",
       "\t France           & 1973 &  13.1 & 72.69 & 2.24 &  52214014 & 705840360681 & Europe   & Western Europe\\\\\n",
       "\t Maldives         & 1973 & 152.0 & 49.98 & 7.10 &    127717 &           NA & Asia     & Southern Asia \\\\\n",
       "\t French Polynesia & 2016 &    NA & 76.91 &   NA &        NA &           NA & Oceania  & Polynesia     \\\\\n",
       "\t Brazil           & 2007 &  17.1 & 73.00 & 1.94 & 192784521 & 815703390474 & Americas & South America \\\\\n",
       "\t Burkina Faso     & 1976 & 131.9 & 43.74 & 6.92 &   6274037 &   1003222368 & Africa   & Western Africa\\\\\n",
       "\t Uruguay          & 1969 &  49.6 & 68.84 & 2.87 &   2795044 &  11891487796 & Americas & South America \\\\\n",
       "\t Jamaica          & 2010 &  15.5 & 74.80 & 2.33 &   2741253 &   9799664035 & Americas & Caribbean     \\\\\n",
       "\t Cote d'Ivoire    & 1978 & 120.2 & 51.70 & 7.77 &   7569558 &   8475427578 & Africa   & Western Africa\\\\\n",
       "\t Puerto Rico      & 1985 &    NA & 74.00 & 2.34 &   3369714 &  31189568233 & Americas & Caribbean     \\\\\n",
       "\t Jordan           & 1996 &  25.5 & 72.60 & 4.53 &   4448113 &   7379252157 & Asia     & Western Asia  \\\\\n",
       "\\end{tabular}\n"
      ],
      "text/markdown": [
       "\n",
       "A data.frame: 10 × 9\n",
       "\n",
       "| country &lt;fct&gt; | year &lt;int&gt; | infant_mortality &lt;dbl&gt; | life_expectancy &lt;dbl&gt; | fertility &lt;dbl&gt; | population &lt;dbl&gt; | gdp &lt;dbl&gt; | continent &lt;fct&gt; | region &lt;fct&gt; |\n",
       "|---|---|---|---|---|---|---|---|---|\n",
       "| France           | 1973 |  13.1 | 72.69 | 2.24 |  52214014 | 705840360681 | Europe   | Western Europe |\n",
       "| Maldives         | 1973 | 152.0 | 49.98 | 7.10 |    127717 |           NA | Asia     | Southern Asia  |\n",
       "| French Polynesia | 2016 |    NA | 76.91 |   NA |        NA |           NA | Oceania  | Polynesia      |\n",
       "| Brazil           | 2007 |  17.1 | 73.00 | 1.94 | 192784521 | 815703390474 | Americas | South America  |\n",
       "| Burkina Faso     | 1976 | 131.9 | 43.74 | 6.92 |   6274037 |   1003222368 | Africa   | Western Africa |\n",
       "| Uruguay          | 1969 |  49.6 | 68.84 | 2.87 |   2795044 |  11891487796 | Americas | South America  |\n",
       "| Jamaica          | 2010 |  15.5 | 74.80 | 2.33 |   2741253 |   9799664035 | Americas | Caribbean      |\n",
       "| Cote d'Ivoire    | 1978 | 120.2 | 51.70 | 7.77 |   7569558 |   8475427578 | Africa   | Western Africa |\n",
       "| Puerto Rico      | 1985 |    NA | 74.00 | 2.34 |   3369714 |  31189568233 | Americas | Caribbean      |\n",
       "| Jordan           | 1996 |  25.5 | 72.60 | 4.53 |   4448113 |   7379252157 | Asia     | Western Asia   |\n",
       "\n"
      ],
      "text/plain": [
       "   country          year infant_mortality life_expectancy fertility population\n",
       "1  France           1973  13.1            72.69           2.24       52214014 \n",
       "2  Maldives         1973 152.0            49.98           7.10         127717 \n",
       "3  French Polynesia 2016    NA            76.91             NA             NA \n",
       "4  Brazil           2007  17.1            73.00           1.94      192784521 \n",
       "5  Burkina Faso     1976 131.9            43.74           6.92        6274037 \n",
       "6  Uruguay          1969  49.6            68.84           2.87        2795044 \n",
       "7  Jamaica          2010  15.5            74.80           2.33        2741253 \n",
       "8  Cote d'Ivoire    1978 120.2            51.70           7.77        7569558 \n",
       "9  Puerto Rico      1985    NA            74.00           2.34        3369714 \n",
       "10 Jordan           1996  25.5            72.60           4.53        4448113 \n",
       "   gdp          continent region        \n",
       "1  705840360681 Europe    Western Europe\n",
       "2            NA Asia      Southern Asia \n",
       "3            NA Oceania   Polynesia     \n",
       "4  815703390474 Americas  South America \n",
       "5    1003222368 Africa    Western Africa\n",
       "6   11891487796 Americas  South America \n",
       "7    9799664035 Americas  Caribbean     \n",
       "8    8475427578 Africa    Western Africa\n",
       "9   31189568233 Americas  Caribbean     \n",
       "10   7379252157 Asia      Western Asia  "
      ]
     },
     "metadata": {},
     "output_type": "display_data"
    }
   ],
   "source": [
    "# Seleccionar 10 obsevaciones al azar\n",
    "\n",
    "set.seed(123) # Aqui se fija una \"semilla\" para generar numeros random. Si la semilla es la misma, el resultado también\n",
    "df %>% sample_n(10, replace = FALSE)"
   ]
  },
  {
   "cell_type": "markdown",
   "metadata": {},
   "source": [
    "### Arrange (ordenar por una columna)"
   ]
  },
  {
   "cell_type": "markdown",
   "metadata": {},
   "source": [
    "Arrange ordena todo el dataframe en función de los valores (numéricos, alfabéticos o de orden de factor) de una columna seleccionada.  \n",
    "\n",
    "**Sintaxis básica:**  \n",
    "arrange(el `dataframe`, `columna de ordenación`) \n",
    "\n",
    "nota: Por defecto, la ordenación es ascendente (de menor a mayor). Para una ordenación descendente, se incluiría el nombre de la columna dentro de la función `desc()`, de la siguiente manera:  \n",
    "arrange(el `dataframe`, desc(`columna de ordenación`))"
   ]
  },
  {
   "cell_type": "code",
   "execution_count": 5,
   "metadata": {},
   "outputs": [
    {
     "data": {
      "text/html": [
       "<table class=\"dataframe\">\n",
       "<caption>A data.frame: 6 × 9</caption>\n",
       "<thead>\n",
       "\t<tr><th></th><th scope=col>country</th><th scope=col>year</th><th scope=col>infant_mortality</th><th scope=col>life_expectancy</th><th scope=col>fertility</th><th scope=col>population</th><th scope=col>gdp</th><th scope=col>continent</th><th scope=col>region</th></tr>\n",
       "\t<tr><th></th><th scope=col>&lt;fct&gt;</th><th scope=col>&lt;int&gt;</th><th scope=col>&lt;dbl&gt;</th><th scope=col>&lt;dbl&gt;</th><th scope=col>&lt;dbl&gt;</th><th scope=col>&lt;dbl&gt;</th><th scope=col>&lt;dbl&gt;</th><th scope=col>&lt;fct&gt;</th><th scope=col>&lt;fct&gt;</th></tr>\n",
       "</thead>\n",
       "<tbody>\n",
       "\t<tr><th scope=row>1</th><td>Spain</td><td>2016</td><td> NA</td><td>82.7</td><td>  NA</td><td>      NA</td><td>         NA</td><td>Europe</td><td>Southern Europe</td></tr>\n",
       "\t<tr><th scope=row>2</th><td>Spain</td><td>2015</td><td>3.5</td><td>82.6</td><td>1.53</td><td>46121699</td><td>         NA</td><td>Europe</td><td>Southern Europe</td></tr>\n",
       "\t<tr><th scope=row>3</th><td>Spain</td><td>2013</td><td>3.7</td><td>82.5</td><td>1.51</td><td>46455163</td><td>         NA</td><td>Europe</td><td>Southern Europe</td></tr>\n",
       "\t<tr><th scope=row>4</th><td>Spain</td><td>2014</td><td>3.6</td><td>82.5</td><td>1.52</td><td>46259716</td><td>         NA</td><td>Europe</td><td>Southern Europe</td></tr>\n",
       "\t<tr><th scope=row>5</th><td>Spain</td><td>2012</td><td>3.7</td><td>82.2</td><td>1.49</td><td>46637082</td><td>         NA</td><td>Europe</td><td>Southern Europe</td></tr>\n",
       "\t<tr><th scope=row>6</th><td>Spain</td><td>2011</td><td>3.8</td><td>82.0</td><td>1.47</td><td>46708366</td><td>7.17194e+11</td><td>Europe</td><td>Southern Europe</td></tr>\n",
       "</tbody>\n",
       "</table>\n"
      ],
      "text/latex": [
       "A data.frame: 6 × 9\n",
       "\\begin{tabular}{r|lllllllll}\n",
       "  & country & year & infant\\_mortality & life\\_expectancy & fertility & population & gdp & continent & region\\\\\n",
       "  & <fct> & <int> & <dbl> & <dbl> & <dbl> & <dbl> & <dbl> & <fct> & <fct>\\\\\n",
       "\\hline\n",
       "\t1 & Spain & 2016 &  NA & 82.7 &   NA &       NA &          NA & Europe & Southern Europe\\\\\n",
       "\t2 & Spain & 2015 & 3.5 & 82.6 & 1.53 & 46121699 &          NA & Europe & Southern Europe\\\\\n",
       "\t3 & Spain & 2013 & 3.7 & 82.5 & 1.51 & 46455163 &          NA & Europe & Southern Europe\\\\\n",
       "\t4 & Spain & 2014 & 3.6 & 82.5 & 1.52 & 46259716 &          NA & Europe & Southern Europe\\\\\n",
       "\t5 & Spain & 2012 & 3.7 & 82.2 & 1.49 & 46637082 &          NA & Europe & Southern Europe\\\\\n",
       "\t6 & Spain & 2011 & 3.8 & 82.0 & 1.47 & 46708366 & 7.17194e+11 & Europe & Southern Europe\\\\\n",
       "\\end{tabular}\n"
      ],
      "text/markdown": [
       "\n",
       "A data.frame: 6 × 9\n",
       "\n",
       "| <!--/--> | country &lt;fct&gt; | year &lt;int&gt; | infant_mortality &lt;dbl&gt; | life_expectancy &lt;dbl&gt; | fertility &lt;dbl&gt; | population &lt;dbl&gt; | gdp &lt;dbl&gt; | continent &lt;fct&gt; | region &lt;fct&gt; |\n",
       "|---|---|---|---|---|---|---|---|---|---|\n",
       "| 1 | Spain | 2016 |  NA | 82.7 |   NA |       NA |          NA | Europe | Southern Europe |\n",
       "| 2 | Spain | 2015 | 3.5 | 82.6 | 1.53 | 46121699 |          NA | Europe | Southern Europe |\n",
       "| 3 | Spain | 2013 | 3.7 | 82.5 | 1.51 | 46455163 |          NA | Europe | Southern Europe |\n",
       "| 4 | Spain | 2014 | 3.6 | 82.5 | 1.52 | 46259716 |          NA | Europe | Southern Europe |\n",
       "| 5 | Spain | 2012 | 3.7 | 82.2 | 1.49 | 46637082 |          NA | Europe | Southern Europe |\n",
       "| 6 | Spain | 2011 | 3.8 | 82.0 | 1.47 | 46708366 | 7.17194e+11 | Europe | Southern Europe |\n",
       "\n"
      ],
      "text/plain": [
       "  country year infant_mortality life_expectancy fertility population\n",
       "1 Spain   2016  NA              82.7              NA            NA  \n",
       "2 Spain   2015 3.5              82.6            1.53      46121699  \n",
       "3 Spain   2013 3.7              82.5            1.51      46455163  \n",
       "4 Spain   2014 3.6              82.5            1.52      46259716  \n",
       "5 Spain   2012 3.7              82.2            1.49      46637082  \n",
       "6 Spain   2011 3.8              82.0            1.47      46708366  \n",
       "  gdp         continent region         \n",
       "1          NA Europe    Southern Europe\n",
       "2          NA Europe    Southern Europe\n",
       "3          NA Europe    Southern Europe\n",
       "4          NA Europe    Southern Europe\n",
       "5          NA Europe    Southern Europe\n",
       "6 7.17194e+11 Europe    Southern Europe"
      ]
     },
     "metadata": {},
     "output_type": "display_data"
    }
   ],
   "source": [
    "#Ver los 10 años de España con mayor esperanza de vida\n",
    "#Filtrar por pais = España, ordenar por esperanza de vida descendente, ver 10 primeros registros\n",
    "df %>% filter(country == 'Spain') %>% arrange(desc(life_expectancy)) %>% head()"
   ]
  },
  {
   "cell_type": "markdown",
   "metadata": {},
   "source": [
    "### Mutate (crear columnas)"
   ]
  },
  {
   "cell_type": "markdown",
   "metadata": {},
   "source": [
    "Mutate permite crear nuevas columnas aplicando un criterio (normalmente transformaciones de una o varias columnas ya existentes)\n",
    "\n",
    "**Sintaxis básica:**  \n",
    "mutate(el `dataframe`, `Nueva_columna` = `Operacion para generarla`)"
   ]
  },
  {
   "cell_type": "code",
   "execution_count": 15,
   "metadata": {},
   "outputs": [
    {
     "data": {
      "text/html": [
       "<table class=\"dataframe\">\n",
       "<caption>A data.frame: 6 × 10</caption>\n",
       "<thead>\n",
       "\t<tr><th></th><th scope=col>country</th><th scope=col>year</th><th scope=col>infant_mortality</th><th scope=col>life_expectancy</th><th scope=col>fertility</th><th scope=col>population</th><th scope=col>gdp</th><th scope=col>continent</th><th scope=col>region</th><th scope=col>gdp_per_capapita</th></tr>\n",
       "\t<tr><th></th><th scope=col>&lt;fct&gt;</th><th scope=col>&lt;int&gt;</th><th scope=col>&lt;dbl&gt;</th><th scope=col>&lt;dbl&gt;</th><th scope=col>&lt;dbl&gt;</th><th scope=col>&lt;dbl&gt;</th><th scope=col>&lt;dbl&gt;</th><th scope=col>&lt;fct&gt;</th><th scope=col>&lt;fct&gt;</th><th scope=col>&lt;dbl&gt;</th></tr>\n",
       "</thead>\n",
       "<tbody>\n",
       "\t<tr><th scope=row>2</th><td>Algeria   </td><td>1960</td><td>148.20</td><td>47.50</td><td>7.65</td><td>11124892</td><td> 13828152297</td><td>Africa  </td><td>Northern Africa          </td><td> 1242.9920</td></tr>\n",
       "\t<tr><th scope=row>5</th><td>Argentina </td><td>1960</td><td> 59.87</td><td>65.39</td><td>3.11</td><td>20619075</td><td>108322326649</td><td>Americas</td><td>South America            </td><td> 5253.5008</td></tr>\n",
       "\t<tr><th scope=row>8</th><td>Australia </td><td>1960</td><td> 20.30</td><td>70.87</td><td>3.45</td><td>10292328</td><td> 96677859364</td><td>Oceania </td><td>Australia and New Zealand</td><td> 9393.1965</td></tr>\n",
       "\t<tr><th scope=row>9</th><td>Austria   </td><td>1960</td><td> 37.30</td><td>68.75</td><td>2.70</td><td> 7065525</td><td> 52392699681</td><td>Europe  </td><td>Western Europe           </td><td> 7415.2593</td></tr>\n",
       "\t<tr><th scope=row>11</th><td>Bahamas   </td><td>1960</td><td> 51.00</td><td>62.00</td><td>4.50</td><td>  109526</td><td>  1306269490</td><td>Americas</td><td>Caribbean                </td><td>11926.5699</td></tr>\n",
       "\t<tr><th scope=row>13</th><td>Bangladesh</td><td>1960</td><td>176.30</td><td>46.20</td><td>6.73</td><td>48200702</td><td> 12767231590</td><td>Asia    </td><td>Southern Asia            </td><td>  264.8765</td></tr>\n",
       "</tbody>\n",
       "</table>\n"
      ],
      "text/latex": [
       "A data.frame: 6 × 10\n",
       "\\begin{tabular}{r|llllllllll}\n",
       "  & country & year & infant\\_mortality & life\\_expectancy & fertility & population & gdp & continent & region & gdp\\_per\\_capapita\\\\\n",
       "  & <fct> & <int> & <dbl> & <dbl> & <dbl> & <dbl> & <dbl> & <fct> & <fct> & <dbl>\\\\\n",
       "\\hline\n",
       "\t2 & Algeria    & 1960 & 148.20 & 47.50 & 7.65 & 11124892 &  13828152297 & Africa   & Northern Africa           &  1242.9920\\\\\n",
       "\t5 & Argentina  & 1960 &  59.87 & 65.39 & 3.11 & 20619075 & 108322326649 & Americas & South America             &  5253.5008\\\\\n",
       "\t8 & Australia  & 1960 &  20.30 & 70.87 & 3.45 & 10292328 &  96677859364 & Oceania  & Australia and New Zealand &  9393.1965\\\\\n",
       "\t9 & Austria    & 1960 &  37.30 & 68.75 & 2.70 &  7065525 &  52392699681 & Europe   & Western Europe            &  7415.2593\\\\\n",
       "\t11 & Bahamas    & 1960 &  51.00 & 62.00 & 4.50 &   109526 &   1306269490 & Americas & Caribbean                 & 11926.5699\\\\\n",
       "\t13 & Bangladesh & 1960 & 176.30 & 46.20 & 6.73 & 48200702 &  12767231590 & Asia     & Southern Asia             &   264.8765\\\\\n",
       "\\end{tabular}\n"
      ],
      "text/markdown": [
       "\n",
       "A data.frame: 6 × 10\n",
       "\n",
       "| <!--/--> | country &lt;fct&gt; | year &lt;int&gt; | infant_mortality &lt;dbl&gt; | life_expectancy &lt;dbl&gt; | fertility &lt;dbl&gt; | population &lt;dbl&gt; | gdp &lt;dbl&gt; | continent &lt;fct&gt; | region &lt;fct&gt; | gdp_per_capapita &lt;dbl&gt; |\n",
       "|---|---|---|---|---|---|---|---|---|---|---|\n",
       "| 2 | Algeria    | 1960 | 148.20 | 47.50 | 7.65 | 11124892 |  13828152297 | Africa   | Northern Africa           |  1242.9920 |\n",
       "| 5 | Argentina  | 1960 |  59.87 | 65.39 | 3.11 | 20619075 | 108322326649 | Americas | South America             |  5253.5008 |\n",
       "| 8 | Australia  | 1960 |  20.30 | 70.87 | 3.45 | 10292328 |  96677859364 | Oceania  | Australia and New Zealand |  9393.1965 |\n",
       "| 9 | Austria    | 1960 |  37.30 | 68.75 | 2.70 |  7065525 |  52392699681 | Europe   | Western Europe            |  7415.2593 |\n",
       "| 11 | Bahamas    | 1960 |  51.00 | 62.00 | 4.50 |   109526 |   1306269490 | Americas | Caribbean                 | 11926.5699 |\n",
       "| 13 | Bangladesh | 1960 | 176.30 | 46.20 | 6.73 | 48200702 |  12767231590 | Asia     | Southern Asia             |   264.8765 |\n",
       "\n"
      ],
      "text/plain": [
       "   country    year infant_mortality life_expectancy fertility population\n",
       "2  Algeria    1960 148.20           47.50           7.65      11124892  \n",
       "5  Argentina  1960  59.87           65.39           3.11      20619075  \n",
       "8  Australia  1960  20.30           70.87           3.45      10292328  \n",
       "9  Austria    1960  37.30           68.75           2.70       7065525  \n",
       "11 Bahamas    1960  51.00           62.00           4.50        109526  \n",
       "13 Bangladesh 1960 176.30           46.20           6.73      48200702  \n",
       "   gdp          continent region                    gdp_per_capapita\n",
       "2   13828152297 Africa    Northern Africa            1242.9920      \n",
       "5  108322326649 Americas  South America              5253.5008      \n",
       "8   96677859364 Oceania   Australia and New Zealand  9393.1965      \n",
       "9   52392699681 Europe    Western Europe             7415.2593      \n",
       "11   1306269490 Americas  Caribbean                 11926.5699      \n",
       "13  12767231590 Asia      Southern Asia               264.8765      "
      ]
     },
     "metadata": {},
     "output_type": "display_data"
    }
   ],
   "source": [
    "#Calcular el PIB per capita a partir de dividir la columna gdp (gross domestic product) entre la de population\n",
    "#Nota: para eliminar  primero las filas que tengan ALGUN valor NA (en cualquier columna), se usa na.omit()\n",
    "df %>% mutate(gdp_per_capapita = gdp/population) %>% na.omit() %>%  head()"
   ]
  },
  {
   "cell_type": "markdown",
   "metadata": {},
   "source": [
    "### Case_when (generar valores según múltiples condiciones)"
   ]
  },
  {
   "cell_type": "markdown",
   "metadata": {},
   "source": [
    "La función case_when es muy util cuando se quiere, por ejemplo, crear una nueva variable que sea el resultado de aplicar varios argumentos condicionales. Por ejemplo, si queremos que nos añada un valor o una etiqueta dependiendo de si se cumple una u otra condición.  \n",
    "\n",
    "**Sintaxis**\n",
    "\n",
    "La sintaxis de case_when puede parecer inicialmente más complicada, pero una vez entendida resulta sencilla de usar y ampliar los casos.\n",
    "\n",
    "de forma basica, sería:\n",
    "case_when(`condición` ~ `resultado`)\n",
    "\n",
    "En la condición se incluye un conjunto de datos (p.ej. una columna de una tabla), y el resultado de la función será una lista de datos de la misma longitud, los cuales mostrarán el `resultado` en los casos en los que se cumpla la `condición` impuesta."
   ]
  },
  {
   "cell_type": "markdown",
   "metadata": {},
   "source": [
    "Ejemplo: con los datos de 2011, ver qué paises serían considerados como desarrollados ( _developed_ ) o en vías de desarrollo ( _developing_ ) en base a si el cálculo de PIB per capita es > 12000 (developed) o menor (developing)"
   ]
  },
  {
   "cell_type": "code",
   "execution_count": 19,
   "metadata": {},
   "outputs": [],
   "source": [
    "# Crear tabla filtrada con datos solo de 2011\n",
    "df_2011 <- df %>% filter(year == 2011)"
   ]
  },
  {
   "cell_type": "markdown",
   "metadata": {},
   "source": [
    "Al aplicar la función case_when, el resultado es una lista de la misma longitud que el input"
   ]
  },
  {
   "cell_type": "code",
   "execution_count": 26,
   "metadata": {},
   "outputs": [
    {
     "data": {
      "text/html": [
       "<style>\n",
       ".list-inline {list-style: none; margin:0; padding: 0}\n",
       ".list-inline>li {display: inline-block}\n",
       ".list-inline>li:not(:last-child)::after {content: \"\\00b7\"; padding: 0 .5ex}\n",
       "</style>\n",
       "<ol class=list-inline><li>'Developing'</li><li>'Developing'</li><li>'Developing'</li><li>'Developing'</li><li>'Developing'</li><li>'Developing'</li><li>NA</li><li>'DEVELOPED'</li><li>'DEVELOPED'</li><li>'Developing'</li><li>'DEVELOPED'</li><li>NA</li><li>'Developing'</li><li>NA</li><li>'Developing'</li><li>'DEVELOPED'</li><li>'Developing'</li><li>'Developing'</li><li>'Developing'</li><li>'Developing'</li><li>'Developing'</li><li>'Developing'</li><li>'Developing'</li><li>NA</li><li>'Developing'</li><li>'Developing'</li><li>'Developing'</li><li>'Developing'</li><li>'Developing'</li><li>'DEVELOPED'</li><li>'Developing'</li><li>'Developing'</li><li>'Developing'</li><li>'Developing'</li><li>'Developing'</li><li>'Developing'</li><li>'Developing'</li><li>'Developing'</li><li>'Developing'</li><li>'Developing'</li><li>'Developing'</li><li>'Developing'</li><li>NA</li><li>'Developing'</li><li>'Developing'</li><li>'DEVELOPED'</li><li>NA</li><li>'Developing'</li><li>'Developing'</li><li>'Developing'</li><li>'Developing'</li><li>'Developing'</li><li>'Developing'</li><li>'Developing'</li><li>'Developing'</li><li>'Developing'</li><li>'DEVELOPED'</li><li>'DEVELOPED'</li><li>NA</li><li>'Developing'</li><li>'Developing'</li><li>'Developing'</li><li>'DEVELOPED'</li><li>'Developing'</li><li>'DEVELOPED'</li><li>NA</li><li>'Developing'</li><li>'Developing'</li><li>'Developing'</li><li>'Developing'</li><li>NA</li><li>'Developing'</li><li>'Developing'</li><li>'DEVELOPED'</li><li>'Developing'</li><li>'DEVELOPED'</li><li>'Developing'</li><li>'Developing'</li><li>NA</li><li>'Developing'</li><li>'DEVELOPED'</li><li>'DEVELOPED'</li><li>'DEVELOPED'</li><li>'Developing'</li><li>'DEVELOPED'</li><li>'Developing'</li><li>'Developing'</li><li>'Developing'</li><li>'Developing'</li><li>'DEVELOPED'</li><li>'DEVELOPED'</li><li>'Developing'</li><li>'Developing'</li><li>'Developing'</li><li>'Developing'</li><li>'Developing'</li><li>'Developing'</li><li>NA</li><li>'Developing'</li><li>'DEVELOPED'</li><li>'DEVELOPED'</li><li>'Developing'</li><li>'Developing'</li><li>'Developing'</li><li>'Developing'</li><li>'Developing'</li><li>'Developing'</li><li>'Developing'</li><li>'Developing'</li><li>'Developing'</li><li>'Developing'</li><li>'Developing'</li><li>'Developing'</li><li>'Developing'</li><li>'Developing'</li><li>'Developing'</li><li>'Developing'</li><li>'Developing'</li><li>'Developing'</li><li>'DEVELOPED'</li><li>NA</li><li>NA</li><li>'Developing'</li><li>'Developing'</li><li>'Developing'</li><li>'DEVELOPED'</li><li>'Developing'</li><li>'Developing'</li><li>'Developing'</li><li>'Developing'</li><li>'Developing'</li><li>'Developing'</li><li>'Developing'</li><li>'Developing'</li><li>'Developing'</li><li>NA</li><li>'DEVELOPED'</li><li>'Developing'</li><li>'Developing'</li><li>'Developing'</li><li>'Developing'</li><li>'Developing'</li><li>'Developing'</li><li>'Developing'</li><li>'Developing'</li><li>'Developing'</li><li>'Developing'</li><li>'Developing'</li><li>'DEVELOPED'</li><li>'Developing'</li><li>'DEVELOPED'</li><li>'Developing'</li><li>'Developing'</li><li>'DEVELOPED'</li><li>'Developing'</li><li>'Developing'</li><li>NA</li><li>'Developing'</li><li>'DEVELOPED'</li><li>'DEVELOPED'</li><li>NA</li><li>'Developing'</li><li>'Developing'</li><li>'Developing'</li><li>'Developing'</li><li>'Developing'</li><li>'Developing'</li><li>'Developing'</li><li>'Developing'</li><li>'Developing'</li><li>'Developing'</li><li>'Developing'</li><li>'Developing'</li><li>'DEVELOPED'</li><li>'DEVELOPED'</li><li>'DEVELOPED'</li><li>'Developing'</li><li>'Developing'</li><li>'Developing'</li><li>'Developing'</li><li>NA</li><li>'Developing'</li><li>'Developing'</li><li>'Developing'</li><li>'Developing'</li></ol>\n"
      ],
      "text/latex": [
       "\\begin{enumerate*}\n",
       "\\item 'Developing'\n",
       "\\item 'Developing'\n",
       "\\item 'Developing'\n",
       "\\item 'Developing'\n",
       "\\item 'Developing'\n",
       "\\item 'Developing'\n",
       "\\item NA\n",
       "\\item 'DEVELOPED'\n",
       "\\item 'DEVELOPED'\n",
       "\\item 'Developing'\n",
       "\\item 'DEVELOPED'\n",
       "\\item NA\n",
       "\\item 'Developing'\n",
       "\\item NA\n",
       "\\item 'Developing'\n",
       "\\item 'DEVELOPED'\n",
       "\\item 'Developing'\n",
       "\\item 'Developing'\n",
       "\\item 'Developing'\n",
       "\\item 'Developing'\n",
       "\\item 'Developing'\n",
       "\\item 'Developing'\n",
       "\\item 'Developing'\n",
       "\\item NA\n",
       "\\item 'Developing'\n",
       "\\item 'Developing'\n",
       "\\item 'Developing'\n",
       "\\item 'Developing'\n",
       "\\item 'Developing'\n",
       "\\item 'DEVELOPED'\n",
       "\\item 'Developing'\n",
       "\\item 'Developing'\n",
       "\\item 'Developing'\n",
       "\\item 'Developing'\n",
       "\\item 'Developing'\n",
       "\\item 'Developing'\n",
       "\\item 'Developing'\n",
       "\\item 'Developing'\n",
       "\\item 'Developing'\n",
       "\\item 'Developing'\n",
       "\\item 'Developing'\n",
       "\\item 'Developing'\n",
       "\\item NA\n",
       "\\item 'Developing'\n",
       "\\item 'Developing'\n",
       "\\item 'DEVELOPED'\n",
       "\\item NA\n",
       "\\item 'Developing'\n",
       "\\item 'Developing'\n",
       "\\item 'Developing'\n",
       "\\item 'Developing'\n",
       "\\item 'Developing'\n",
       "\\item 'Developing'\n",
       "\\item 'Developing'\n",
       "\\item 'Developing'\n",
       "\\item 'Developing'\n",
       "\\item 'DEVELOPED'\n",
       "\\item 'DEVELOPED'\n",
       "\\item NA\n",
       "\\item 'Developing'\n",
       "\\item 'Developing'\n",
       "\\item 'Developing'\n",
       "\\item 'DEVELOPED'\n",
       "\\item 'Developing'\n",
       "\\item 'DEVELOPED'\n",
       "\\item NA\n",
       "\\item 'Developing'\n",
       "\\item 'Developing'\n",
       "\\item 'Developing'\n",
       "\\item 'Developing'\n",
       "\\item NA\n",
       "\\item 'Developing'\n",
       "\\item 'Developing'\n",
       "\\item 'DEVELOPED'\n",
       "\\item 'Developing'\n",
       "\\item 'DEVELOPED'\n",
       "\\item 'Developing'\n",
       "\\item 'Developing'\n",
       "\\item NA\n",
       "\\item 'Developing'\n",
       "\\item 'DEVELOPED'\n",
       "\\item 'DEVELOPED'\n",
       "\\item 'DEVELOPED'\n",
       "\\item 'Developing'\n",
       "\\item 'DEVELOPED'\n",
       "\\item 'Developing'\n",
       "\\item 'Developing'\n",
       "\\item 'Developing'\n",
       "\\item 'Developing'\n",
       "\\item 'DEVELOPED'\n",
       "\\item 'DEVELOPED'\n",
       "\\item 'Developing'\n",
       "\\item 'Developing'\n",
       "\\item 'Developing'\n",
       "\\item 'Developing'\n",
       "\\item 'Developing'\n",
       "\\item 'Developing'\n",
       "\\item NA\n",
       "\\item 'Developing'\n",
       "\\item 'DEVELOPED'\n",
       "\\item 'DEVELOPED'\n",
       "\\item 'Developing'\n",
       "\\item 'Developing'\n",
       "\\item 'Developing'\n",
       "\\item 'Developing'\n",
       "\\item 'Developing'\n",
       "\\item 'Developing'\n",
       "\\item 'Developing'\n",
       "\\item 'Developing'\n",
       "\\item 'Developing'\n",
       "\\item 'Developing'\n",
       "\\item 'Developing'\n",
       "\\item 'Developing'\n",
       "\\item 'Developing'\n",
       "\\item 'Developing'\n",
       "\\item 'Developing'\n",
       "\\item 'Developing'\n",
       "\\item 'Developing'\n",
       "\\item 'Developing'\n",
       "\\item 'DEVELOPED'\n",
       "\\item NA\n",
       "\\item NA\n",
       "\\item 'Developing'\n",
       "\\item 'Developing'\n",
       "\\item 'Developing'\n",
       "\\item 'DEVELOPED'\n",
       "\\item 'Developing'\n",
       "\\item 'Developing'\n",
       "\\item 'Developing'\n",
       "\\item 'Developing'\n",
       "\\item 'Developing'\n",
       "\\item 'Developing'\n",
       "\\item 'Developing'\n",
       "\\item 'Developing'\n",
       "\\item 'Developing'\n",
       "\\item NA\n",
       "\\item 'DEVELOPED'\n",
       "\\item 'Developing'\n",
       "\\item 'Developing'\n",
       "\\item 'Developing'\n",
       "\\item 'Developing'\n",
       "\\item 'Developing'\n",
       "\\item 'Developing'\n",
       "\\item 'Developing'\n",
       "\\item 'Developing'\n",
       "\\item 'Developing'\n",
       "\\item 'Developing'\n",
       "\\item 'Developing'\n",
       "\\item 'DEVELOPED'\n",
       "\\item 'Developing'\n",
       "\\item 'DEVELOPED'\n",
       "\\item 'Developing'\n",
       "\\item 'Developing'\n",
       "\\item 'DEVELOPED'\n",
       "\\item 'Developing'\n",
       "\\item 'Developing'\n",
       "\\item NA\n",
       "\\item 'Developing'\n",
       "\\item 'DEVELOPED'\n",
       "\\item 'DEVELOPED'\n",
       "\\item NA\n",
       "\\item 'Developing'\n",
       "\\item 'Developing'\n",
       "\\item 'Developing'\n",
       "\\item 'Developing'\n",
       "\\item 'Developing'\n",
       "\\item 'Developing'\n",
       "\\item 'Developing'\n",
       "\\item 'Developing'\n",
       "\\item 'Developing'\n",
       "\\item 'Developing'\n",
       "\\item 'Developing'\n",
       "\\item 'Developing'\n",
       "\\item 'DEVELOPED'\n",
       "\\item 'DEVELOPED'\n",
       "\\item 'DEVELOPED'\n",
       "\\item 'Developing'\n",
       "\\item 'Developing'\n",
       "\\item 'Developing'\n",
       "\\item 'Developing'\n",
       "\\item NA\n",
       "\\item 'Developing'\n",
       "\\item 'Developing'\n",
       "\\item 'Developing'\n",
       "\\item 'Developing'\n",
       "\\end{enumerate*}\n"
      ],
      "text/markdown": [
       "1. 'Developing'\n",
       "2. 'Developing'\n",
       "3. 'Developing'\n",
       "4. 'Developing'\n",
       "5. 'Developing'\n",
       "6. 'Developing'\n",
       "7. NA\n",
       "8. 'DEVELOPED'\n",
       "9. 'DEVELOPED'\n",
       "10. 'Developing'\n",
       "11. 'DEVELOPED'\n",
       "12. NA\n",
       "13. 'Developing'\n",
       "14. NA\n",
       "15. 'Developing'\n",
       "16. 'DEVELOPED'\n",
       "17. 'Developing'\n",
       "18. 'Developing'\n",
       "19. 'Developing'\n",
       "20. 'Developing'\n",
       "21. 'Developing'\n",
       "22. 'Developing'\n",
       "23. 'Developing'\n",
       "24. NA\n",
       "25. 'Developing'\n",
       "26. 'Developing'\n",
       "27. 'Developing'\n",
       "28. 'Developing'\n",
       "29. 'Developing'\n",
       "30. 'DEVELOPED'\n",
       "31. 'Developing'\n",
       "32. 'Developing'\n",
       "33. 'Developing'\n",
       "34. 'Developing'\n",
       "35. 'Developing'\n",
       "36. 'Developing'\n",
       "37. 'Developing'\n",
       "38. 'Developing'\n",
       "39. 'Developing'\n",
       "40. 'Developing'\n",
       "41. 'Developing'\n",
       "42. 'Developing'\n",
       "43. NA\n",
       "44. 'Developing'\n",
       "45. 'Developing'\n",
       "46. 'DEVELOPED'\n",
       "47. NA\n",
       "48. 'Developing'\n",
       "49. 'Developing'\n",
       "50. 'Developing'\n",
       "51. 'Developing'\n",
       "52. 'Developing'\n",
       "53. 'Developing'\n",
       "54. 'Developing'\n",
       "55. 'Developing'\n",
       "56. 'Developing'\n",
       "57. 'DEVELOPED'\n",
       "58. 'DEVELOPED'\n",
       "59. NA\n",
       "60. 'Developing'\n",
       "61. 'Developing'\n",
       "62. 'Developing'\n",
       "63. 'DEVELOPED'\n",
       "64. 'Developing'\n",
       "65. 'DEVELOPED'\n",
       "66. NA\n",
       "67. 'Developing'\n",
       "68. 'Developing'\n",
       "69. 'Developing'\n",
       "70. 'Developing'\n",
       "71. NA\n",
       "72. 'Developing'\n",
       "73. 'Developing'\n",
       "74. 'DEVELOPED'\n",
       "75. 'Developing'\n",
       "76. 'DEVELOPED'\n",
       "77. 'Developing'\n",
       "78. 'Developing'\n",
       "79. NA\n",
       "80. 'Developing'\n",
       "81. 'DEVELOPED'\n",
       "82. 'DEVELOPED'\n",
       "83. 'DEVELOPED'\n",
       "84. 'Developing'\n",
       "85. 'DEVELOPED'\n",
       "86. 'Developing'\n",
       "87. 'Developing'\n",
       "88. 'Developing'\n",
       "89. 'Developing'\n",
       "90. 'DEVELOPED'\n",
       "91. 'DEVELOPED'\n",
       "92. 'Developing'\n",
       "93. 'Developing'\n",
       "94. 'Developing'\n",
       "95. 'Developing'\n",
       "96. 'Developing'\n",
       "97. 'Developing'\n",
       "98. NA\n",
       "99. 'Developing'\n",
       "100. 'DEVELOPED'\n",
       "101. 'DEVELOPED'\n",
       "102. 'Developing'\n",
       "103. 'Developing'\n",
       "104. 'Developing'\n",
       "105. 'Developing'\n",
       "106. 'Developing'\n",
       "107. 'Developing'\n",
       "108. 'Developing'\n",
       "109. 'Developing'\n",
       "110. 'Developing'\n",
       "111. 'Developing'\n",
       "112. 'Developing'\n",
       "113. 'Developing'\n",
       "114. 'Developing'\n",
       "115. 'Developing'\n",
       "116. 'Developing'\n",
       "117. 'Developing'\n",
       "118. 'Developing'\n",
       "119. 'Developing'\n",
       "120. 'DEVELOPED'\n",
       "121. NA\n",
       "122. NA\n",
       "123. 'Developing'\n",
       "124. 'Developing'\n",
       "125. 'Developing'\n",
       "126. 'DEVELOPED'\n",
       "127. 'Developing'\n",
       "128. 'Developing'\n",
       "129. 'Developing'\n",
       "130. 'Developing'\n",
       "131. 'Developing'\n",
       "132. 'Developing'\n",
       "133. 'Developing'\n",
       "134. 'Developing'\n",
       "135. 'Developing'\n",
       "136. NA\n",
       "137. 'DEVELOPED'\n",
       "138. 'Developing'\n",
       "139. 'Developing'\n",
       "140. 'Developing'\n",
       "141. 'Developing'\n",
       "142. 'Developing'\n",
       "143. 'Developing'\n",
       "144. 'Developing'\n",
       "145. 'Developing'\n",
       "146. 'Developing'\n",
       "147. 'Developing'\n",
       "148. 'Developing'\n",
       "149. 'DEVELOPED'\n",
       "150. 'Developing'\n",
       "151. 'DEVELOPED'\n",
       "152. 'Developing'\n",
       "153. 'Developing'\n",
       "154. 'DEVELOPED'\n",
       "155. 'Developing'\n",
       "156. 'Developing'\n",
       "157. NA\n",
       "158. 'Developing'\n",
       "159. 'DEVELOPED'\n",
       "160. 'DEVELOPED'\n",
       "161. NA\n",
       "162. 'Developing'\n",
       "163. 'Developing'\n",
       "164. 'Developing'\n",
       "165. 'Developing'\n",
       "166. 'Developing'\n",
       "167. 'Developing'\n",
       "168. 'Developing'\n",
       "169. 'Developing'\n",
       "170. 'Developing'\n",
       "171. 'Developing'\n",
       "172. 'Developing'\n",
       "173. 'Developing'\n",
       "174. 'DEVELOPED'\n",
       "175. 'DEVELOPED'\n",
       "176. 'DEVELOPED'\n",
       "177. 'Developing'\n",
       "178. 'Developing'\n",
       "179. 'Developing'\n",
       "180. 'Developing'\n",
       "181. NA\n",
       "182. 'Developing'\n",
       "183. 'Developing'\n",
       "184. 'Developing'\n",
       "185. 'Developing'\n",
       "\n",
       "\n"
      ],
      "text/plain": [
       "  [1] \"Developing\" \"Developing\" \"Developing\" \"Developing\" \"Developing\"\n",
       "  [6] \"Developing\" NA           \"DEVELOPED\"  \"DEVELOPED\"  \"Developing\"\n",
       " [11] \"DEVELOPED\"  NA           \"Developing\" NA           \"Developing\"\n",
       " [16] \"DEVELOPED\"  \"Developing\" \"Developing\" \"Developing\" \"Developing\"\n",
       " [21] \"Developing\" \"Developing\" \"Developing\" NA           \"Developing\"\n",
       " [26] \"Developing\" \"Developing\" \"Developing\" \"Developing\" \"DEVELOPED\" \n",
       " [31] \"Developing\" \"Developing\" \"Developing\" \"Developing\" \"Developing\"\n",
       " [36] \"Developing\" \"Developing\" \"Developing\" \"Developing\" \"Developing\"\n",
       " [41] \"Developing\" \"Developing\" NA           \"Developing\" \"Developing\"\n",
       " [46] \"DEVELOPED\"  NA           \"Developing\" \"Developing\" \"Developing\"\n",
       " [51] \"Developing\" \"Developing\" \"Developing\" \"Developing\" \"Developing\"\n",
       " [56] \"Developing\" \"DEVELOPED\"  \"DEVELOPED\"  NA           \"Developing\"\n",
       " [61] \"Developing\" \"Developing\" \"DEVELOPED\"  \"Developing\" \"DEVELOPED\" \n",
       " [66] NA           \"Developing\" \"Developing\" \"Developing\" \"Developing\"\n",
       " [71] NA           \"Developing\" \"Developing\" \"DEVELOPED\"  \"Developing\"\n",
       " [76] \"DEVELOPED\"  \"Developing\" \"Developing\" NA           \"Developing\"\n",
       " [81] \"DEVELOPED\"  \"DEVELOPED\"  \"DEVELOPED\"  \"Developing\" \"DEVELOPED\" \n",
       " [86] \"Developing\" \"Developing\" \"Developing\" \"Developing\" \"DEVELOPED\" \n",
       " [91] \"DEVELOPED\"  \"Developing\" \"Developing\" \"Developing\" \"Developing\"\n",
       " [96] \"Developing\" \"Developing\" NA           \"Developing\" \"DEVELOPED\" \n",
       "[101] \"DEVELOPED\"  \"Developing\" \"Developing\" \"Developing\" \"Developing\"\n",
       "[106] \"Developing\" \"Developing\" \"Developing\" \"Developing\" \"Developing\"\n",
       "[111] \"Developing\" \"Developing\" \"Developing\" \"Developing\" \"Developing\"\n",
       "[116] \"Developing\" \"Developing\" \"Developing\" \"Developing\" \"DEVELOPED\" \n",
       "[121] NA           NA           \"Developing\" \"Developing\" \"Developing\"\n",
       "[126] \"DEVELOPED\"  \"Developing\" \"Developing\" \"Developing\" \"Developing\"\n",
       "[131] \"Developing\" \"Developing\" \"Developing\" \"Developing\" \"Developing\"\n",
       "[136] NA           \"DEVELOPED\"  \"Developing\" \"Developing\" \"Developing\"\n",
       "[141] \"Developing\" \"Developing\" \"Developing\" \"Developing\" \"Developing\"\n",
       "[146] \"Developing\" \"Developing\" \"Developing\" \"DEVELOPED\"  \"Developing\"\n",
       "[151] \"DEVELOPED\"  \"Developing\" \"Developing\" \"DEVELOPED\"  \"Developing\"\n",
       "[156] \"Developing\" NA           \"Developing\" \"DEVELOPED\"  \"DEVELOPED\" \n",
       "[161] NA           \"Developing\" \"Developing\" \"Developing\" \"Developing\"\n",
       "[166] \"Developing\" \"Developing\" \"Developing\" \"Developing\" \"Developing\"\n",
       "[171] \"Developing\" \"Developing\" \"Developing\" \"DEVELOPED\"  \"DEVELOPED\" \n",
       "[176] \"DEVELOPED\"  \"Developing\" \"Developing\" \"Developing\" \"Developing\"\n",
       "[181] NA           \"Developing\" \"Developing\" \"Developing\" \"Developing\""
      ]
     },
     "metadata": {},
     "output_type": "display_data"
    }
   ],
   "source": [
    "case_when((df_2011$gdp / df_2011$population) >= 12000 ~ \"DEVELOPED\",\n",
    "         (df_2011$gdp / df_2011$population) <= 12000 ~ \"Developing\")"
   ]
  },
  {
   "cell_type": "markdown",
   "metadata": {},
   "source": [
    "Este resultado tiene 2 problemas:  \n",
    "1) Una lista como tal no es útil, es mejor si se asigna a una nueva variable de la tabla.  \n",
    "2) Hay casos que se escapan a las condiciones descritas (los NAs, por ejemplo).\n",
    "\n",
    "Para ello, vamos a guardar el resultado como una nueva variable  **STATUS** en la tabla, pero esta vez definiendo como developing countries a los que tengan un resultado > 5000, y indicando dos nuevas condiciones.  \n",
    "Primero, que los resultados que sean NA los marque como \"No info\".  \n",
    "Segundo que los casos que no caigan dentro de ninguna de las condiciones se les asigne la etiqueta \"other\" (en este caso serían las economías del tercer mundo). Indicamos esos \"casos restantes sin contemplar\" utilizando como último argumento _TRUE_\n",
    "\n",
    "\n",
    "**Nota:** las condiciones en case_when se aplican en el orden escrito, es decir, si un caso cumple la primera, ya no será considerado en las siguientes."
   ]
  },
  {
   "cell_type": "code",
   "execution_count": 30,
   "metadata": {},
   "outputs": [
    {
     "data": {
      "text/html": [
       "<table class=\"dataframe\">\n",
       "<caption>A data.frame: 6 × 10</caption>\n",
       "<thead>\n",
       "\t<tr><th></th><th scope=col>country</th><th scope=col>year</th><th scope=col>infant_mortality</th><th scope=col>life_expectancy</th><th scope=col>fertility</th><th scope=col>population</th><th scope=col>gdp</th><th scope=col>continent</th><th scope=col>region</th><th scope=col>STATUS</th></tr>\n",
       "\t<tr><th></th><th scope=col>&lt;fct&gt;</th><th scope=col>&lt;int&gt;</th><th scope=col>&lt;dbl&gt;</th><th scope=col>&lt;dbl&gt;</th><th scope=col>&lt;dbl&gt;</th><th scope=col>&lt;dbl&gt;</th><th scope=col>&lt;dbl&gt;</th><th scope=col>&lt;fct&gt;</th><th scope=col>&lt;fct&gt;</th><th scope=col>&lt;chr&gt;</th></tr>\n",
       "</thead>\n",
       "<tbody>\n",
       "\t<tr><th scope=row>1</th><td>Albania            </td><td>2011</td><td> 14.3</td><td>77.4</td><td>1.75</td><td> 2886010</td><td>  6321690864</td><td>Europe  </td><td>Southern Europe</td><td>Other     </td></tr>\n",
       "\t<tr><th scope=row>2</th><td>Algeria            </td><td>2011</td><td> 22.8</td><td>76.1</td><td>2.83</td><td>36717132</td><td> 81143448101</td><td>Africa  </td><td>Northern Africa</td><td>Other     </td></tr>\n",
       "\t<tr><th scope=row>3</th><td>Angola             </td><td>2011</td><td>106.8</td><td>58.1</td><td>6.10</td><td>21942296</td><td> 27013935821</td><td>Africa  </td><td>Middle Africa  </td><td>Other     </td></tr>\n",
       "\t<tr><th scope=row>4</th><td>Antigua and Barbuda</td><td>2011</td><td>  7.2</td><td>75.9</td><td>2.12</td><td>   88152</td><td>   801787943</td><td>Americas</td><td>Caribbean      </td><td>Developing</td></tr>\n",
       "\t<tr><th scope=row>5</th><td>Argentina          </td><td>2011</td><td> 12.7</td><td>76.0</td><td>2.20</td><td>41655616</td><td>472935255184</td><td>Americas</td><td>South America  </td><td>Developing</td></tr>\n",
       "\t<tr><th scope=row>6</th><td>Armenia            </td><td>2011</td><td> 15.3</td><td>73.5</td><td>1.50</td><td> 2967984</td><td>  4290990647</td><td>Asia    </td><td>Western Asia   </td><td>Other     </td></tr>\n",
       "</tbody>\n",
       "</table>\n"
      ],
      "text/latex": [
       "A data.frame: 6 × 10\n",
       "\\begin{tabular}{r|llllllllll}\n",
       "  & country & year & infant\\_mortality & life\\_expectancy & fertility & population & gdp & continent & region & STATUS\\\\\n",
       "  & <fct> & <int> & <dbl> & <dbl> & <dbl> & <dbl> & <dbl> & <fct> & <fct> & <chr>\\\\\n",
       "\\hline\n",
       "\t1 & Albania             & 2011 &  14.3 & 77.4 & 1.75 &  2886010 &   6321690864 & Europe   & Southern Europe & Other     \\\\\n",
       "\t2 & Algeria             & 2011 &  22.8 & 76.1 & 2.83 & 36717132 &  81143448101 & Africa   & Northern Africa & Other     \\\\\n",
       "\t3 & Angola              & 2011 & 106.8 & 58.1 & 6.10 & 21942296 &  27013935821 & Africa   & Middle Africa   & Other     \\\\\n",
       "\t4 & Antigua and Barbuda & 2011 &   7.2 & 75.9 & 2.12 &    88152 &    801787943 & Americas & Caribbean       & Developing\\\\\n",
       "\t5 & Argentina           & 2011 &  12.7 & 76.0 & 2.20 & 41655616 & 472935255184 & Americas & South America   & Developing\\\\\n",
       "\t6 & Armenia             & 2011 &  15.3 & 73.5 & 1.50 &  2967984 &   4290990647 & Asia     & Western Asia    & Other     \\\\\n",
       "\\end{tabular}\n"
      ],
      "text/markdown": [
       "\n",
       "A data.frame: 6 × 10\n",
       "\n",
       "| <!--/--> | country &lt;fct&gt; | year &lt;int&gt; | infant_mortality &lt;dbl&gt; | life_expectancy &lt;dbl&gt; | fertility &lt;dbl&gt; | population &lt;dbl&gt; | gdp &lt;dbl&gt; | continent &lt;fct&gt; | region &lt;fct&gt; | STATUS &lt;chr&gt; |\n",
       "|---|---|---|---|---|---|---|---|---|---|---|\n",
       "| 1 | Albania             | 2011 |  14.3 | 77.4 | 1.75 |  2886010 |   6321690864 | Europe   | Southern Europe | Other      |\n",
       "| 2 | Algeria             | 2011 |  22.8 | 76.1 | 2.83 | 36717132 |  81143448101 | Africa   | Northern Africa | Other      |\n",
       "| 3 | Angola              | 2011 | 106.8 | 58.1 | 6.10 | 21942296 |  27013935821 | Africa   | Middle Africa   | Other      |\n",
       "| 4 | Antigua and Barbuda | 2011 |   7.2 | 75.9 | 2.12 |    88152 |    801787943 | Americas | Caribbean       | Developing |\n",
       "| 5 | Argentina           | 2011 |  12.7 | 76.0 | 2.20 | 41655616 | 472935255184 | Americas | South America   | Developing |\n",
       "| 6 | Armenia             | 2011 |  15.3 | 73.5 | 1.50 |  2967984 |   4290990647 | Asia     | Western Asia    | Other      |\n",
       "\n"
      ],
      "text/plain": [
       "  country             year infant_mortality life_expectancy fertility\n",
       "1 Albania             2011  14.3            77.4            1.75     \n",
       "2 Algeria             2011  22.8            76.1            2.83     \n",
       "3 Angola              2011 106.8            58.1            6.10     \n",
       "4 Antigua and Barbuda 2011   7.2            75.9            2.12     \n",
       "5 Argentina           2011  12.7            76.0            2.20     \n",
       "6 Armenia             2011  15.3            73.5            1.50     \n",
       "  population gdp          continent region          STATUS    \n",
       "1  2886010     6321690864 Europe    Southern Europe Other     \n",
       "2 36717132    81143448101 Africa    Northern Africa Other     \n",
       "3 21942296    27013935821 Africa    Middle Africa   Other     \n",
       "4    88152      801787943 Americas  Caribbean       Developing\n",
       "5 41655616   472935255184 Americas  South America   Developing\n",
       "6  2967984     4290990647 Asia      Western Asia    Other     "
      ]
     },
     "metadata": {},
     "output_type": "display_data"
    },
    {
     "data": {
      "text/plain": [
       "\n",
       "     DEVELOPED     Developing No information          Other \n",
       "            31             29             17            108 "
      ]
     },
     "metadata": {},
     "output_type": "display_data"
    }
   ],
   "source": [
    "df_2011$STATUS <- case_when((df_2011$gdp / df_2011$population) >= 12000 ~ \"DEVELOPED\",\n",
    "                       (df_2011$gdp / df_2011$population) >= 5000 ~ \"Developing\",\n",
    "                        is.na(df_2011$gdp / df_2011$population) ~ \"No information\",\n",
    "                        TRUE ~ \"Other\")\n",
    "\n",
    "head(df_2011)\n",
    "table(df_2011$STATUS) #para ver un conteo de cuantos casos hay de cada tipo"
   ]
  },
  {
   "cell_type": "markdown",
   "metadata": {},
   "source": [
    "### Un poco de repaso...\n",
    "Teniendo las funciones principales, vamos a concatenar unas cuantas.\n",
    "\n",
    "Ejemplo: paises europeos con mayor PIB per capita en el año 2011  \n",
    "Para ello, en una sola linea continua, vamos a...\n",
    "- seleccionar solo nombre de pais, continente, PIB (GDP) y población\n",
    "- filtrar solo los que correspondan al año y la region\n",
    "- calcular la nueva columna con el valor de PIB per capita\n",
    "- sacar un ranking solo con las 10 con mayor valor de esa estadística (funcion top_n(), mezcla de sample_n() y arrange() )"
   ]
  },
  {
   "cell_type": "code",
   "execution_count": 17,
   "metadata": {
    "scrolled": false
   },
   "outputs": [
    {
     "data": {
      "text/html": [
       "<table class=\"dataframe\">\n",
       "<caption>A data.frame: 10 × 6</caption>\n",
       "<thead>\n",
       "\t<tr><th scope=col>country</th><th scope=col>year</th><th scope=col>population</th><th scope=col>gdp</th><th scope=col>continent</th><th scope=col>gdp_percap</th></tr>\n",
       "\t<tr><th scope=col>&lt;fct&gt;</th><th scope=col>&lt;int&gt;</th><th scope=col>&lt;dbl&gt;</th><th scope=col>&lt;dbl&gt;</th><th scope=col>&lt;fct&gt;</th><th scope=col>&lt;dbl&gt;</th></tr>\n",
       "</thead>\n",
       "<tbody>\n",
       "\t<tr><td>Austria       </td><td>2011</td><td> 8423559</td><td>2.309133e+11</td><td>Europe</td><td>27412.80</td></tr>\n",
       "\t<tr><td>Denmark       </td><td>2011</td><td> 5576577</td><td>1.710519e+11</td><td>Europe</td><td>30673.27</td></tr>\n",
       "\t<tr><td>Finland       </td><td>2011</td><td> 5395816</td><td>1.495734e+11</td><td>Europe</td><td>27720.26</td></tr>\n",
       "\t<tr><td>Iceland       </td><td>2011</td><td>  321030</td><td>1.110516e+10</td><td>Europe</td><td>34592.27</td></tr>\n",
       "\t<tr><td>Luxembourg    </td><td>2011</td><td>  519981</td><td>2.692859e+10</td><td>Europe</td><td>51787.64</td></tr>\n",
       "\t<tr><td>Netherlands   </td><td>2011</td><td>16689863</td><td>4.463622e+11</td><td>Europe</td><td>26744.51</td></tr>\n",
       "\t<tr><td>Norway        </td><td>2011</td><td> 4953945</td><td>1.982526e+11</td><td>Europe</td><td>40019.13</td></tr>\n",
       "\t<tr><td>Sweden        </td><td>2011</td><td> 9462352</td><td>3.167986e+11</td><td>Europe</td><td>33479.90</td></tr>\n",
       "\t<tr><td>Switzerland   </td><td>2011</td><td> 7925813</td><td>3.009384e+11</td><td>Europe</td><td>37969.41</td></tr>\n",
       "\t<tr><td>United Kingdom</td><td>2011</td><td>63164949</td><td>1.756002e+12</td><td>Europe</td><td>27800.26</td></tr>\n",
       "</tbody>\n",
       "</table>\n"
      ],
      "text/latex": [
       "A data.frame: 10 × 6\n",
       "\\begin{tabular}{llllll}\n",
       " country & year & population & gdp & continent & gdp\\_percap\\\\\n",
       " <fct> & <int> & <dbl> & <dbl> & <fct> & <dbl>\\\\\n",
       "\\hline\n",
       "\t Austria        & 2011 &  8423559 & 2.309133e+11 & Europe & 27412.80\\\\\n",
       "\t Denmark        & 2011 &  5576577 & 1.710519e+11 & Europe & 30673.27\\\\\n",
       "\t Finland        & 2011 &  5395816 & 1.495734e+11 & Europe & 27720.26\\\\\n",
       "\t Iceland        & 2011 &   321030 & 1.110516e+10 & Europe & 34592.27\\\\\n",
       "\t Luxembourg     & 2011 &   519981 & 2.692859e+10 & Europe & 51787.64\\\\\n",
       "\t Netherlands    & 2011 & 16689863 & 4.463622e+11 & Europe & 26744.51\\\\\n",
       "\t Norway         & 2011 &  4953945 & 1.982526e+11 & Europe & 40019.13\\\\\n",
       "\t Sweden         & 2011 &  9462352 & 3.167986e+11 & Europe & 33479.90\\\\\n",
       "\t Switzerland    & 2011 &  7925813 & 3.009384e+11 & Europe & 37969.41\\\\\n",
       "\t United Kingdom & 2011 & 63164949 & 1.756002e+12 & Europe & 27800.26\\\\\n",
       "\\end{tabular}\n"
      ],
      "text/markdown": [
       "\n",
       "A data.frame: 10 × 6\n",
       "\n",
       "| country &lt;fct&gt; | year &lt;int&gt; | population &lt;dbl&gt; | gdp &lt;dbl&gt; | continent &lt;fct&gt; | gdp_percap &lt;dbl&gt; |\n",
       "|---|---|---|---|---|---|\n",
       "| Austria        | 2011 |  8423559 | 2.309133e+11 | Europe | 27412.80 |\n",
       "| Denmark        | 2011 |  5576577 | 1.710519e+11 | Europe | 30673.27 |\n",
       "| Finland        | 2011 |  5395816 | 1.495734e+11 | Europe | 27720.26 |\n",
       "| Iceland        | 2011 |   321030 | 1.110516e+10 | Europe | 34592.27 |\n",
       "| Luxembourg     | 2011 |   519981 | 2.692859e+10 | Europe | 51787.64 |\n",
       "| Netherlands    | 2011 | 16689863 | 4.463622e+11 | Europe | 26744.51 |\n",
       "| Norway         | 2011 |  4953945 | 1.982526e+11 | Europe | 40019.13 |\n",
       "| Sweden         | 2011 |  9462352 | 3.167986e+11 | Europe | 33479.90 |\n",
       "| Switzerland    | 2011 |  7925813 | 3.009384e+11 | Europe | 37969.41 |\n",
       "| United Kingdom | 2011 | 63164949 | 1.756002e+12 | Europe | 27800.26 |\n",
       "\n"
      ],
      "text/plain": [
       "   country        year population gdp          continent gdp_percap\n",
       "1  Austria        2011  8423559   2.309133e+11 Europe    27412.80  \n",
       "2  Denmark        2011  5576577   1.710519e+11 Europe    30673.27  \n",
       "3  Finland        2011  5395816   1.495734e+11 Europe    27720.26  \n",
       "4  Iceland        2011   321030   1.110516e+10 Europe    34592.27  \n",
       "5  Luxembourg     2011   519981   2.692859e+10 Europe    51787.64  \n",
       "6  Netherlands    2011 16689863   4.463622e+11 Europe    26744.51  \n",
       "7  Norway         2011  4953945   1.982526e+11 Europe    40019.13  \n",
       "8  Sweden         2011  9462352   3.167986e+11 Europe    33479.90  \n",
       "9  Switzerland    2011  7925813   3.009384e+11 Europe    37969.41  \n",
       "10 United Kingdom 2011 63164949   1.756002e+12 Europe    27800.26  "
      ]
     },
     "metadata": {},
     "output_type": "display_data"
    }
   ],
   "source": [
    "df2 <- df %>% select(c(country, year, population, gdp, continent)) %>% #seleccion de columnas\n",
    "             filter(continent == 'Europe' & year == 2011) %>% #filtrar casos\n",
    "             mutate(gdp_percap = gdp/population) %>% #crear nueva columna\n",
    "             top_n(10, gdp_percap) #top 10 ordenado por gdp_percap\n",
    "df2"
   ]
  },
  {
   "cell_type": "markdown",
   "metadata": {},
   "source": [
    "## Group by (agrupar)"
   ]
  },
  {
   "cell_type": "markdown",
   "metadata": {},
   "source": [
    "group_by permite agrupar las observaciones en funcion de una variable de interés, y calcular estadísticas en cada grupo (media, numero de casos, etc...)\n",
    "\n",
    "Para ello, el procedimiento cuenta de 2 pasos: \n",
    "\n",
    "1) generar una tabla agrupada con la funcion `group_by()`, que en apariencia será igual que la original (pero ya tiene el criterio de agrupamiento como una propiedad \"oculta\") \n",
    "\n",
    "2) extraer un resumen o tabla agrupada con la funcion `summarise()`, donde se aplica una **función de agregación** que nos devolverá una variable \"resumen\" con la información que queramos calculada para cada grupo"
   ]
  },
  {
   "cell_type": "code",
   "execution_count": 18,
   "metadata": {},
   "outputs": [
    {
     "data": {
      "text/html": [
       "<table class=\"dataframe\">\n",
       "<caption>A tibble: 57 × 2</caption>\n",
       "<thead>\n",
       "\t<tr><th scope=col>year</th><th scope=col>Avg life expectancy</th></tr>\n",
       "\t<tr><th scope=col>&lt;int&gt;</th><th scope=col>&lt;dbl&gt;</th></tr>\n",
       "</thead>\n",
       "<tbody>\n",
       "\t<tr><td>1960</td><td>54.89211</td></tr>\n",
       "\t<tr><td>1961</td><td>55.39892</td></tr>\n",
       "\t<tr><td>1962</td><td>55.84605</td></tr>\n",
       "\t<tr><td>1963</td><td>56.36076</td></tr>\n",
       "\t<tr><td>1964</td><td>56.87789</td></tr>\n",
       "\t<tr><td>1965</td><td>57.25757</td></tr>\n",
       "\t<tr><td>1966</td><td>57.68438</td></tr>\n",
       "\t<tr><td>1967</td><td>58.12005</td></tr>\n",
       "\t<tr><td>1968</td><td>58.47870</td></tr>\n",
       "\t<tr><td>1969</td><td>58.83022</td></tr>\n",
       "\t<tr><td>1970</td><td>59.30989</td></tr>\n",
       "\t<tr><td>1971</td><td>59.74751</td></tr>\n",
       "\t<tr><td>1972</td><td>60.16843</td></tr>\n",
       "\t<tr><td>1973</td><td>60.54216</td></tr>\n",
       "\t<tr><td>1974</td><td>60.92324</td></tr>\n",
       "\t<tr><td>1975</td><td>61.24011</td></tr>\n",
       "\t<tr><td>1976</td><td>61.64832</td></tr>\n",
       "\t<tr><td>1977</td><td>62.06670</td></tr>\n",
       "\t<tr><td>1978</td><td>62.45070</td></tr>\n",
       "\t<tr><td>1979</td><td>62.86130</td></tr>\n",
       "\t<tr><td>1980</td><td>63.25016</td></tr>\n",
       "\t<tr><td>1981</td><td>63.69200</td></tr>\n",
       "\t<tr><td>1982</td><td>64.11946</td></tr>\n",
       "\t<tr><td>1983</td><td>64.48027</td></tr>\n",
       "\t<tr><td>1984</td><td>64.84486</td></tr>\n",
       "\t<tr><td>1985</td><td>65.15600</td></tr>\n",
       "\t<tr><td>1986</td><td>65.57362</td></tr>\n",
       "\t<tr><td>1987</td><td>65.89103</td></tr>\n",
       "\t<tr><td>1988</td><td>66.16151</td></tr>\n",
       "\t<tr><td>1989</td><td>66.41065</td></tr>\n",
       "\t<tr><td>1990</td><td>66.62351</td></tr>\n",
       "\t<tr><td>1991</td><td>66.67573</td></tr>\n",
       "\t<tr><td>1992</td><td>66.85000</td></tr>\n",
       "\t<tr><td>1993</td><td>66.88973</td></tr>\n",
       "\t<tr><td>1994</td><td>66.76676</td></tr>\n",
       "\t<tr><td>1995</td><td>67.03400</td></tr>\n",
       "\t<tr><td>1996</td><td>67.22524</td></tr>\n",
       "\t<tr><td>1997</td><td>67.39443</td></tr>\n",
       "\t<tr><td>1998</td><td>67.49449</td></tr>\n",
       "\t<tr><td>1999</td><td>67.66816</td></tr>\n",
       "\t<tr><td>2000</td><td>67.79049</td></tr>\n",
       "\t<tr><td>2001</td><td>68.15989</td></tr>\n",
       "\t<tr><td>2002</td><td>68.36935</td></tr>\n",
       "\t<tr><td>2003</td><td>68.60957</td></tr>\n",
       "\t<tr><td>2004</td><td>68.87292</td></tr>\n",
       "\t<tr><td>2005</td><td>69.23005</td></tr>\n",
       "\t<tr><td>2006</td><td>69.58000</td></tr>\n",
       "\t<tr><td>2007</td><td>69.92968</td></tr>\n",
       "\t<tr><td>2008</td><td>70.28027</td></tr>\n",
       "\t<tr><td>2009</td><td>70.59227</td></tr>\n",
       "\t<tr><td>2010</td><td>70.79697</td></tr>\n",
       "\t<tr><td>2011</td><td>71.17730</td></tr>\n",
       "\t<tr><td>2012</td><td>71.53000</td></tr>\n",
       "\t<tr><td>2013</td><td>71.79032</td></tr>\n",
       "\t<tr><td>2014</td><td>71.96459</td></tr>\n",
       "\t<tr><td>2015</td><td>72.21459</td></tr>\n",
       "\t<tr><td>2016</td><td>72.46757</td></tr>\n",
       "</tbody>\n",
       "</table>\n"
      ],
      "text/latex": [
       "A tibble: 57 × 2\n",
       "\\begin{tabular}{ll}\n",
       " year & Avg life expectancy\\\\\n",
       " <int> & <dbl>\\\\\n",
       "\\hline\n",
       "\t 1960 & 54.89211\\\\\n",
       "\t 1961 & 55.39892\\\\\n",
       "\t 1962 & 55.84605\\\\\n",
       "\t 1963 & 56.36076\\\\\n",
       "\t 1964 & 56.87789\\\\\n",
       "\t 1965 & 57.25757\\\\\n",
       "\t 1966 & 57.68438\\\\\n",
       "\t 1967 & 58.12005\\\\\n",
       "\t 1968 & 58.47870\\\\\n",
       "\t 1969 & 58.83022\\\\\n",
       "\t 1970 & 59.30989\\\\\n",
       "\t 1971 & 59.74751\\\\\n",
       "\t 1972 & 60.16843\\\\\n",
       "\t 1973 & 60.54216\\\\\n",
       "\t 1974 & 60.92324\\\\\n",
       "\t 1975 & 61.24011\\\\\n",
       "\t 1976 & 61.64832\\\\\n",
       "\t 1977 & 62.06670\\\\\n",
       "\t 1978 & 62.45070\\\\\n",
       "\t 1979 & 62.86130\\\\\n",
       "\t 1980 & 63.25016\\\\\n",
       "\t 1981 & 63.69200\\\\\n",
       "\t 1982 & 64.11946\\\\\n",
       "\t 1983 & 64.48027\\\\\n",
       "\t 1984 & 64.84486\\\\\n",
       "\t 1985 & 65.15600\\\\\n",
       "\t 1986 & 65.57362\\\\\n",
       "\t 1987 & 65.89103\\\\\n",
       "\t 1988 & 66.16151\\\\\n",
       "\t 1989 & 66.41065\\\\\n",
       "\t 1990 & 66.62351\\\\\n",
       "\t 1991 & 66.67573\\\\\n",
       "\t 1992 & 66.85000\\\\\n",
       "\t 1993 & 66.88973\\\\\n",
       "\t 1994 & 66.76676\\\\\n",
       "\t 1995 & 67.03400\\\\\n",
       "\t 1996 & 67.22524\\\\\n",
       "\t 1997 & 67.39443\\\\\n",
       "\t 1998 & 67.49449\\\\\n",
       "\t 1999 & 67.66816\\\\\n",
       "\t 2000 & 67.79049\\\\\n",
       "\t 2001 & 68.15989\\\\\n",
       "\t 2002 & 68.36935\\\\\n",
       "\t 2003 & 68.60957\\\\\n",
       "\t 2004 & 68.87292\\\\\n",
       "\t 2005 & 69.23005\\\\\n",
       "\t 2006 & 69.58000\\\\\n",
       "\t 2007 & 69.92968\\\\\n",
       "\t 2008 & 70.28027\\\\\n",
       "\t 2009 & 70.59227\\\\\n",
       "\t 2010 & 70.79697\\\\\n",
       "\t 2011 & 71.17730\\\\\n",
       "\t 2012 & 71.53000\\\\\n",
       "\t 2013 & 71.79032\\\\\n",
       "\t 2014 & 71.96459\\\\\n",
       "\t 2015 & 72.21459\\\\\n",
       "\t 2016 & 72.46757\\\\\n",
       "\\end{tabular}\n"
      ],
      "text/markdown": [
       "\n",
       "A tibble: 57 × 2\n",
       "\n",
       "| year &lt;int&gt; | Avg life expectancy &lt;dbl&gt; |\n",
       "|---|---|\n",
       "| 1960 | 54.89211 |\n",
       "| 1961 | 55.39892 |\n",
       "| 1962 | 55.84605 |\n",
       "| 1963 | 56.36076 |\n",
       "| 1964 | 56.87789 |\n",
       "| 1965 | 57.25757 |\n",
       "| 1966 | 57.68438 |\n",
       "| 1967 | 58.12005 |\n",
       "| 1968 | 58.47870 |\n",
       "| 1969 | 58.83022 |\n",
       "| 1970 | 59.30989 |\n",
       "| 1971 | 59.74751 |\n",
       "| 1972 | 60.16843 |\n",
       "| 1973 | 60.54216 |\n",
       "| 1974 | 60.92324 |\n",
       "| 1975 | 61.24011 |\n",
       "| 1976 | 61.64832 |\n",
       "| 1977 | 62.06670 |\n",
       "| 1978 | 62.45070 |\n",
       "| 1979 | 62.86130 |\n",
       "| 1980 | 63.25016 |\n",
       "| 1981 | 63.69200 |\n",
       "| 1982 | 64.11946 |\n",
       "| 1983 | 64.48027 |\n",
       "| 1984 | 64.84486 |\n",
       "| 1985 | 65.15600 |\n",
       "| 1986 | 65.57362 |\n",
       "| 1987 | 65.89103 |\n",
       "| 1988 | 66.16151 |\n",
       "| 1989 | 66.41065 |\n",
       "| 1990 | 66.62351 |\n",
       "| 1991 | 66.67573 |\n",
       "| 1992 | 66.85000 |\n",
       "| 1993 | 66.88973 |\n",
       "| 1994 | 66.76676 |\n",
       "| 1995 | 67.03400 |\n",
       "| 1996 | 67.22524 |\n",
       "| 1997 | 67.39443 |\n",
       "| 1998 | 67.49449 |\n",
       "| 1999 | 67.66816 |\n",
       "| 2000 | 67.79049 |\n",
       "| 2001 | 68.15989 |\n",
       "| 2002 | 68.36935 |\n",
       "| 2003 | 68.60957 |\n",
       "| 2004 | 68.87292 |\n",
       "| 2005 | 69.23005 |\n",
       "| 2006 | 69.58000 |\n",
       "| 2007 | 69.92968 |\n",
       "| 2008 | 70.28027 |\n",
       "| 2009 | 70.59227 |\n",
       "| 2010 | 70.79697 |\n",
       "| 2011 | 71.17730 |\n",
       "| 2012 | 71.53000 |\n",
       "| 2013 | 71.79032 |\n",
       "| 2014 | 71.96459 |\n",
       "| 2015 | 72.21459 |\n",
       "| 2016 | 72.46757 |\n",
       "\n"
      ],
      "text/plain": [
       "   year Avg life expectancy\n",
       "1  1960 54.89211           \n",
       "2  1961 55.39892           \n",
       "3  1962 55.84605           \n",
       "4  1963 56.36076           \n",
       "5  1964 56.87789           \n",
       "6  1965 57.25757           \n",
       "7  1966 57.68438           \n",
       "8  1967 58.12005           \n",
       "9  1968 58.47870           \n",
       "10 1969 58.83022           \n",
       "11 1970 59.30989           \n",
       "12 1971 59.74751           \n",
       "13 1972 60.16843           \n",
       "14 1973 60.54216           \n",
       "15 1974 60.92324           \n",
       "16 1975 61.24011           \n",
       "17 1976 61.64832           \n",
       "18 1977 62.06670           \n",
       "19 1978 62.45070           \n",
       "20 1979 62.86130           \n",
       "21 1980 63.25016           \n",
       "22 1981 63.69200           \n",
       "23 1982 64.11946           \n",
       "24 1983 64.48027           \n",
       "25 1984 64.84486           \n",
       "26 1985 65.15600           \n",
       "27 1986 65.57362           \n",
       "28 1987 65.89103           \n",
       "29 1988 66.16151           \n",
       "30 1989 66.41065           \n",
       "31 1990 66.62351           \n",
       "32 1991 66.67573           \n",
       "33 1992 66.85000           \n",
       "34 1993 66.88973           \n",
       "35 1994 66.76676           \n",
       "36 1995 67.03400           \n",
       "37 1996 67.22524           \n",
       "38 1997 67.39443           \n",
       "39 1998 67.49449           \n",
       "40 1999 67.66816           \n",
       "41 2000 67.79049           \n",
       "42 2001 68.15989           \n",
       "43 2002 68.36935           \n",
       "44 2003 68.60957           \n",
       "45 2004 68.87292           \n",
       "46 2005 69.23005           \n",
       "47 2006 69.58000           \n",
       "48 2007 69.92968           \n",
       "49 2008 70.28027           \n",
       "50 2009 70.59227           \n",
       "51 2010 70.79697           \n",
       "52 2011 71.17730           \n",
       "53 2012 71.53000           \n",
       "54 2013 71.79032           \n",
       "55 2014 71.96459           \n",
       "56 2015 72.21459           \n",
       "57 2016 72.46757           "
      ]
     },
     "metadata": {},
     "output_type": "display_data"
    }
   ],
   "source": [
    "#Agrupar los datos por cada año\n",
    "#resumir la tabla al promedio de esperanza de vida en gada grupo (año)\n",
    "df %>% group_by(year) %>% \n",
    "    summarise(\"Avg life expectancy\" = mean(life_expectancy))"
   ]
  },
  {
   "cell_type": "code",
   "execution_count": 25,
   "metadata": {},
   "outputs": [
    {
     "data": {
      "text/html": [
       "<table class=\"dataframe\">\n",
       "<caption>A tibble: 10 × 2</caption>\n",
       "<thead>\n",
       "\t<tr><th scope=col>country</th><th scope=col>Mean GDP</th></tr>\n",
       "\t<tr><th scope=col>&lt;fct&gt;</th><th scope=col>&lt;dbl&gt;</th></tr>\n",
       "</thead>\n",
       "<tbody>\n",
       "\t<tr><td>Albania               </td><td>  3720794204</td></tr>\n",
       "\t<tr><td>Austria               </td><td>136429756535</td></tr>\n",
       "\t<tr><td>Belarus               </td><td> 15948205130</td></tr>\n",
       "\t<tr><td>Belgium               </td><td>169790462909</td></tr>\n",
       "\t<tr><td>Bosnia and Herzegovina</td><td>  5884484391</td></tr>\n",
       "\t<tr><td>Bulgaria              </td><td> 14527469868</td></tr>\n",
       "\t<tr><td>Croatia               </td><td> 23264163380</td></tr>\n",
       "\t<tr><td>Czech Republic        </td><td> 63891609013</td></tr>\n",
       "\t<tr><td>Denmark               </td><td>116892788898</td></tr>\n",
       "\t<tr><td>Estonia               </td><td>  6826465315</td></tr>\n",
       "</tbody>\n",
       "</table>\n"
      ],
      "text/latex": [
       "A tibble: 10 × 2\n",
       "\\begin{tabular}{ll}\n",
       " country & Mean GDP\\\\\n",
       " <fct> & <dbl>\\\\\n",
       "\\hline\n",
       "\t Albania                &   3720794204\\\\\n",
       "\t Austria                & 136429756535\\\\\n",
       "\t Belarus                &  15948205130\\\\\n",
       "\t Belgium                & 169790462909\\\\\n",
       "\t Bosnia and Herzegovina &   5884484391\\\\\n",
       "\t Bulgaria               &  14527469868\\\\\n",
       "\t Croatia                &  23264163380\\\\\n",
       "\t Czech Republic         &  63891609013\\\\\n",
       "\t Denmark                & 116892788898\\\\\n",
       "\t Estonia                &   6826465315\\\\\n",
       "\\end{tabular}\n"
      ],
      "text/markdown": [
       "\n",
       "A tibble: 10 × 2\n",
       "\n",
       "| country &lt;fct&gt; | Mean GDP &lt;dbl&gt; |\n",
       "|---|---|\n",
       "| Albania                |   3720794204 |\n",
       "| Austria                | 136429756535 |\n",
       "| Belarus                |  15948205130 |\n",
       "| Belgium                | 169790462909 |\n",
       "| Bosnia and Herzegovina |   5884484391 |\n",
       "| Bulgaria               |  14527469868 |\n",
       "| Croatia                |  23264163380 |\n",
       "| Czech Republic         |  63891609013 |\n",
       "| Denmark                | 116892788898 |\n",
       "| Estonia                |   6826465315 |\n",
       "\n"
      ],
      "text/plain": [
       "   country                Mean GDP    \n",
       "1  Albania                  3720794204\n",
       "2  Austria                136429756535\n",
       "3  Belarus                 15948205130\n",
       "4  Belgium                169790462909\n",
       "5  Bosnia and Herzegovina   5884484391\n",
       "6  Bulgaria                14527469868\n",
       "7  Croatia                 23264163380\n",
       "8  Czech Republic          63891609013\n",
       "9  Denmark                116892788898\n",
       "10 Estonia                  6826465315"
      ]
     },
     "metadata": {},
     "output_type": "display_data"
    }
   ],
   "source": [
    "#Seleccionar solo los paises europeos\n",
    "#agrupar los datos de todo el periodo por cada pais\n",
    "#y crear una tabla resumiendo el promedio de PIB en cada pais para todos los años (sin contar NAs)\n",
    "\n",
    "df %>% filter(continent == 'Europe') %>%\n",
    "    group_by(country) %>%\n",
    "    summarise('Mean GDP' = mean(gdp, na.rm = TRUE)) %>% \n",
    "    head(10)"
   ]
  },
  {
   "cell_type": "markdown",
   "metadata": {},
   "source": [
    "#### Summarise_each"
   ]
  },
  {
   "cell_type": "markdown",
   "metadata": {},
   "source": [
    "### Joins (uniones de tablas)"
   ]
  },
  {
   "cell_type": "markdown",
   "metadata": {},
   "source": [
    "Las funciones de joins se utilizan para combinar datos de dos tablas distintas en una sola tabla, siempre y cuando ambas tablas compartan una columna con información equivalente que permita emparejar casos. Los joins son especialmente utiles en lenguajes de manejo de bases de datos (como SQL) para recopilar información que está repartida entre varias tablas distintas con algún sistema de vinculación.  \n",
    "\n",
    "Los 4 tipos de joins más comunes son:  \n",
    "\n",
    "- **Inner join:** la tabla resultante contiene información solo de los casos que aparezcan en ambas tablas.  \n",
    "- **Full join:** se combinan todos los registros de las dos tablas. Los registros de una tabla que no aparezcan en la otra tendrán NAs en las variables correspondientes a esa otra tabla.  \n",
    "- **Left/Right join:** a los registros de una de las tablas se le añade la información que tengan asociada en la otra tabla, o NAs si no aparecen.  \n",
    "\n",
    "![types of joins](https://www.educative.io/cdn-cgi/image/f=auto,fit=contain,w=600/api/page/4815761290297344/image/download/5643241383264256)"
   ]
  },
  {
   "cell_type": "markdown",
   "metadata": {},
   "source": [
    "Como segundo dataset, vamos a utilizar una tabla con datos de índice de felicidad ([World Happines Index](https://en.wikipedia.org/wiki/World_Happiness_Report)) para periodo 2010-2012 obtenidos de [este enlace](https://photius.com/rankings/happiness_country_rankings_2012.html).\n",
    "\n",
    "Nota: para abrir la tabla se puede usar la función `read.csv2()` (porque el separador es \";\") de R base, o bien como en este caso usar del paquete `readr` (tambien en Tidyverse) la función `read_delim()` indicando el delimitador "
   ]
  },
  {
   "cell_type": "code",
   "execution_count": 70,
   "metadata": {},
   "outputs": [
    {
     "data": {
      "text/html": [
       "<table class=\"dataframe\">\n",
       "<caption>A tibble: 10 × 3</caption>\n",
       "<thead>\n",
       "\t<tr><th scope=col>happiness_ranking</th><th scope=col>country</th><th scope=col>happiness_score</th></tr>\n",
       "\t<tr><th scope=col>&lt;dbl&gt;</th><th scope=col>&lt;chr&gt;</th><th scope=col>&lt;dbl&gt;</th></tr>\n",
       "</thead>\n",
       "<tbody>\n",
       "\t<tr><td> 1</td><td>Denmark    </td><td>7.693</td></tr>\n",
       "\t<tr><td> 2</td><td>Norway     </td><td>7.655</td></tr>\n",
       "\t<tr><td> 3</td><td>Switzerland</td><td>7.650</td></tr>\n",
       "\t<tr><td> 4</td><td>Netherlands</td><td>7.512</td></tr>\n",
       "\t<tr><td> 5</td><td>Sweden     </td><td>7.480</td></tr>\n",
       "\t<tr><td> 6</td><td>Canada     </td><td>7.477</td></tr>\n",
       "\t<tr><td> 7</td><td>Finland    </td><td>7.389</td></tr>\n",
       "\t<tr><td> 8</td><td>Austria    </td><td>7.369</td></tr>\n",
       "\t<tr><td> 9</td><td>Iceland    </td><td>7.355</td></tr>\n",
       "\t<tr><td>10</td><td>Australia  </td><td>7.350</td></tr>\n",
       "</tbody>\n",
       "</table>\n"
      ],
      "text/latex": [
       "A tibble: 10 × 3\n",
       "\\begin{tabular}{lll}\n",
       " happiness\\_ranking & country & happiness\\_score\\\\\n",
       " <dbl> & <chr> & <dbl>\\\\\n",
       "\\hline\n",
       "\t  1 & Denmark     & 7.693\\\\\n",
       "\t  2 & Norway      & 7.655\\\\\n",
       "\t  3 & Switzerland & 7.650\\\\\n",
       "\t  4 & Netherlands & 7.512\\\\\n",
       "\t  5 & Sweden      & 7.480\\\\\n",
       "\t  6 & Canada      & 7.477\\\\\n",
       "\t  7 & Finland     & 7.389\\\\\n",
       "\t  8 & Austria     & 7.369\\\\\n",
       "\t  9 & Iceland     & 7.355\\\\\n",
       "\t 10 & Australia   & 7.350\\\\\n",
       "\\end{tabular}\n"
      ],
      "text/markdown": [
       "\n",
       "A tibble: 10 × 3\n",
       "\n",
       "| happiness_ranking &lt;dbl&gt; | country &lt;chr&gt; | happiness_score &lt;dbl&gt; |\n",
       "|---|---|---|\n",
       "|  1 | Denmark     | 7.693 |\n",
       "|  2 | Norway      | 7.655 |\n",
       "|  3 | Switzerland | 7.650 |\n",
       "|  4 | Netherlands | 7.512 |\n",
       "|  5 | Sweden      | 7.480 |\n",
       "|  6 | Canada      | 7.477 |\n",
       "|  7 | Finland     | 7.389 |\n",
       "|  8 | Austria     | 7.369 |\n",
       "|  9 | Iceland     | 7.355 |\n",
       "| 10 | Australia   | 7.350 |\n",
       "\n"
      ],
      "text/plain": [
       "   happiness_ranking country     happiness_score\n",
       "1   1                Denmark     7.693          \n",
       "2   2                Norway      7.655          \n",
       "3   3                Switzerland 7.650          \n",
       "4   4                Netherlands 7.512          \n",
       "5   5                Sweden      7.480          \n",
       "6   6                Canada      7.477          \n",
       "7   7                Finland     7.389          \n",
       "8   8                Austria     7.369          \n",
       "9   9                Iceland     7.355          \n",
       "10 10                Australia   7.350          "
      ]
     },
     "metadata": {},
     "output_type": "display_data"
    }
   ],
   "source": [
    "happiness_df <- read_delim(\"https://raw.githubusercontent.com/AngelArcones/R_for_friends/main/Tutoriales/Datasets/happiness_index.csv\",\n",
    "                 delim = \";\", col_types = cols())\n",
    "head(happiness_df, 10)"
   ]
  },
  {
   "cell_type": "markdown",
   "metadata": {},
   "source": [
    "**Pequeño bonus track**  \n",
    "Para comprobar si los paises de esta nueva tabla se puede usar la siguiente combinación (todo con comandos de R base).  \n",
    "Primero, saber cuantos paises tiene la tabla `happiness_df`.  \n",
    "Segundo, sacar con `%in%` una lista de booleanos (TRUE / FALSE) según si cada país de esta tabla aparece en la original, y obtener la suma del total de la lista."
   ]
  },
  {
   "cell_type": "code",
   "execution_count": 71,
   "metadata": {},
   "outputs": [
    {
     "data": {
      "text/html": [
       "156"
      ],
      "text/latex": [
       "156"
      ],
      "text/markdown": [
       "156"
      ],
      "text/plain": [
       "[1] 156"
      ]
     },
     "metadata": {},
     "output_type": "display_data"
    }
   ],
   "source": [
    "length(happiness_df$country)"
   ]
  },
  {
   "cell_type": "code",
   "execution_count": 72,
   "metadata": {
    "scrolled": false
   },
   "outputs": [
    {
     "data": {
      "text/html": [
       "142"
      ],
      "text/latex": [
       "142"
      ],
      "text/markdown": [
       "142"
      ],
      "text/plain": [
       "[1] 142"
      ]
     },
     "metadata": {},
     "output_type": "display_data"
    }
   ],
   "source": [
    "sum(happiness_df$country %in% df$country)"
   ]
  },
  {
   "cell_type": "markdown",
   "metadata": {},
   "source": [
    "Esto funciona porque por defecto, para R (y otros lenguajes), TRUE = 1 y FALSE = 0"
   ]
  },
  {
   "cell_type": "code",
   "execution_count": 13,
   "metadata": {},
   "outputs": [
    {
     "data": {
      "text/html": [
       "2"
      ],
      "text/latex": [
       "2"
      ],
      "text/markdown": [
       "2"
      ],
      "text/plain": [
       "[1] 2"
      ]
     },
     "metadata": {},
     "output_type": "display_data"
    }
   ],
   "source": [
    "TRUE + TRUE"
   ]
  },
  {
   "cell_type": "code",
   "execution_count": 16,
   "metadata": {},
   "outputs": [
    {
     "data": {
      "text/html": [
       "0"
      ],
      "text/latex": [
       "0"
      ],
      "text/markdown": [
       "0"
      ],
      "text/plain": [
       "[1] 0"
      ]
     },
     "metadata": {},
     "output_type": "display_data"
    }
   ],
   "source": [
    "FALSE + FALSE"
   ]
  },
  {
   "cell_type": "code",
   "execution_count": 14,
   "metadata": {},
   "outputs": [
    {
     "data": {
      "text/html": [
       "2"
      ],
      "text/latex": [
       "2"
      ],
      "text/markdown": [
       "2"
      ],
      "text/plain": [
       "[1] 2"
      ]
     },
     "metadata": {},
     "output_type": "display_data"
    }
   ],
   "source": [
    "1 + TRUE"
   ]
  },
  {
   "cell_type": "code",
   "execution_count": 15,
   "metadata": {},
   "outputs": [
    {
     "data": {
      "text/html": [
       "3"
      ],
      "text/latex": [
       "3"
      ],
      "text/markdown": [
       "3"
      ],
      "text/plain": [
       "[1] 3"
      ]
     },
     "metadata": {},
     "output_type": "display_data"
    }
   ],
   "source": [
    "sum(c(TRUE, TRUE, FALSE, TRUE, FALSE))"
   ]
  },
  {
   "cell_type": "markdown",
   "metadata": {},
   "source": [
    "Para averiguar cual es el pais que no coincide, usaré un filtro por lista de TRUE/FALSE:  \n",
    "1) partiendo de la lista de valores de columna que quiero comprobar (happiness_df\\$country)  \n",
    "2) creo una lista de TRUE o FALSE según los valores que cumplen una condición: los paises de rd que NO aparecen en df (el símbolo `!` implica negación o contrario)  \n",
    "3) al estar dentro de la selección de valores `[...]` de la lista inicial (rd\\$country), el resultado son solo los elementros que coinciden con un TRUE"
   ]
  },
  {
   "cell_type": "code",
   "execution_count": 45,
   "metadata": {
    "scrolled": true
   },
   "outputs": [
    {
     "data": {
      "text/html": [
       "<style>\n",
       ".list-inline {list-style: none; margin:0; padding: 0}\n",
       ".list-inline>li {display: inline-block}\n",
       ".list-inline>li:not(:last-child)::after {content: \"\\00b7\"; padding: 0 .5ex}\n",
       "</style>\n",
       "<ol class=list-inline><li>'Taiwan'</li><li>'Slovakia'</li><li>'Hong Kong'</li><li>'North Cyprus'</li><li>'Kosovo'</li><li>'Kyrgyzstan'</li><li>'Somaliland region'</li><li>'Laos'</li><li>'Palestinian Territories'</li><li>'Congo (Kinshasa)'</li><li>'Macedonia'</li><li>'Myanmar'</li><li>'Congo (Brazzaville)'</li><li>'Afghanistan'</li></ol>\n"
      ],
      "text/latex": [
       "\\begin{enumerate*}\n",
       "\\item 'Taiwan'\n",
       "\\item 'Slovakia'\n",
       "\\item 'Hong Kong'\n",
       "\\item 'North Cyprus'\n",
       "\\item 'Kosovo'\n",
       "\\item 'Kyrgyzstan'\n",
       "\\item 'Somaliland region'\n",
       "\\item 'Laos'\n",
       "\\item 'Palestinian Territories'\n",
       "\\item 'Congo (Kinshasa)'\n",
       "\\item 'Macedonia'\n",
       "\\item 'Myanmar'\n",
       "\\item 'Congo (Brazzaville)'\n",
       "\\item 'Afghanistan'\n",
       "\\end{enumerate*}\n"
      ],
      "text/markdown": [
       "1. 'Taiwan'\n",
       "2. 'Slovakia'\n",
       "3. 'Hong Kong'\n",
       "4. 'North Cyprus'\n",
       "5. 'Kosovo'\n",
       "6. 'Kyrgyzstan'\n",
       "7. 'Somaliland region'\n",
       "8. 'Laos'\n",
       "9. 'Palestinian Territories'\n",
       "10. 'Congo (Kinshasa)'\n",
       "11. 'Macedonia'\n",
       "12. 'Myanmar'\n",
       "13. 'Congo (Brazzaville)'\n",
       "14. 'Afghanistan'\n",
       "\n",
       "\n"
      ],
      "text/plain": [
       " [1] \"Taiwan\"                  \"Slovakia\"               \n",
       " [3] \"Hong Kong\"               \"North Cyprus\"           \n",
       " [5] \"Kosovo\"                  \"Kyrgyzstan\"             \n",
       " [7] \"Somaliland region\"       \"Laos\"                   \n",
       " [9] \"Palestinian Territories\" \"Congo (Kinshasa)\"       \n",
       "[11] \"Macedonia\"               \"Myanmar\"                \n",
       "[13] \"Congo (Brazzaville)\"     \"Afghanistan\"            "
      ]
     },
     "metadata": {},
     "output_type": "display_data"
    }
   ],
   "source": [
    "happiness_df$country[!happiness_df$country %in% df$country]"
   ]
  },
  {
   "cell_type": "markdown",
   "metadata": {},
   "source": [
    "Estos son los paises cuyos nombres en la tabla de happiness index no coinciden con la de datos mundiales. Para los ejemplos de uniones podemos continuar sin corregirlo, aunque para un caso real habría que realizar un emparejamiento mas detallado de equivalencias de nombres."
   ]
  },
  {
   "cell_type": "markdown",
   "metadata": {},
   "source": [
    "### Union interna (inner join) \n",
    "En primer lugar, vamos a probar a hacer una unión del los casos compartidos entre ambas tablas. En este caso nos referiremos a las tablas así:  \n",
    "- df (datos globales) será la tabla de partida y por lo tanto la de la \"izquierda\"  \n",
    "- rd será la segunda tabla, la de la \"derecha\"\n",
    "\n",
    "**Sintaxis:** \n",
    "inner_join(`dataframe izquierda`, `dataframe derecha`, `by` = campo/s en común para unir)  \n",
    "\n",
    "Por defecto, si no se especifica el `by`, buscará una columna con el mismo nombre en ambas tablas. Es preferible especificarselo, y es fundamental en casos donde el nombre no coincida. En ese caso, se haría por ejemplo `by = c(\"country\" = \"pais\")`"
   ]
  },
  {
   "cell_type": "code",
   "execution_count": 69,
   "metadata": {
    "scrolled": true
   },
   "outputs": [
    {
     "data": {
      "text/html": [
       "<table class=\"dataframe\">\n",
       "<caption>A data.frame: 10 × 12</caption>\n",
       "<thead>\n",
       "\t<tr><th></th><th scope=col>country</th><th scope=col>year.x</th><th scope=col>infant_mortality</th><th scope=col>life_expectancy</th><th scope=col>fertility</th><th scope=col>population</th><th scope=col>gdp</th><th scope=col>continent</th><th scope=col>region</th><th scope=col>happiness_ranking</th><th scope=col>happiness_score</th><th scope=col>year.y</th></tr>\n",
       "\t<tr><th></th><th scope=col>&lt;chr&gt;</th><th scope=col>&lt;int&gt;</th><th scope=col>&lt;dbl&gt;</th><th scope=col>&lt;dbl&gt;</th><th scope=col>&lt;dbl&gt;</th><th scope=col>&lt;dbl&gt;</th><th scope=col>&lt;dbl&gt;</th><th scope=col>&lt;fct&gt;</th><th scope=col>&lt;fct&gt;</th><th scope=col>&lt;dbl&gt;</th><th scope=col>&lt;dbl&gt;</th><th scope=col>&lt;dbl&gt;</th></tr>\n",
       "</thead>\n",
       "<tbody>\n",
       "\t<tr><th scope=row>1</th><td>Albania   </td><td>1960</td><td>115.40</td><td>62.87</td><td>6.19</td><td> 1636054</td><td>          NA</td><td>Europe  </td><td>Southern Europe          </td><td> 62</td><td>5.550</td><td>2011</td></tr>\n",
       "\t<tr><th scope=row>2</th><td>Algeria   </td><td>1960</td><td>148.20</td><td>47.50</td><td>7.65</td><td>11124892</td><td> 13828152297</td><td>Africa  </td><td>Northern Africa          </td><td> 73</td><td>5.422</td><td>2011</td></tr>\n",
       "\t<tr><th scope=row>3</th><td>Angola    </td><td>1960</td><td>208.00</td><td>35.98</td><td>7.32</td><td> 5270844</td><td>          NA</td><td>Africa  </td><td>Middle Africa            </td><td> 61</td><td>5.589</td><td>2011</td></tr>\n",
       "\t<tr><th scope=row>4</th><td>Argentina </td><td>1960</td><td> 59.87</td><td>65.39</td><td>3.11</td><td>20619075</td><td>108322326649</td><td>Americas</td><td>South America            </td><td> 29</td><td>6.562</td><td>2011</td></tr>\n",
       "\t<tr><th scope=row>5</th><td>Armenia   </td><td>1960</td><td>    NA</td><td>66.86</td><td>4.55</td><td> 1867396</td><td>          NA</td><td>Asia    </td><td>Western Asia             </td><td>128</td><td>4.316</td><td>2011</td></tr>\n",
       "\t<tr><th scope=row>6</th><td>Australia </td><td>1960</td><td> 20.30</td><td>70.87</td><td>3.45</td><td>10292328</td><td> 96677859364</td><td>Oceania </td><td>Australia and New Zealand</td><td> 10</td><td>7.350</td><td>2011</td></tr>\n",
       "\t<tr><th scope=row>7</th><td>Austria   </td><td>1960</td><td> 37.30</td><td>68.75</td><td>2.70</td><td> 7065525</td><td> 52392699681</td><td>Europe  </td><td>Western Europe           </td><td>  8</td><td>7.369</td><td>2011</td></tr>\n",
       "\t<tr><th scope=row>8</th><td>Azerbaijan</td><td>1960</td><td>    NA</td><td>61.33</td><td>5.57</td><td> 3897889</td><td>          NA</td><td>Asia    </td><td>Western Asia             </td><td>116</td><td>4.604</td><td>2011</td></tr>\n",
       "\t<tr><th scope=row>9</th><td>Bahrain   </td><td>1960</td><td>134.50</td><td>51.64</td><td>7.09</td><td>  162501</td><td>          NA</td><td>Asia    </td><td>Western Asia             </td><td> 79</td><td>5.312</td><td>2011</td></tr>\n",
       "\t<tr><th scope=row>10</th><td>Bangladesh</td><td>1960</td><td>176.30</td><td>46.20</td><td>6.73</td><td>48200702</td><td> 12767231590</td><td>Asia    </td><td>Southern Asia            </td><td>108</td><td>4.804</td><td>2011</td></tr>\n",
       "</tbody>\n",
       "</table>\n"
      ],
      "text/latex": [
       "A data.frame: 10 × 12\n",
       "\\begin{tabular}{r|llllllllllll}\n",
       "  & country & year.x & infant\\_mortality & life\\_expectancy & fertility & population & gdp & continent & region & happiness\\_ranking & happiness\\_score & year.y\\\\\n",
       "  & <chr> & <int> & <dbl> & <dbl> & <dbl> & <dbl> & <dbl> & <fct> & <fct> & <dbl> & <dbl> & <dbl>\\\\\n",
       "\\hline\n",
       "\t1 & Albania    & 1960 & 115.40 & 62.87 & 6.19 &  1636054 &           NA & Europe   & Southern Europe           &  62 & 5.550 & 2011\\\\\n",
       "\t2 & Algeria    & 1960 & 148.20 & 47.50 & 7.65 & 11124892 &  13828152297 & Africa   & Northern Africa           &  73 & 5.422 & 2011\\\\\n",
       "\t3 & Angola     & 1960 & 208.00 & 35.98 & 7.32 &  5270844 &           NA & Africa   & Middle Africa             &  61 & 5.589 & 2011\\\\\n",
       "\t4 & Argentina  & 1960 &  59.87 & 65.39 & 3.11 & 20619075 & 108322326649 & Americas & South America             &  29 & 6.562 & 2011\\\\\n",
       "\t5 & Armenia    & 1960 &     NA & 66.86 & 4.55 &  1867396 &           NA & Asia     & Western Asia              & 128 & 4.316 & 2011\\\\\n",
       "\t6 & Australia  & 1960 &  20.30 & 70.87 & 3.45 & 10292328 &  96677859364 & Oceania  & Australia and New Zealand &  10 & 7.350 & 2011\\\\\n",
       "\t7 & Austria    & 1960 &  37.30 & 68.75 & 2.70 &  7065525 &  52392699681 & Europe   & Western Europe            &   8 & 7.369 & 2011\\\\\n",
       "\t8 & Azerbaijan & 1960 &     NA & 61.33 & 5.57 &  3897889 &           NA & Asia     & Western Asia              & 116 & 4.604 & 2011\\\\\n",
       "\t9 & Bahrain    & 1960 & 134.50 & 51.64 & 7.09 &   162501 &           NA & Asia     & Western Asia              &  79 & 5.312 & 2011\\\\\n",
       "\t10 & Bangladesh & 1960 & 176.30 & 46.20 & 6.73 & 48200702 &  12767231590 & Asia     & Southern Asia             & 108 & 4.804 & 2011\\\\\n",
       "\\end{tabular}\n"
      ],
      "text/markdown": [
       "\n",
       "A data.frame: 10 × 12\n",
       "\n",
       "| <!--/--> | country &lt;chr&gt; | year.x &lt;int&gt; | infant_mortality &lt;dbl&gt; | life_expectancy &lt;dbl&gt; | fertility &lt;dbl&gt; | population &lt;dbl&gt; | gdp &lt;dbl&gt; | continent &lt;fct&gt; | region &lt;fct&gt; | happiness_ranking &lt;dbl&gt; | happiness_score &lt;dbl&gt; | year.y &lt;dbl&gt; |\n",
       "|---|---|---|---|---|---|---|---|---|---|---|---|---|\n",
       "| 1 | Albania    | 1960 | 115.40 | 62.87 | 6.19 |  1636054 |           NA | Europe   | Southern Europe           |  62 | 5.550 | 2011 |\n",
       "| 2 | Algeria    | 1960 | 148.20 | 47.50 | 7.65 | 11124892 |  13828152297 | Africa   | Northern Africa           |  73 | 5.422 | 2011 |\n",
       "| 3 | Angola     | 1960 | 208.00 | 35.98 | 7.32 |  5270844 |           NA | Africa   | Middle Africa             |  61 | 5.589 | 2011 |\n",
       "| 4 | Argentina  | 1960 |  59.87 | 65.39 | 3.11 | 20619075 | 108322326649 | Americas | South America             |  29 | 6.562 | 2011 |\n",
       "| 5 | Armenia    | 1960 |     NA | 66.86 | 4.55 |  1867396 |           NA | Asia     | Western Asia              | 128 | 4.316 | 2011 |\n",
       "| 6 | Australia  | 1960 |  20.30 | 70.87 | 3.45 | 10292328 |  96677859364 | Oceania  | Australia and New Zealand |  10 | 7.350 | 2011 |\n",
       "| 7 | Austria    | 1960 |  37.30 | 68.75 | 2.70 |  7065525 |  52392699681 | Europe   | Western Europe            |   8 | 7.369 | 2011 |\n",
       "| 8 | Azerbaijan | 1960 |     NA | 61.33 | 5.57 |  3897889 |           NA | Asia     | Western Asia              | 116 | 4.604 | 2011 |\n",
       "| 9 | Bahrain    | 1960 | 134.50 | 51.64 | 7.09 |   162501 |           NA | Asia     | Western Asia              |  79 | 5.312 | 2011 |\n",
       "| 10 | Bangladesh | 1960 | 176.30 | 46.20 | 6.73 | 48200702 |  12767231590 | Asia     | Southern Asia             | 108 | 4.804 | 2011 |\n",
       "\n"
      ],
      "text/plain": [
       "   country    year.x infant_mortality life_expectancy fertility population\n",
       "1  Albania    1960   115.40           62.87           6.19       1636054  \n",
       "2  Algeria    1960   148.20           47.50           7.65      11124892  \n",
       "3  Angola     1960   208.00           35.98           7.32       5270844  \n",
       "4  Argentina  1960    59.87           65.39           3.11      20619075  \n",
       "5  Armenia    1960       NA           66.86           4.55       1867396  \n",
       "6  Australia  1960    20.30           70.87           3.45      10292328  \n",
       "7  Austria    1960    37.30           68.75           2.70       7065525  \n",
       "8  Azerbaijan 1960       NA           61.33           5.57       3897889  \n",
       "9  Bahrain    1960   134.50           51.64           7.09        162501  \n",
       "10 Bangladesh 1960   176.30           46.20           6.73      48200702  \n",
       "   gdp          continent region                    happiness_ranking\n",
       "1            NA Europe    Southern Europe            62              \n",
       "2   13828152297 Africa    Northern Africa            73              \n",
       "3            NA Africa    Middle Africa              61              \n",
       "4  108322326649 Americas  South America              29              \n",
       "5            NA Asia      Western Asia              128              \n",
       "6   96677859364 Oceania   Australia and New Zealand  10              \n",
       "7   52392699681 Europe    Western Europe              8              \n",
       "8            NA Asia      Western Asia              116              \n",
       "9            NA Asia      Western Asia               79              \n",
       "10  12767231590 Asia      Southern Asia             108              \n",
       "   happiness_score year.y\n",
       "1  5.550           2011  \n",
       "2  5.422           2011  \n",
       "3  5.589           2011  \n",
       "4  6.562           2011  \n",
       "5  4.316           2011  \n",
       "6  7.350           2011  \n",
       "7  7.369           2011  \n",
       "8  4.604           2011  \n",
       "9  5.312           2011  \n",
       "10 4.804           2011  "
      ]
     },
     "metadata": {},
     "output_type": "display_data"
    }
   ],
   "source": [
    "#union por \"country\"\n",
    "inner_join(df, happiness_df, by = \"country\") %>% head(10)"
   ]
  },
  {
   "cell_type": "markdown",
   "metadata": {},
   "source": [
    "El ejemplo anterior funciona, pero le une la misma información a todas las observaciones de cada país, que corresponde solo a un periodo concreto.  \n",
    "\n",
    "Para solucionarlo, vamos a añadir a la tabla happiness_df un campo de año (2011). De esta manera, ahora se puede realizar la unión por más de un campo (país y año), y en ese caso irá haciéndolo jerárquicamente en el orden en el que se indiquen (primero queremos unión por país, y dentro de eso unión al año concreto"
   ]
  },
  {
   "cell_type": "code",
   "execution_count": 52,
   "metadata": {
    "scrolled": true
   },
   "outputs": [
    {
     "data": {
      "text/html": [
       "<table class=\"dataframe\">\n",
       "<caption>A data.frame: 10 × 11</caption>\n",
       "<thead>\n",
       "\t<tr><th></th><th scope=col>country</th><th scope=col>year</th><th scope=col>infant_mortality</th><th scope=col>life_expectancy</th><th scope=col>fertility</th><th scope=col>population</th><th scope=col>gdp</th><th scope=col>continent</th><th scope=col>region</th><th scope=col>happiness_ranking</th><th scope=col>happiness_score</th></tr>\n",
       "\t<tr><th></th><th scope=col>&lt;chr&gt;</th><th scope=col>&lt;dbl&gt;</th><th scope=col>&lt;dbl&gt;</th><th scope=col>&lt;dbl&gt;</th><th scope=col>&lt;dbl&gt;</th><th scope=col>&lt;dbl&gt;</th><th scope=col>&lt;dbl&gt;</th><th scope=col>&lt;fct&gt;</th><th scope=col>&lt;fct&gt;</th><th scope=col>&lt;dbl&gt;</th><th scope=col>&lt;dbl&gt;</th></tr>\n",
       "</thead>\n",
       "<tbody>\n",
       "\t<tr><th scope=row>1</th><td>Albania   </td><td>2011</td><td> 14.3</td><td>77.4</td><td>1.75</td><td>  2886010</td><td>  6321690864</td><td>Europe  </td><td>Southern Europe          </td><td> 62</td><td>5.550</td></tr>\n",
       "\t<tr><th scope=row>2</th><td>Algeria   </td><td>2011</td><td> 22.8</td><td>76.1</td><td>2.83</td><td> 36717132</td><td> 81143448101</td><td>Africa  </td><td>Northern Africa          </td><td> 73</td><td>5.422</td></tr>\n",
       "\t<tr><th scope=row>3</th><td>Angola    </td><td>2011</td><td>106.8</td><td>58.1</td><td>6.10</td><td> 21942296</td><td> 27013935821</td><td>Africa  </td><td>Middle Africa            </td><td> 61</td><td>5.589</td></tr>\n",
       "\t<tr><th scope=row>4</th><td>Argentina </td><td>2011</td><td> 12.7</td><td>76.0</td><td>2.20</td><td> 41655616</td><td>472935255184</td><td>Americas</td><td>South America            </td><td> 29</td><td>6.562</td></tr>\n",
       "\t<tr><th scope=row>5</th><td>Armenia   </td><td>2011</td><td> 15.3</td><td>73.5</td><td>1.50</td><td>  2967984</td><td>  4290990647</td><td>Asia    </td><td>Western Asia             </td><td>128</td><td>4.316</td></tr>\n",
       "\t<tr><th scope=row>6</th><td>Australia </td><td>2011</td><td>  3.8</td><td>82.2</td><td>1.88</td><td> 22542371</td><td>573453982173</td><td>Oceania </td><td>Australia and New Zealand</td><td> 10</td><td>7.350</td></tr>\n",
       "\t<tr><th scope=row>7</th><td>Austria   </td><td>2011</td><td>  3.4</td><td>80.7</td><td>1.44</td><td>  8423559</td><td>230913313559</td><td>Europe  </td><td>Western Europe           </td><td>  8</td><td>7.369</td></tr>\n",
       "\t<tr><th scope=row>8</th><td>Azerbaijan</td><td>2011</td><td> 32.5</td><td>70.8</td><td>1.96</td><td>  9227512</td><td> 21443003646</td><td>Asia    </td><td>Western Asia             </td><td>116</td><td>4.604</td></tr>\n",
       "\t<tr><th scope=row>9</th><td>Bahrain   </td><td>2011</td><td>  6.7</td><td>78.8</td><td>2.12</td><td>  1306014</td><td>          NA</td><td>Asia    </td><td>Western Asia             </td><td> 79</td><td>5.312</td></tr>\n",
       "\t<tr><th scope=row>10</th><td>Bangladesh</td><td>2011</td><td> 37.2</td><td>69.3</td><td>2.24</td><td>153405612</td><td> 88507817581</td><td>Asia    </td><td>Southern Asia            </td><td>108</td><td>4.804</td></tr>\n",
       "</tbody>\n",
       "</table>\n"
      ],
      "text/latex": [
       "A data.frame: 10 × 11\n",
       "\\begin{tabular}{r|lllllllllll}\n",
       "  & country & year & infant\\_mortality & life\\_expectancy & fertility & population & gdp & continent & region & happiness\\_ranking & happiness\\_score\\\\\n",
       "  & <chr> & <dbl> & <dbl> & <dbl> & <dbl> & <dbl> & <dbl> & <fct> & <fct> & <dbl> & <dbl>\\\\\n",
       "\\hline\n",
       "\t1 & Albania    & 2011 &  14.3 & 77.4 & 1.75 &   2886010 &   6321690864 & Europe   & Southern Europe           &  62 & 5.550\\\\\n",
       "\t2 & Algeria    & 2011 &  22.8 & 76.1 & 2.83 &  36717132 &  81143448101 & Africa   & Northern Africa           &  73 & 5.422\\\\\n",
       "\t3 & Angola     & 2011 & 106.8 & 58.1 & 6.10 &  21942296 &  27013935821 & Africa   & Middle Africa             &  61 & 5.589\\\\\n",
       "\t4 & Argentina  & 2011 &  12.7 & 76.0 & 2.20 &  41655616 & 472935255184 & Americas & South America             &  29 & 6.562\\\\\n",
       "\t5 & Armenia    & 2011 &  15.3 & 73.5 & 1.50 &   2967984 &   4290990647 & Asia     & Western Asia              & 128 & 4.316\\\\\n",
       "\t6 & Australia  & 2011 &   3.8 & 82.2 & 1.88 &  22542371 & 573453982173 & Oceania  & Australia and New Zealand &  10 & 7.350\\\\\n",
       "\t7 & Austria    & 2011 &   3.4 & 80.7 & 1.44 &   8423559 & 230913313559 & Europe   & Western Europe            &   8 & 7.369\\\\\n",
       "\t8 & Azerbaijan & 2011 &  32.5 & 70.8 & 1.96 &   9227512 &  21443003646 & Asia     & Western Asia              & 116 & 4.604\\\\\n",
       "\t9 & Bahrain    & 2011 &   6.7 & 78.8 & 2.12 &   1306014 &           NA & Asia     & Western Asia              &  79 & 5.312\\\\\n",
       "\t10 & Bangladesh & 2011 &  37.2 & 69.3 & 2.24 & 153405612 &  88507817581 & Asia     & Southern Asia             & 108 & 4.804\\\\\n",
       "\\end{tabular}\n"
      ],
      "text/markdown": [
       "\n",
       "A data.frame: 10 × 11\n",
       "\n",
       "| <!--/--> | country &lt;chr&gt; | year &lt;dbl&gt; | infant_mortality &lt;dbl&gt; | life_expectancy &lt;dbl&gt; | fertility &lt;dbl&gt; | population &lt;dbl&gt; | gdp &lt;dbl&gt; | continent &lt;fct&gt; | region &lt;fct&gt; | happiness_ranking &lt;dbl&gt; | happiness_score &lt;dbl&gt; |\n",
       "|---|---|---|---|---|---|---|---|---|---|---|---|\n",
       "| 1 | Albania    | 2011 |  14.3 | 77.4 | 1.75 |   2886010 |   6321690864 | Europe   | Southern Europe           |  62 | 5.550 |\n",
       "| 2 | Algeria    | 2011 |  22.8 | 76.1 | 2.83 |  36717132 |  81143448101 | Africa   | Northern Africa           |  73 | 5.422 |\n",
       "| 3 | Angola     | 2011 | 106.8 | 58.1 | 6.10 |  21942296 |  27013935821 | Africa   | Middle Africa             |  61 | 5.589 |\n",
       "| 4 | Argentina  | 2011 |  12.7 | 76.0 | 2.20 |  41655616 | 472935255184 | Americas | South America             |  29 | 6.562 |\n",
       "| 5 | Armenia    | 2011 |  15.3 | 73.5 | 1.50 |   2967984 |   4290990647 | Asia     | Western Asia              | 128 | 4.316 |\n",
       "| 6 | Australia  | 2011 |   3.8 | 82.2 | 1.88 |  22542371 | 573453982173 | Oceania  | Australia and New Zealand |  10 | 7.350 |\n",
       "| 7 | Austria    | 2011 |   3.4 | 80.7 | 1.44 |   8423559 | 230913313559 | Europe   | Western Europe            |   8 | 7.369 |\n",
       "| 8 | Azerbaijan | 2011 |  32.5 | 70.8 | 1.96 |   9227512 |  21443003646 | Asia     | Western Asia              | 116 | 4.604 |\n",
       "| 9 | Bahrain    | 2011 |   6.7 | 78.8 | 2.12 |   1306014 |           NA | Asia     | Western Asia              |  79 | 5.312 |\n",
       "| 10 | Bangladesh | 2011 |  37.2 | 69.3 | 2.24 | 153405612 |  88507817581 | Asia     | Southern Asia             | 108 | 4.804 |\n",
       "\n"
      ],
      "text/plain": [
       "   country    year infant_mortality life_expectancy fertility population\n",
       "1  Albania    2011  14.3            77.4            1.75        2886010 \n",
       "2  Algeria    2011  22.8            76.1            2.83       36717132 \n",
       "3  Angola     2011 106.8            58.1            6.10       21942296 \n",
       "4  Argentina  2011  12.7            76.0            2.20       41655616 \n",
       "5  Armenia    2011  15.3            73.5            1.50        2967984 \n",
       "6  Australia  2011   3.8            82.2            1.88       22542371 \n",
       "7  Austria    2011   3.4            80.7            1.44        8423559 \n",
       "8  Azerbaijan 2011  32.5            70.8            1.96        9227512 \n",
       "9  Bahrain    2011   6.7            78.8            2.12        1306014 \n",
       "10 Bangladesh 2011  37.2            69.3            2.24      153405612 \n",
       "   gdp          continent region                    happiness_ranking\n",
       "1    6321690864 Europe    Southern Europe            62              \n",
       "2   81143448101 Africa    Northern Africa            73              \n",
       "3   27013935821 Africa    Middle Africa              61              \n",
       "4  472935255184 Americas  South America              29              \n",
       "5    4290990647 Asia      Western Asia              128              \n",
       "6  573453982173 Oceania   Australia and New Zealand  10              \n",
       "7  230913313559 Europe    Western Europe              8              \n",
       "8   21443003646 Asia      Western Asia              116              \n",
       "9            NA Asia      Western Asia               79              \n",
       "10  88507817581 Asia      Southern Asia             108              \n",
       "   happiness_score\n",
       "1  5.550          \n",
       "2  5.422          \n",
       "3  5.589          \n",
       "4  6.562          \n",
       "5  4.316          \n",
       "6  7.350          \n",
       "7  7.369          \n",
       "8  4.604          \n",
       "9  5.312          \n",
       "10 4.804          "
      ]
     },
     "metadata": {},
     "output_type": "display_data"
    }
   ],
   "source": [
    "#Unión usando las dos tablas originales\n",
    "#Los campos de unión se indican con un vector c(...)\n",
    "happiness_df$year <- 2011\n",
    "inner_join(df, happiness_df, by = c(\"country\", \"year\")) %>% head(10)"
   ]
  },
  {
   "cell_type": "markdown",
   "metadata": {},
   "source": [
    "### Union de múltiples tablas  \n",
    "Para mostrar un ejemplo más complejo, vamos a cargar dos tablas más:  \n",
    "- Ranking de Human Developement Index para el mismo periodo, obtenido de [aquí](https://www.nationsonline.org/oneworld/human_development_2011.htm)  \n",
    "- Lista de los paises de la [OECD](https://en.wikipedia.org/wiki/OECD)"
   ]
  },
  {
   "cell_type": "code",
   "execution_count": 64,
   "metadata": {},
   "outputs": [
    {
     "data": {
      "text/html": [
       "<table class=\"dataframe\">\n",
       "<caption>A tibble: 5 × 3</caption>\n",
       "<thead>\n",
       "\t<tr><th scope=col>hdi_ranking</th><th scope=col>Country</th><th scope=col>hdi_score</th></tr>\n",
       "\t<tr><th scope=col>&lt;dbl&gt;</th><th scope=col>&lt;chr&gt;</th><th scope=col>&lt;dbl&gt;</th></tr>\n",
       "</thead>\n",
       "<tbody>\n",
       "\t<tr><td>1</td><td>Norway       </td><td>0.943</td></tr>\n",
       "\t<tr><td>2</td><td>Australia    </td><td>0.929</td></tr>\n",
       "\t<tr><td>3</td><td>Netherlands  </td><td>0.910</td></tr>\n",
       "\t<tr><td>4</td><td>United States</td><td>0.910</td></tr>\n",
       "\t<tr><td>5</td><td>New Zealand  </td><td>0.908</td></tr>\n",
       "</tbody>\n",
       "</table>\n"
      ],
      "text/latex": [
       "A tibble: 5 × 3\n",
       "\\begin{tabular}{lll}\n",
       " hdi\\_ranking & Country & hdi\\_score\\\\\n",
       " <dbl> & <chr> & <dbl>\\\\\n",
       "\\hline\n",
       "\t 1 & Norway        & 0.943\\\\\n",
       "\t 2 & Australia     & 0.929\\\\\n",
       "\t 3 & Netherlands   & 0.910\\\\\n",
       "\t 4 & United States & 0.910\\\\\n",
       "\t 5 & New Zealand   & 0.908\\\\\n",
       "\\end{tabular}\n"
      ],
      "text/markdown": [
       "\n",
       "A tibble: 5 × 3\n",
       "\n",
       "| hdi_ranking &lt;dbl&gt; | Country &lt;chr&gt; | hdi_score &lt;dbl&gt; |\n",
       "|---|---|---|\n",
       "| 1 | Norway        | 0.943 |\n",
       "| 2 | Australia     | 0.929 |\n",
       "| 3 | Netherlands   | 0.910 |\n",
       "| 4 | United States | 0.910 |\n",
       "| 5 | New Zealand   | 0.908 |\n",
       "\n"
      ],
      "text/plain": [
       "  hdi_ranking Country       hdi_score\n",
       "1 1           Norway        0.943    \n",
       "2 2           Australia     0.929    \n",
       "3 3           Netherlands   0.910    \n",
       "4 4           United States 0.910    \n",
       "5 5           New Zealand   0.908    "
      ]
     },
     "metadata": {},
     "output_type": "display_data"
    }
   ],
   "source": [
    "hdi_df <- read_delim(\"https://raw.githubusercontent.com/AngelArcones/R_for_friends/main/Tutoriales/Datasets/HDI_index.csv\",\n",
    "                 delim = \";\", col_types = cols())\n",
    "head(hdi_df, 5)"
   ]
  },
  {
   "cell_type": "code",
   "execution_count": 56,
   "metadata": {},
   "outputs": [
    {
     "data": {
      "text/html": [
       "<table class=\"dataframe\">\n",
       "<caption>A spec_tbl_df: 20 × 1</caption>\n",
       "<thead>\n",
       "\t<tr><th scope=col>country</th></tr>\n",
       "\t<tr><th scope=col>&lt;chr&gt;</th></tr>\n",
       "</thead>\n",
       "<tbody>\n",
       "\t<tr><td>Austria       </td></tr>\n",
       "\t<tr><td>Belgium       </td></tr>\n",
       "\t<tr><td>Canada        </td></tr>\n",
       "\t<tr><td>Denmark       </td></tr>\n",
       "\t<tr><td>France        </td></tr>\n",
       "\t<tr><td>Germany       </td></tr>\n",
       "\t<tr><td>Greece        </td></tr>\n",
       "\t<tr><td>Iceland       </td></tr>\n",
       "\t<tr><td>Ireland       </td></tr>\n",
       "\t<tr><td>Italy         </td></tr>\n",
       "\t<tr><td>Luxembourg    </td></tr>\n",
       "\t<tr><td>Netherlands   </td></tr>\n",
       "\t<tr><td>Norway        </td></tr>\n",
       "\t<tr><td>Portugal      </td></tr>\n",
       "\t<tr><td>Spain         </td></tr>\n",
       "\t<tr><td>Sweden        </td></tr>\n",
       "\t<tr><td>Switzerland   </td></tr>\n",
       "\t<tr><td>Turkey        </td></tr>\n",
       "\t<tr><td>United Kingdom</td></tr>\n",
       "\t<tr><td>United States </td></tr>\n",
       "</tbody>\n",
       "</table>\n"
      ],
      "text/latex": [
       "A spec\\_tbl\\_df: 20 × 1\n",
       "\\begin{tabular}{l}\n",
       " country\\\\\n",
       " <chr>\\\\\n",
       "\\hline\n",
       "\t Austria       \\\\\n",
       "\t Belgium       \\\\\n",
       "\t Canada        \\\\\n",
       "\t Denmark       \\\\\n",
       "\t France        \\\\\n",
       "\t Germany       \\\\\n",
       "\t Greece        \\\\\n",
       "\t Iceland       \\\\\n",
       "\t Ireland       \\\\\n",
       "\t Italy         \\\\\n",
       "\t Luxembourg    \\\\\n",
       "\t Netherlands   \\\\\n",
       "\t Norway        \\\\\n",
       "\t Portugal      \\\\\n",
       "\t Spain         \\\\\n",
       "\t Sweden        \\\\\n",
       "\t Switzerland   \\\\\n",
       "\t Turkey        \\\\\n",
       "\t United Kingdom\\\\\n",
       "\t United States \\\\\n",
       "\\end{tabular}\n"
      ],
      "text/markdown": [
       "\n",
       "A spec_tbl_df: 20 × 1\n",
       "\n",
       "| country &lt;chr&gt; |\n",
       "|---|\n",
       "| Austria        |\n",
       "| Belgium        |\n",
       "| Canada         |\n",
       "| Denmark        |\n",
       "| France         |\n",
       "| Germany        |\n",
       "| Greece         |\n",
       "| Iceland        |\n",
       "| Ireland        |\n",
       "| Italy          |\n",
       "| Luxembourg     |\n",
       "| Netherlands    |\n",
       "| Norway         |\n",
       "| Portugal       |\n",
       "| Spain          |\n",
       "| Sweden         |\n",
       "| Switzerland    |\n",
       "| Turkey         |\n",
       "| United Kingdom |\n",
       "| United States  |\n",
       "\n"
      ],
      "text/plain": [
       "   country       \n",
       "1  Austria       \n",
       "2  Belgium       \n",
       "3  Canada        \n",
       "4  Denmark       \n",
       "5  France        \n",
       "6  Germany       \n",
       "7  Greece        \n",
       "8  Iceland       \n",
       "9  Ireland       \n",
       "10 Italy         \n",
       "11 Luxembourg    \n",
       "12 Netherlands   \n",
       "13 Norway        \n",
       "14 Portugal      \n",
       "15 Spain         \n",
       "16 Sweden        \n",
       "17 Switzerland   \n",
       "18 Turkey        \n",
       "19 United Kingdom\n",
       "20 United States "
      ]
     },
     "metadata": {},
     "output_type": "display_data"
    }
   ],
   "source": [
    "oecd_df <- read_delim(\"https://raw.githubusercontent.com/AngelArcones/R_for_friends/main/Tutoriales/Datasets/OECD_countries.csv\",\n",
    "                 delim = \";\", col_types = cols())\n",
    "oecd_df"
   ]
  },
  {
   "cell_type": "markdown",
   "metadata": {},
   "source": [
    "Y con estos 4 datasets (datos globales, happiness index, HDI index y OECD) la idea va a ser obtener una tabla final con toda la información económica y de desarrollo, para los paises miembros de la OECD. Para ello, los pasos son:  \n",
    "1) Unir la información global con la de happines, coincidiendo pais y año (inner join)\n",
    "2) A esa tabla, incorporarle la información disponible de HDI index (left join)\n",
    "3) El resultado, combinarlo con la de OECD para quedarnos solo con los paises ahí incluidos (inner join)  \n",
    "\n",
    "Todo esto se puede hacer en una sola línea, concatenando joins. El resultado final se guardará en un nuevo objeto `total_df`.\n",
    "\n",
    "**NOTA**: en la tablacde HDI, la columna se llama \"Country\" con mayuscula. En ese caso se debe indicar que esa es la equivalente a \"country\""
   ]
  },
  {
   "cell_type": "code",
   "execution_count": 68,
   "metadata": {},
   "outputs": [
    {
     "data": {
      "text/html": [
       "<table class=\"dataframe\">\n",
       "<caption>A data.frame: 20 × 13</caption>\n",
       "<thead>\n",
       "\t<tr><th scope=col>country</th><th scope=col>year</th><th scope=col>infant_mortality</th><th scope=col>life_expectancy</th><th scope=col>fertility</th><th scope=col>population</th><th scope=col>gdp</th><th scope=col>continent</th><th scope=col>region</th><th scope=col>happiness_ranking</th><th scope=col>happiness_score</th><th scope=col>hdi_ranking</th><th scope=col>hdi_score</th></tr>\n",
       "\t<tr><th scope=col>&lt;chr&gt;</th><th scope=col>&lt;dbl&gt;</th><th scope=col>&lt;dbl&gt;</th><th scope=col>&lt;dbl&gt;</th><th scope=col>&lt;dbl&gt;</th><th scope=col>&lt;dbl&gt;</th><th scope=col>&lt;dbl&gt;</th><th scope=col>&lt;fct&gt;</th><th scope=col>&lt;fct&gt;</th><th scope=col>&lt;dbl&gt;</th><th scope=col>&lt;dbl&gt;</th><th scope=col>&lt;dbl&gt;</th><th scope=col>&lt;dbl&gt;</th></tr>\n",
       "</thead>\n",
       "<tbody>\n",
       "\t<tr><td>Denmark       </td><td>2011</td><td> 3.2</td><td>79.9</td><td>1.76</td><td>  5576577</td><td>1.710519e+11</td><td>Europe  </td><td>Northern Europe </td><td> 1</td><td>7.693</td><td>16</td><td>0.895</td></tr>\n",
       "\t<tr><td>Norway        </td><td>2011</td><td> 2.5</td><td>81.1</td><td>1.88</td><td>  4953945</td><td>1.982526e+11</td><td>Europe  </td><td>Northern Europe </td><td> 2</td><td>7.655</td><td> 1</td><td>0.943</td></tr>\n",
       "\t<tr><td>Switzerland   </td><td>2011</td><td> 3.8</td><td>82.6</td><td>1.51</td><td>  7925813</td><td>3.009384e+11</td><td>Europe  </td><td>Western Europe  </td><td> 3</td><td>7.650</td><td>11</td><td>0.903</td></tr>\n",
       "\t<tr><td>Netherlands   </td><td>2011</td><td> 3.6</td><td>80.9</td><td>1.76</td><td> 16689863</td><td>4.463622e+11</td><td>Europe  </td><td>Western Europe  </td><td> 4</td><td>7.512</td><td> 3</td><td>0.910</td></tr>\n",
       "\t<tr><td>Sweden        </td><td>2011</td><td> 2.4</td><td>81.7</td><td>1.90</td><td>  9462352</td><td>3.167986e+11</td><td>Europe  </td><td>Northern Europe </td><td> 5</td><td>7.480</td><td>10</td><td>0.904</td></tr>\n",
       "\t<tr><td>Canada        </td><td>2011</td><td> 4.7</td><td>81.6</td><td>1.61</td><td> 34499905</td><td>8.942519e+11</td><td>Americas</td><td>Northern America</td><td> 6</td><td>7.477</td><td> 6</td><td>0.908</td></tr>\n",
       "\t<tr><td>Austria       </td><td>2011</td><td> 3.4</td><td>80.7</td><td>1.44</td><td>  8423559</td><td>2.309133e+11</td><td>Europe  </td><td>Western Europe  </td><td> 8</td><td>7.369</td><td>19</td><td>0.885</td></tr>\n",
       "\t<tr><td>Iceland       </td><td>2011</td><td> 1.8</td><td>82.9</td><td>2.11</td><td>   321030</td><td>1.110516e+10</td><td>Europe  </td><td>Northern Europe </td><td> 9</td><td>7.355</td><td>14</td><td>0.898</td></tr>\n",
       "\t<tr><td>United States </td><td>2011</td><td> 6.1</td><td>78.9</td><td>1.90</td><td>312390368</td><td>1.174422e+13</td><td>Americas</td><td>Northern America</td><td>17</td><td>7.082</td><td> 4</td><td>0.910</td></tr>\n",
       "\t<tr><td>Ireland       </td><td>2011</td><td> 3.4</td><td>80.6</td><td>2.00</td><td>  4652714</td><td>1.226236e+11</td><td>Europe  </td><td>Northern Europe </td><td>18</td><td>7.076</td><td> 7</td><td>0.908</td></tr>\n",
       "\t<tr><td>Luxembourg    </td><td>2011</td><td> 1.8</td><td>81.5</td><td>1.65</td><td>   519981</td><td>2.692859e+10</td><td>Europe  </td><td>Western Europe  </td><td>19</td><td>7.054</td><td>25</td><td>0.867</td></tr>\n",
       "\t<tr><td>Belgium       </td><td>2011</td><td> 3.5</td><td>80.2</td><td>1.85</td><td> 11005175</td><td>2.722711e+11</td><td>Europe  </td><td>Western Europe  </td><td>21</td><td>6.967</td><td>18</td><td>0.886</td></tr>\n",
       "\t<tr><td>United Kingdom</td><td>2011</td><td> 4.2</td><td>80.5</td><td>1.90</td><td> 63164949</td><td>1.756002e+12</td><td>Europe  </td><td>Northern Europe </td><td>22</td><td>6.883</td><td>28</td><td>0.863</td></tr>\n",
       "\t<tr><td>France        </td><td>2011</td><td> 3.5</td><td>81.6</td><td>1.98</td><td> 63268405</td><td>1.506143e+12</td><td>Europe  </td><td>Western Europe  </td><td>25</td><td>6.764</td><td>20</td><td>0.884</td></tr>\n",
       "\t<tr><td>Germany       </td><td>2011</td><td> 3.4</td><td>80.5</td><td>1.40</td><td> 80424665</td><td>2.131457e+12</td><td>Europe  </td><td>Western Europe  </td><td>26</td><td>6.672</td><td> 9</td><td>0.905</td></tr>\n",
       "\t<tr><td>Spain         </td><td>2011</td><td> 3.8</td><td>82.0</td><td>1.47</td><td> 46708366</td><td>7.171940e+11</td><td>Europe  </td><td>Southern Europe </td><td>38</td><td>6.322</td><td>23</td><td>0.878</td></tr>\n",
       "\t<tr><td>Italy         </td><td>2011</td><td> 3.3</td><td>82.0</td><td>1.45</td><td> 59678993</td><td>1.150683e+12</td><td>Europe  </td><td>Southern Europe </td><td>45</td><td>6.021</td><td>24</td><td>0.874</td></tr>\n",
       "\t<tr><td>Greece        </td><td>2011</td><td> 4.0</td><td>80.5</td><td>1.51</td><td> 11153047</td><td>1.430345e+11</td><td>Europe  </td><td>Southern Europe </td><td>70</td><td>5.435</td><td>29</td><td>0.861</td></tr>\n",
       "\t<tr><td>Turkey        </td><td>2011</td><td>15.3</td><td>78.8</td><td>2.08</td><td> 73517002</td><td>4.227388e+11</td><td>Asia    </td><td>Western Asia    </td><td>77</td><td>5.345</td><td>NA</td><td>   NA</td></tr>\n",
       "\t<tr><td>Portugal      </td><td>2011</td><td> 3.1</td><td>80.2</td><td>1.33</td><td> 10558909</td><td>1.229525e+11</td><td>Europe  </td><td>Southern Europe </td><td>85</td><td>5.101</td><td>41</td><td>0.809</td></tr>\n",
       "</tbody>\n",
       "</table>\n"
      ],
      "text/latex": [
       "A data.frame: 20 × 13\n",
       "\\begin{tabular}{lllllllllllll}\n",
       " country & year & infant\\_mortality & life\\_expectancy & fertility & population & gdp & continent & region & happiness\\_ranking & happiness\\_score & hdi\\_ranking & hdi\\_score\\\\\n",
       " <chr> & <dbl> & <dbl> & <dbl> & <dbl> & <dbl> & <dbl> & <fct> & <fct> & <dbl> & <dbl> & <dbl> & <dbl>\\\\\n",
       "\\hline\n",
       "\t Denmark        & 2011 &  3.2 & 79.9 & 1.76 &   5576577 & 1.710519e+11 & Europe   & Northern Europe  &  1 & 7.693 & 16 & 0.895\\\\\n",
       "\t Norway         & 2011 &  2.5 & 81.1 & 1.88 &   4953945 & 1.982526e+11 & Europe   & Northern Europe  &  2 & 7.655 &  1 & 0.943\\\\\n",
       "\t Switzerland    & 2011 &  3.8 & 82.6 & 1.51 &   7925813 & 3.009384e+11 & Europe   & Western Europe   &  3 & 7.650 & 11 & 0.903\\\\\n",
       "\t Netherlands    & 2011 &  3.6 & 80.9 & 1.76 &  16689863 & 4.463622e+11 & Europe   & Western Europe   &  4 & 7.512 &  3 & 0.910\\\\\n",
       "\t Sweden         & 2011 &  2.4 & 81.7 & 1.90 &   9462352 & 3.167986e+11 & Europe   & Northern Europe  &  5 & 7.480 & 10 & 0.904\\\\\n",
       "\t Canada         & 2011 &  4.7 & 81.6 & 1.61 &  34499905 & 8.942519e+11 & Americas & Northern America &  6 & 7.477 &  6 & 0.908\\\\\n",
       "\t Austria        & 2011 &  3.4 & 80.7 & 1.44 &   8423559 & 2.309133e+11 & Europe   & Western Europe   &  8 & 7.369 & 19 & 0.885\\\\\n",
       "\t Iceland        & 2011 &  1.8 & 82.9 & 2.11 &    321030 & 1.110516e+10 & Europe   & Northern Europe  &  9 & 7.355 & 14 & 0.898\\\\\n",
       "\t United States  & 2011 &  6.1 & 78.9 & 1.90 & 312390368 & 1.174422e+13 & Americas & Northern America & 17 & 7.082 &  4 & 0.910\\\\\n",
       "\t Ireland        & 2011 &  3.4 & 80.6 & 2.00 &   4652714 & 1.226236e+11 & Europe   & Northern Europe  & 18 & 7.076 &  7 & 0.908\\\\\n",
       "\t Luxembourg     & 2011 &  1.8 & 81.5 & 1.65 &    519981 & 2.692859e+10 & Europe   & Western Europe   & 19 & 7.054 & 25 & 0.867\\\\\n",
       "\t Belgium        & 2011 &  3.5 & 80.2 & 1.85 &  11005175 & 2.722711e+11 & Europe   & Western Europe   & 21 & 6.967 & 18 & 0.886\\\\\n",
       "\t United Kingdom & 2011 &  4.2 & 80.5 & 1.90 &  63164949 & 1.756002e+12 & Europe   & Northern Europe  & 22 & 6.883 & 28 & 0.863\\\\\n",
       "\t France         & 2011 &  3.5 & 81.6 & 1.98 &  63268405 & 1.506143e+12 & Europe   & Western Europe   & 25 & 6.764 & 20 & 0.884\\\\\n",
       "\t Germany        & 2011 &  3.4 & 80.5 & 1.40 &  80424665 & 2.131457e+12 & Europe   & Western Europe   & 26 & 6.672 &  9 & 0.905\\\\\n",
       "\t Spain          & 2011 &  3.8 & 82.0 & 1.47 &  46708366 & 7.171940e+11 & Europe   & Southern Europe  & 38 & 6.322 & 23 & 0.878\\\\\n",
       "\t Italy          & 2011 &  3.3 & 82.0 & 1.45 &  59678993 & 1.150683e+12 & Europe   & Southern Europe  & 45 & 6.021 & 24 & 0.874\\\\\n",
       "\t Greece         & 2011 &  4.0 & 80.5 & 1.51 &  11153047 & 1.430345e+11 & Europe   & Southern Europe  & 70 & 5.435 & 29 & 0.861\\\\\n",
       "\t Turkey         & 2011 & 15.3 & 78.8 & 2.08 &  73517002 & 4.227388e+11 & Asia     & Western Asia     & 77 & 5.345 & NA &    NA\\\\\n",
       "\t Portugal       & 2011 &  3.1 & 80.2 & 1.33 &  10558909 & 1.229525e+11 & Europe   & Southern Europe  & 85 & 5.101 & 41 & 0.809\\\\\n",
       "\\end{tabular}\n"
      ],
      "text/markdown": [
       "\n",
       "A data.frame: 20 × 13\n",
       "\n",
       "| country &lt;chr&gt; | year &lt;dbl&gt; | infant_mortality &lt;dbl&gt; | life_expectancy &lt;dbl&gt; | fertility &lt;dbl&gt; | population &lt;dbl&gt; | gdp &lt;dbl&gt; | continent &lt;fct&gt; | region &lt;fct&gt; | happiness_ranking &lt;dbl&gt; | happiness_score &lt;dbl&gt; | hdi_ranking &lt;dbl&gt; | hdi_score &lt;dbl&gt; |\n",
       "|---|---|---|---|---|---|---|---|---|---|---|---|---|\n",
       "| Denmark        | 2011 |  3.2 | 79.9 | 1.76 |   5576577 | 1.710519e+11 | Europe   | Northern Europe  |  1 | 7.693 | 16 | 0.895 |\n",
       "| Norway         | 2011 |  2.5 | 81.1 | 1.88 |   4953945 | 1.982526e+11 | Europe   | Northern Europe  |  2 | 7.655 |  1 | 0.943 |\n",
       "| Switzerland    | 2011 |  3.8 | 82.6 | 1.51 |   7925813 | 3.009384e+11 | Europe   | Western Europe   |  3 | 7.650 | 11 | 0.903 |\n",
       "| Netherlands    | 2011 |  3.6 | 80.9 | 1.76 |  16689863 | 4.463622e+11 | Europe   | Western Europe   |  4 | 7.512 |  3 | 0.910 |\n",
       "| Sweden         | 2011 |  2.4 | 81.7 | 1.90 |   9462352 | 3.167986e+11 | Europe   | Northern Europe  |  5 | 7.480 | 10 | 0.904 |\n",
       "| Canada         | 2011 |  4.7 | 81.6 | 1.61 |  34499905 | 8.942519e+11 | Americas | Northern America |  6 | 7.477 |  6 | 0.908 |\n",
       "| Austria        | 2011 |  3.4 | 80.7 | 1.44 |   8423559 | 2.309133e+11 | Europe   | Western Europe   |  8 | 7.369 | 19 | 0.885 |\n",
       "| Iceland        | 2011 |  1.8 | 82.9 | 2.11 |    321030 | 1.110516e+10 | Europe   | Northern Europe  |  9 | 7.355 | 14 | 0.898 |\n",
       "| United States  | 2011 |  6.1 | 78.9 | 1.90 | 312390368 | 1.174422e+13 | Americas | Northern America | 17 | 7.082 |  4 | 0.910 |\n",
       "| Ireland        | 2011 |  3.4 | 80.6 | 2.00 |   4652714 | 1.226236e+11 | Europe   | Northern Europe  | 18 | 7.076 |  7 | 0.908 |\n",
       "| Luxembourg     | 2011 |  1.8 | 81.5 | 1.65 |    519981 | 2.692859e+10 | Europe   | Western Europe   | 19 | 7.054 | 25 | 0.867 |\n",
       "| Belgium        | 2011 |  3.5 | 80.2 | 1.85 |  11005175 | 2.722711e+11 | Europe   | Western Europe   | 21 | 6.967 | 18 | 0.886 |\n",
       "| United Kingdom | 2011 |  4.2 | 80.5 | 1.90 |  63164949 | 1.756002e+12 | Europe   | Northern Europe  | 22 | 6.883 | 28 | 0.863 |\n",
       "| France         | 2011 |  3.5 | 81.6 | 1.98 |  63268405 | 1.506143e+12 | Europe   | Western Europe   | 25 | 6.764 | 20 | 0.884 |\n",
       "| Germany        | 2011 |  3.4 | 80.5 | 1.40 |  80424665 | 2.131457e+12 | Europe   | Western Europe   | 26 | 6.672 |  9 | 0.905 |\n",
       "| Spain          | 2011 |  3.8 | 82.0 | 1.47 |  46708366 | 7.171940e+11 | Europe   | Southern Europe  | 38 | 6.322 | 23 | 0.878 |\n",
       "| Italy          | 2011 |  3.3 | 82.0 | 1.45 |  59678993 | 1.150683e+12 | Europe   | Southern Europe  | 45 | 6.021 | 24 | 0.874 |\n",
       "| Greece         | 2011 |  4.0 | 80.5 | 1.51 |  11153047 | 1.430345e+11 | Europe   | Southern Europe  | 70 | 5.435 | 29 | 0.861 |\n",
       "| Turkey         | 2011 | 15.3 | 78.8 | 2.08 |  73517002 | 4.227388e+11 | Asia     | Western Asia     | 77 | 5.345 | NA |    NA |\n",
       "| Portugal       | 2011 |  3.1 | 80.2 | 1.33 |  10558909 | 1.229525e+11 | Europe   | Southern Europe  | 85 | 5.101 | 41 | 0.809 |\n",
       "\n"
      ],
      "text/plain": [
       "   country        year infant_mortality life_expectancy fertility population\n",
       "1  Denmark        2011  3.2             79.9            1.76        5576577 \n",
       "2  Norway         2011  2.5             81.1            1.88        4953945 \n",
       "3  Switzerland    2011  3.8             82.6            1.51        7925813 \n",
       "4  Netherlands    2011  3.6             80.9            1.76       16689863 \n",
       "5  Sweden         2011  2.4             81.7            1.90        9462352 \n",
       "6  Canada         2011  4.7             81.6            1.61       34499905 \n",
       "7  Austria        2011  3.4             80.7            1.44        8423559 \n",
       "8  Iceland        2011  1.8             82.9            2.11         321030 \n",
       "9  United States  2011  6.1             78.9            1.90      312390368 \n",
       "10 Ireland        2011  3.4             80.6            2.00        4652714 \n",
       "11 Luxembourg     2011  1.8             81.5            1.65         519981 \n",
       "12 Belgium        2011  3.5             80.2            1.85       11005175 \n",
       "13 United Kingdom 2011  4.2             80.5            1.90       63164949 \n",
       "14 France         2011  3.5             81.6            1.98       63268405 \n",
       "15 Germany        2011  3.4             80.5            1.40       80424665 \n",
       "16 Spain          2011  3.8             82.0            1.47       46708366 \n",
       "17 Italy          2011  3.3             82.0            1.45       59678993 \n",
       "18 Greece         2011  4.0             80.5            1.51       11153047 \n",
       "19 Turkey         2011 15.3             78.8            2.08       73517002 \n",
       "20 Portugal       2011  3.1             80.2            1.33       10558909 \n",
       "   gdp          continent region           happiness_ranking happiness_score\n",
       "1  1.710519e+11 Europe    Northern Europe   1                7.693          \n",
       "2  1.982526e+11 Europe    Northern Europe   2                7.655          \n",
       "3  3.009384e+11 Europe    Western Europe    3                7.650          \n",
       "4  4.463622e+11 Europe    Western Europe    4                7.512          \n",
       "5  3.167986e+11 Europe    Northern Europe   5                7.480          \n",
       "6  8.942519e+11 Americas  Northern America  6                7.477          \n",
       "7  2.309133e+11 Europe    Western Europe    8                7.369          \n",
       "8  1.110516e+10 Europe    Northern Europe   9                7.355          \n",
       "9  1.174422e+13 Americas  Northern America 17                7.082          \n",
       "10 1.226236e+11 Europe    Northern Europe  18                7.076          \n",
       "11 2.692859e+10 Europe    Western Europe   19                7.054          \n",
       "12 2.722711e+11 Europe    Western Europe   21                6.967          \n",
       "13 1.756002e+12 Europe    Northern Europe  22                6.883          \n",
       "14 1.506143e+12 Europe    Western Europe   25                6.764          \n",
       "15 2.131457e+12 Europe    Western Europe   26                6.672          \n",
       "16 7.171940e+11 Europe    Southern Europe  38                6.322          \n",
       "17 1.150683e+12 Europe    Southern Europe  45                6.021          \n",
       "18 1.430345e+11 Europe    Southern Europe  70                5.435          \n",
       "19 4.227388e+11 Asia      Western Asia     77                5.345          \n",
       "20 1.229525e+11 Europe    Southern Europe  85                5.101          \n",
       "   hdi_ranking hdi_score\n",
       "1  16          0.895    \n",
       "2   1          0.943    \n",
       "3  11          0.903    \n",
       "4   3          0.910    \n",
       "5  10          0.904    \n",
       "6   6          0.908    \n",
       "7  19          0.885    \n",
       "8  14          0.898    \n",
       "9   4          0.910    \n",
       "10  7          0.908    \n",
       "11 25          0.867    \n",
       "12 18          0.886    \n",
       "13 28          0.863    \n",
       "14 20          0.884    \n",
       "15  9          0.905    \n",
       "16 23          0.878    \n",
       "17 24          0.874    \n",
       "18 29          0.861    \n",
       "19 NA             NA    \n",
       "20 41          0.809    "
      ]
     },
     "metadata": {},
     "output_type": "display_data"
    }
   ],
   "source": [
    "total_df <- inner_join(df, happiness_df, by = c(\"country\", \"year\")) %>%\n",
    "            left_join(hdi_df, by = c(\"country\" = \"Country\")) %>%\n",
    "            inner_join(oecd_df, by = \"country\") %>%\n",
    "            arrange(happiness_ranking)\n",
    "total_df"
   ]
  },
  {
   "cell_type": "markdown",
   "metadata": {},
   "source": [
    "### Reshapes (cambiar la distribución de la tabla)\n",
    "\n",
    "Pasar filas a columnas o viceversa"
   ]
  },
  {
   "cell_type": "code",
   "execution_count": null,
   "metadata": {},
   "outputs": [],
   "source": []
  }
 ],
 "metadata": {
  "kernelspec": {
   "display_name": "R",
   "language": "R",
   "name": "ir"
  },
  "language_info": {
   "codemirror_mode": "r",
   "file_extension": ".r",
   "mimetype": "text/x-r-source",
   "name": "R",
   "pygments_lexer": "r",
   "version": "4.0.5"
  }
 },
 "nbformat": 4,
 "nbformat_minor": 2
}
